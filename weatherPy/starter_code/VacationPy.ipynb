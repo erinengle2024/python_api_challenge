{
 "cells": [
  {
   "cell_type": "markdown",
   "metadata": {},
   "source": [
    "# VacationPy\n",
    "---\n",
    "\n",
    "## Starter Code to Import Libraries and Load the Weather and Coordinates Data"
   ]
  },
  {
   "cell_type": "code",
   "execution_count": 1,
   "metadata": {
    "tags": []
   },
   "outputs": [
    {
     "data": {
      "application/javascript": [
       "(function(root) {\n",
       "  function now() {\n",
       "    return new Date();\n",
       "  }\n",
       "\n",
       "  var force = true;\n",
       "  var py_version = '3.2.1'.replace('rc', '-rc.').replace('.dev', '-dev.');\n",
       "  var is_dev = py_version.indexOf(\"+\") !== -1 || py_version.indexOf(\"-\") !== -1;\n",
       "  var reloading = false;\n",
       "  var Bokeh = root.Bokeh;\n",
       "  var bokeh_loaded = Bokeh != null && (Bokeh.version === py_version || (Bokeh.versions !== undefined && Bokeh.versions.has(py_version)));\n",
       "\n",
       "  if (typeof (root._bokeh_timeout) === \"undefined\" || force) {\n",
       "    root._bokeh_timeout = Date.now() + 5000;\n",
       "    root._bokeh_failed_load = false;\n",
       "  }\n",
       "\n",
       "  function run_callbacks() {\n",
       "    try {\n",
       "      root._bokeh_onload_callbacks.forEach(function(callback) {\n",
       "        if (callback != null)\n",
       "          callback();\n",
       "      });\n",
       "    } finally {\n",
       "      delete root._bokeh_onload_callbacks;\n",
       "    }\n",
       "    console.debug(\"Bokeh: all callbacks have finished\");\n",
       "  }\n",
       "\n",
       "  function load_libs(css_urls, js_urls, js_modules, js_exports, callback) {\n",
       "    if (css_urls == null) css_urls = [];\n",
       "    if (js_urls == null) js_urls = [];\n",
       "    if (js_modules == null) js_modules = [];\n",
       "    if (js_exports == null) js_exports = {};\n",
       "\n",
       "    root._bokeh_onload_callbacks.push(callback);\n",
       "\n",
       "    if (root._bokeh_is_loading > 0) {\n",
       "      console.debug(\"Bokeh: BokehJS is being loaded, scheduling callback at\", now());\n",
       "      return null;\n",
       "    }\n",
       "    if (js_urls.length === 0 && js_modules.length === 0 && Object.keys(js_exports).length === 0) {\n",
       "      run_callbacks();\n",
       "      return null;\n",
       "    }\n",
       "    if (!reloading) {\n",
       "      console.debug(\"Bokeh: BokehJS not loaded, scheduling load and callback at\", now());\n",
       "    }\n",
       "\n",
       "    function on_load() {\n",
       "      root._bokeh_is_loading--;\n",
       "      if (root._bokeh_is_loading === 0) {\n",
       "        console.debug(\"Bokeh: all BokehJS libraries/stylesheets loaded\");\n",
       "        run_callbacks()\n",
       "      }\n",
       "    }\n",
       "    window._bokeh_on_load = on_load\n",
       "\n",
       "    function on_error() {\n",
       "      console.error(\"failed to load \" + url);\n",
       "    }\n",
       "\n",
       "    var skip = [];\n",
       "    if (window.requirejs) {\n",
       "      window.requirejs.config({'packages': {}, 'paths': {'jspanel': 'https://cdn.jsdelivr.net/npm/jspanel4@4.12.0/dist/jspanel', 'jspanel-modal': 'https://cdn.jsdelivr.net/npm/jspanel4@4.12.0/dist/extensions/modal/jspanel.modal', 'jspanel-tooltip': 'https://cdn.jsdelivr.net/npm/jspanel4@4.12.0/dist/extensions/tooltip/jspanel.tooltip', 'jspanel-hint': 'https://cdn.jsdelivr.net/npm/jspanel4@4.12.0/dist/extensions/hint/jspanel.hint', 'jspanel-layout': 'https://cdn.jsdelivr.net/npm/jspanel4@4.12.0/dist/extensions/layout/jspanel.layout', 'jspanel-contextmenu': 'https://cdn.jsdelivr.net/npm/jspanel4@4.12.0/dist/extensions/contextmenu/jspanel.contextmenu', 'jspanel-dock': 'https://cdn.jsdelivr.net/npm/jspanel4@4.12.0/dist/extensions/dock/jspanel.dock', 'gridstack': 'https://cdn.jsdelivr.net/npm/gridstack@7.2.3/dist/gridstack-all', 'notyf': 'https://cdn.jsdelivr.net/npm/notyf@3/notyf.min'}, 'shim': {'jspanel': {'exports': 'jsPanel'}, 'gridstack': {'exports': 'GridStack'}}});\n",
       "      require([\"jspanel\"], function(jsPanel) {\n",
       "\twindow.jsPanel = jsPanel\n",
       "\ton_load()\n",
       "      })\n",
       "      require([\"jspanel-modal\"], function() {\n",
       "\ton_load()\n",
       "      })\n",
       "      require([\"jspanel-tooltip\"], function() {\n",
       "\ton_load()\n",
       "      })\n",
       "      require([\"jspanel-hint\"], function() {\n",
       "\ton_load()\n",
       "      })\n",
       "      require([\"jspanel-layout\"], function() {\n",
       "\ton_load()\n",
       "      })\n",
       "      require([\"jspanel-contextmenu\"], function() {\n",
       "\ton_load()\n",
       "      })\n",
       "      require([\"jspanel-dock\"], function() {\n",
       "\ton_load()\n",
       "      })\n",
       "      require([\"gridstack\"], function(GridStack) {\n",
       "\twindow.GridStack = GridStack\n",
       "\ton_load()\n",
       "      })\n",
       "      require([\"notyf\"], function() {\n",
       "\ton_load()\n",
       "      })\n",
       "      root._bokeh_is_loading = css_urls.length + 9;\n",
       "    } else {\n",
       "      root._bokeh_is_loading = css_urls.length + js_urls.length + js_modules.length + Object.keys(js_exports).length;\n",
       "    }\n",
       "\n",
       "    var existing_stylesheets = []\n",
       "    var links = document.getElementsByTagName('link')\n",
       "    for (var i = 0; i < links.length; i++) {\n",
       "      var link = links[i]\n",
       "      if (link.href != null) {\n",
       "\texisting_stylesheets.push(link.href)\n",
       "      }\n",
       "    }\n",
       "    for (var i = 0; i < css_urls.length; i++) {\n",
       "      var url = css_urls[i];\n",
       "      if (existing_stylesheets.indexOf(url) !== -1) {\n",
       "\ton_load()\n",
       "\tcontinue;\n",
       "      }\n",
       "      const element = document.createElement(\"link\");\n",
       "      element.onload = on_load;\n",
       "      element.onerror = on_error;\n",
       "      element.rel = \"stylesheet\";\n",
       "      element.type = \"text/css\";\n",
       "      element.href = url;\n",
       "      console.debug(\"Bokeh: injecting link tag for BokehJS stylesheet: \", url);\n",
       "      document.body.appendChild(element);\n",
       "    }    if (((window['jsPanel'] !== undefined) && (!(window['jsPanel'] instanceof HTMLElement))) || window.requirejs) {\n",
       "      var urls = ['https://cdn.holoviz.org/panel/1.2.3/dist/bundled/floatpanel/jspanel4@4.12.0/dist/jspanel.js', 'https://cdn.holoviz.org/panel/1.2.3/dist/bundled/floatpanel/jspanel4@4.12.0/dist/extensions/modal/jspanel.modal.js', 'https://cdn.holoviz.org/panel/1.2.3/dist/bundled/floatpanel/jspanel4@4.12.0/dist/extensions/tooltip/jspanel.tooltip.js', 'https://cdn.holoviz.org/panel/1.2.3/dist/bundled/floatpanel/jspanel4@4.12.0/dist/extensions/hint/jspanel.hint.js', 'https://cdn.holoviz.org/panel/1.2.3/dist/bundled/floatpanel/jspanel4@4.12.0/dist/extensions/layout/jspanel.layout.js', 'https://cdn.holoviz.org/panel/1.2.3/dist/bundled/floatpanel/jspanel4@4.12.0/dist/extensions/contextmenu/jspanel.contextmenu.js', 'https://cdn.holoviz.org/panel/1.2.3/dist/bundled/floatpanel/jspanel4@4.12.0/dist/extensions/dock/jspanel.dock.js'];\n",
       "      for (var i = 0; i < urls.length; i++) {\n",
       "        skip.push(urls[i])\n",
       "      }\n",
       "    }    if (((window['GridStack'] !== undefined) && (!(window['GridStack'] instanceof HTMLElement))) || window.requirejs) {\n",
       "      var urls = ['https://cdn.holoviz.org/panel/1.2.3/dist/bundled/gridstack/gridstack@7.2.3/dist/gridstack-all.js'];\n",
       "      for (var i = 0; i < urls.length; i++) {\n",
       "        skip.push(urls[i])\n",
       "      }\n",
       "    }    if (((window['Notyf'] !== undefined) && (!(window['Notyf'] instanceof HTMLElement))) || window.requirejs) {\n",
       "      var urls = ['https://cdn.holoviz.org/panel/1.2.3/dist/bundled/notificationarea/notyf@3/notyf.min.js'];\n",
       "      for (var i = 0; i < urls.length; i++) {\n",
       "        skip.push(urls[i])\n",
       "      }\n",
       "    }    var existing_scripts = []\n",
       "    var scripts = document.getElementsByTagName('script')\n",
       "    for (var i = 0; i < scripts.length; i++) {\n",
       "      var script = scripts[i]\n",
       "      if (script.src != null) {\n",
       "\texisting_scripts.push(script.src)\n",
       "      }\n",
       "    }\n",
       "    for (var i = 0; i < js_urls.length; i++) {\n",
       "      var url = js_urls[i];\n",
       "      if (skip.indexOf(url) !== -1 || existing_scripts.indexOf(url) !== -1) {\n",
       "\tif (!window.requirejs) {\n",
       "\t  on_load();\n",
       "\t}\n",
       "\tcontinue;\n",
       "      }\n",
       "      var element = document.createElement('script');\n",
       "      element.onload = on_load;\n",
       "      element.onerror = on_error;\n",
       "      element.async = false;\n",
       "      element.src = url;\n",
       "      console.debug(\"Bokeh: injecting script tag for BokehJS library: \", url);\n",
       "      document.head.appendChild(element);\n",
       "    }\n",
       "    for (var i = 0; i < js_modules.length; i++) {\n",
       "      var url = js_modules[i];\n",
       "      if (skip.indexOf(url) !== -1 || existing_scripts.indexOf(url) !== -1) {\n",
       "\tif (!window.requirejs) {\n",
       "\t  on_load();\n",
       "\t}\n",
       "\tcontinue;\n",
       "      }\n",
       "      var element = document.createElement('script');\n",
       "      element.onload = on_load;\n",
       "      element.onerror = on_error;\n",
       "      element.async = false;\n",
       "      element.src = url;\n",
       "      element.type = \"module\";\n",
       "      console.debug(\"Bokeh: injecting script tag for BokehJS library: \", url);\n",
       "      document.head.appendChild(element);\n",
       "    }\n",
       "    for (const name in js_exports) {\n",
       "      var url = js_exports[name];\n",
       "      if (skip.indexOf(url) >= 0 || root[name] != null) {\n",
       "\tif (!window.requirejs) {\n",
       "\t  on_load();\n",
       "\t}\n",
       "\tcontinue;\n",
       "      }\n",
       "      var element = document.createElement('script');\n",
       "      element.onerror = on_error;\n",
       "      element.async = false;\n",
       "      element.type = \"module\";\n",
       "      console.debug(\"Bokeh: injecting script tag for BokehJS library: \", url);\n",
       "      element.textContent = `\n",
       "      import ${name} from \"${url}\"\n",
       "      window.${name} = ${name}\n",
       "      window._bokeh_on_load()\n",
       "      `\n",
       "      document.head.appendChild(element);\n",
       "    }\n",
       "    if (!js_urls.length && !js_modules.length) {\n",
       "      on_load()\n",
       "    }\n",
       "  };\n",
       "\n",
       "  function inject_raw_css(css) {\n",
       "    const element = document.createElement(\"style\");\n",
       "    element.appendChild(document.createTextNode(css));\n",
       "    document.body.appendChild(element);\n",
       "  }\n",
       "\n",
       "  var js_urls = [\"https://cdn.bokeh.org/bokeh/release/bokeh-3.2.1.min.js\", \"https://cdn.bokeh.org/bokeh/release/bokeh-gl-3.2.1.min.js\", \"https://cdn.bokeh.org/bokeh/release/bokeh-widgets-3.2.1.min.js\", \"https://cdn.bokeh.org/bokeh/release/bokeh-tables-3.2.1.min.js\", \"https://cdn.holoviz.org/panel/1.2.3/dist/panel.min.js\"];\n",
       "  var js_modules = [];\n",
       "  var js_exports = {};\n",
       "  var css_urls = [];\n",
       "  var inline_js = [    function(Bokeh) {\n",
       "      Bokeh.set_log_level(\"info\");\n",
       "    },\n",
       "function(Bokeh) {} // ensure no trailing comma for IE\n",
       "  ];\n",
       "\n",
       "  function run_inline_js() {\n",
       "    if ((root.Bokeh !== undefined) || (force === true)) {\n",
       "      for (var i = 0; i < inline_js.length; i++) {\n",
       "        inline_js[i].call(root, root.Bokeh);\n",
       "      }\n",
       "      // Cache old bokeh versions\n",
       "      if (Bokeh != undefined && !reloading) {\n",
       "\tvar NewBokeh = root.Bokeh;\n",
       "\tif (Bokeh.versions === undefined) {\n",
       "\t  Bokeh.versions = new Map();\n",
       "\t}\n",
       "\tif (NewBokeh.version !== Bokeh.version) {\n",
       "\t  Bokeh.versions.set(NewBokeh.version, NewBokeh)\n",
       "\t}\n",
       "\troot.Bokeh = Bokeh;\n",
       "      }} else if (Date.now() < root._bokeh_timeout) {\n",
       "      setTimeout(run_inline_js, 100);\n",
       "    } else if (!root._bokeh_failed_load) {\n",
       "      console.log(\"Bokeh: BokehJS failed to load within specified timeout.\");\n",
       "      root._bokeh_failed_load = true;\n",
       "    }\n",
       "    root._bokeh_is_initializing = false\n",
       "  }\n",
       "\n",
       "  function load_or_wait() {\n",
       "    // Implement a backoff loop that tries to ensure we do not load multiple\n",
       "    // versions of Bokeh and its dependencies at the same time.\n",
       "    // In recent versions we use the root._bokeh_is_initializing flag\n",
       "    // to determine whether there is an ongoing attempt to initialize\n",
       "    // bokeh, however for backward compatibility we also try to ensure\n",
       "    // that we do not start loading a newer (Panel>=1.0 and Bokeh>3) version\n",
       "    // before older versions are fully initialized.\n",
       "    if (root._bokeh_is_initializing && Date.now() > root._bokeh_timeout) {\n",
       "      root._bokeh_is_initializing = false;\n",
       "      root._bokeh_onload_callbacks = undefined;\n",
       "      console.log(\"Bokeh: BokehJS was loaded multiple times but one version failed to initialize.\");\n",
       "      load_or_wait();\n",
       "    } else if (root._bokeh_is_initializing || (typeof root._bokeh_is_initializing === \"undefined\" && root._bokeh_onload_callbacks !== undefined)) {\n",
       "      setTimeout(load_or_wait, 100);\n",
       "    } else {\n",
       "      Bokeh = root.Bokeh;\n",
       "      bokeh_loaded = Bokeh != null && (Bokeh.version === py_version || (Bokeh.versions !== undefined && Bokeh.versions.has(py_version)));\n",
       "      root._bokeh_is_initializing = true\n",
       "      root._bokeh_onload_callbacks = []\n",
       "      if (!reloading && (!bokeh_loaded || is_dev)) {\n",
       "\troot.Bokeh = undefined;\n",
       "      }\n",
       "      load_libs(css_urls, js_urls, js_modules, js_exports, function() {\n",
       "\tconsole.debug(\"Bokeh: BokehJS plotting callback run at\", now());\n",
       "\trun_inline_js();\n",
       "      });\n",
       "    }\n",
       "  }\n",
       "  // Give older versions of the autoload script a head-start to ensure\n",
       "  // they initialize before we start loading newer version.\n",
       "  setTimeout(load_or_wait, 100)\n",
       "}(window));"
      ],
      "application/vnd.holoviews_load.v0+json": "(function(root) {\n  function now() {\n    return new Date();\n  }\n\n  var force = true;\n  var py_version = '3.2.1'.replace('rc', '-rc.').replace('.dev', '-dev.');\n  var is_dev = py_version.indexOf(\"+\") !== -1 || py_version.indexOf(\"-\") !== -1;\n  var reloading = false;\n  var Bokeh = root.Bokeh;\n  var bokeh_loaded = Bokeh != null && (Bokeh.version === py_version || (Bokeh.versions !== undefined && Bokeh.versions.has(py_version)));\n\n  if (typeof (root._bokeh_timeout) === \"undefined\" || force) {\n    root._bokeh_timeout = Date.now() + 5000;\n    root._bokeh_failed_load = false;\n  }\n\n  function run_callbacks() {\n    try {\n      root._bokeh_onload_callbacks.forEach(function(callback) {\n        if (callback != null)\n          callback();\n      });\n    } finally {\n      delete root._bokeh_onload_callbacks;\n    }\n    console.debug(\"Bokeh: all callbacks have finished\");\n  }\n\n  function load_libs(css_urls, js_urls, js_modules, js_exports, callback) {\n    if (css_urls == null) css_urls = [];\n    if (js_urls == null) js_urls = [];\n    if (js_modules == null) js_modules = [];\n    if (js_exports == null) js_exports = {};\n\n    root._bokeh_onload_callbacks.push(callback);\n\n    if (root._bokeh_is_loading > 0) {\n      console.debug(\"Bokeh: BokehJS is being loaded, scheduling callback at\", now());\n      return null;\n    }\n    if (js_urls.length === 0 && js_modules.length === 0 && Object.keys(js_exports).length === 0) {\n      run_callbacks();\n      return null;\n    }\n    if (!reloading) {\n      console.debug(\"Bokeh: BokehJS not loaded, scheduling load and callback at\", now());\n    }\n\n    function on_load() {\n      root._bokeh_is_loading--;\n      if (root._bokeh_is_loading === 0) {\n        console.debug(\"Bokeh: all BokehJS libraries/stylesheets loaded\");\n        run_callbacks()\n      }\n    }\n    window._bokeh_on_load = on_load\n\n    function on_error() {\n      console.error(\"failed to load \" + url);\n    }\n\n    var skip = [];\n    if (window.requirejs) {\n      window.requirejs.config({'packages': {}, 'paths': {'jspanel': 'https://cdn.jsdelivr.net/npm/jspanel4@4.12.0/dist/jspanel', 'jspanel-modal': 'https://cdn.jsdelivr.net/npm/jspanel4@4.12.0/dist/extensions/modal/jspanel.modal', 'jspanel-tooltip': 'https://cdn.jsdelivr.net/npm/jspanel4@4.12.0/dist/extensions/tooltip/jspanel.tooltip', 'jspanel-hint': 'https://cdn.jsdelivr.net/npm/jspanel4@4.12.0/dist/extensions/hint/jspanel.hint', 'jspanel-layout': 'https://cdn.jsdelivr.net/npm/jspanel4@4.12.0/dist/extensions/layout/jspanel.layout', 'jspanel-contextmenu': 'https://cdn.jsdelivr.net/npm/jspanel4@4.12.0/dist/extensions/contextmenu/jspanel.contextmenu', 'jspanel-dock': 'https://cdn.jsdelivr.net/npm/jspanel4@4.12.0/dist/extensions/dock/jspanel.dock', 'gridstack': 'https://cdn.jsdelivr.net/npm/gridstack@7.2.3/dist/gridstack-all', 'notyf': 'https://cdn.jsdelivr.net/npm/notyf@3/notyf.min'}, 'shim': {'jspanel': {'exports': 'jsPanel'}, 'gridstack': {'exports': 'GridStack'}}});\n      require([\"jspanel\"], function(jsPanel) {\n\twindow.jsPanel = jsPanel\n\ton_load()\n      })\n      require([\"jspanel-modal\"], function() {\n\ton_load()\n      })\n      require([\"jspanel-tooltip\"], function() {\n\ton_load()\n      })\n      require([\"jspanel-hint\"], function() {\n\ton_load()\n      })\n      require([\"jspanel-layout\"], function() {\n\ton_load()\n      })\n      require([\"jspanel-contextmenu\"], function() {\n\ton_load()\n      })\n      require([\"jspanel-dock\"], function() {\n\ton_load()\n      })\n      require([\"gridstack\"], function(GridStack) {\n\twindow.GridStack = GridStack\n\ton_load()\n      })\n      require([\"notyf\"], function() {\n\ton_load()\n      })\n      root._bokeh_is_loading = css_urls.length + 9;\n    } else {\n      root._bokeh_is_loading = css_urls.length + js_urls.length + js_modules.length + Object.keys(js_exports).length;\n    }\n\n    var existing_stylesheets = []\n    var links = document.getElementsByTagName('link')\n    for (var i = 0; i < links.length; i++) {\n      var link = links[i]\n      if (link.href != null) {\n\texisting_stylesheets.push(link.href)\n      }\n    }\n    for (var i = 0; i < css_urls.length; i++) {\n      var url = css_urls[i];\n      if (existing_stylesheets.indexOf(url) !== -1) {\n\ton_load()\n\tcontinue;\n      }\n      const element = document.createElement(\"link\");\n      element.onload = on_load;\n      element.onerror = on_error;\n      element.rel = \"stylesheet\";\n      element.type = \"text/css\";\n      element.href = url;\n      console.debug(\"Bokeh: injecting link tag for BokehJS stylesheet: \", url);\n      document.body.appendChild(element);\n    }    if (((window['jsPanel'] !== undefined) && (!(window['jsPanel'] instanceof HTMLElement))) || window.requirejs) {\n      var urls = ['https://cdn.holoviz.org/panel/1.2.3/dist/bundled/floatpanel/jspanel4@4.12.0/dist/jspanel.js', 'https://cdn.holoviz.org/panel/1.2.3/dist/bundled/floatpanel/jspanel4@4.12.0/dist/extensions/modal/jspanel.modal.js', 'https://cdn.holoviz.org/panel/1.2.3/dist/bundled/floatpanel/jspanel4@4.12.0/dist/extensions/tooltip/jspanel.tooltip.js', 'https://cdn.holoviz.org/panel/1.2.3/dist/bundled/floatpanel/jspanel4@4.12.0/dist/extensions/hint/jspanel.hint.js', 'https://cdn.holoviz.org/panel/1.2.3/dist/bundled/floatpanel/jspanel4@4.12.0/dist/extensions/layout/jspanel.layout.js', 'https://cdn.holoviz.org/panel/1.2.3/dist/bundled/floatpanel/jspanel4@4.12.0/dist/extensions/contextmenu/jspanel.contextmenu.js', 'https://cdn.holoviz.org/panel/1.2.3/dist/bundled/floatpanel/jspanel4@4.12.0/dist/extensions/dock/jspanel.dock.js'];\n      for (var i = 0; i < urls.length; i++) {\n        skip.push(urls[i])\n      }\n    }    if (((window['GridStack'] !== undefined) && (!(window['GridStack'] instanceof HTMLElement))) || window.requirejs) {\n      var urls = ['https://cdn.holoviz.org/panel/1.2.3/dist/bundled/gridstack/gridstack@7.2.3/dist/gridstack-all.js'];\n      for (var i = 0; i < urls.length; i++) {\n        skip.push(urls[i])\n      }\n    }    if (((window['Notyf'] !== undefined) && (!(window['Notyf'] instanceof HTMLElement))) || window.requirejs) {\n      var urls = ['https://cdn.holoviz.org/panel/1.2.3/dist/bundled/notificationarea/notyf@3/notyf.min.js'];\n      for (var i = 0; i < urls.length; i++) {\n        skip.push(urls[i])\n      }\n    }    var existing_scripts = []\n    var scripts = document.getElementsByTagName('script')\n    for (var i = 0; i < scripts.length; i++) {\n      var script = scripts[i]\n      if (script.src != null) {\n\texisting_scripts.push(script.src)\n      }\n    }\n    for (var i = 0; i < js_urls.length; i++) {\n      var url = js_urls[i];\n      if (skip.indexOf(url) !== -1 || existing_scripts.indexOf(url) !== -1) {\n\tif (!window.requirejs) {\n\t  on_load();\n\t}\n\tcontinue;\n      }\n      var element = document.createElement('script');\n      element.onload = on_load;\n      element.onerror = on_error;\n      element.async = false;\n      element.src = url;\n      console.debug(\"Bokeh: injecting script tag for BokehJS library: \", url);\n      document.head.appendChild(element);\n    }\n    for (var i = 0; i < js_modules.length; i++) {\n      var url = js_modules[i];\n      if (skip.indexOf(url) !== -1 || existing_scripts.indexOf(url) !== -1) {\n\tif (!window.requirejs) {\n\t  on_load();\n\t}\n\tcontinue;\n      }\n      var element = document.createElement('script');\n      element.onload = on_load;\n      element.onerror = on_error;\n      element.async = false;\n      element.src = url;\n      element.type = \"module\";\n      console.debug(\"Bokeh: injecting script tag for BokehJS library: \", url);\n      document.head.appendChild(element);\n    }\n    for (const name in js_exports) {\n      var url = js_exports[name];\n      if (skip.indexOf(url) >= 0 || root[name] != null) {\n\tif (!window.requirejs) {\n\t  on_load();\n\t}\n\tcontinue;\n      }\n      var element = document.createElement('script');\n      element.onerror = on_error;\n      element.async = false;\n      element.type = \"module\";\n      console.debug(\"Bokeh: injecting script tag for BokehJS library: \", url);\n      element.textContent = `\n      import ${name} from \"${url}\"\n      window.${name} = ${name}\n      window._bokeh_on_load()\n      `\n      document.head.appendChild(element);\n    }\n    if (!js_urls.length && !js_modules.length) {\n      on_load()\n    }\n  };\n\n  function inject_raw_css(css) {\n    const element = document.createElement(\"style\");\n    element.appendChild(document.createTextNode(css));\n    document.body.appendChild(element);\n  }\n\n  var js_urls = [\"https://cdn.bokeh.org/bokeh/release/bokeh-3.2.1.min.js\", \"https://cdn.bokeh.org/bokeh/release/bokeh-gl-3.2.1.min.js\", \"https://cdn.bokeh.org/bokeh/release/bokeh-widgets-3.2.1.min.js\", \"https://cdn.bokeh.org/bokeh/release/bokeh-tables-3.2.1.min.js\", \"https://cdn.holoviz.org/panel/1.2.3/dist/panel.min.js\"];\n  var js_modules = [];\n  var js_exports = {};\n  var css_urls = [];\n  var inline_js = [    function(Bokeh) {\n      Bokeh.set_log_level(\"info\");\n    },\nfunction(Bokeh) {} // ensure no trailing comma for IE\n  ];\n\n  function run_inline_js() {\n    if ((root.Bokeh !== undefined) || (force === true)) {\n      for (var i = 0; i < inline_js.length; i++) {\n        inline_js[i].call(root, root.Bokeh);\n      }\n      // Cache old bokeh versions\n      if (Bokeh != undefined && !reloading) {\n\tvar NewBokeh = root.Bokeh;\n\tif (Bokeh.versions === undefined) {\n\t  Bokeh.versions = new Map();\n\t}\n\tif (NewBokeh.version !== Bokeh.version) {\n\t  Bokeh.versions.set(NewBokeh.version, NewBokeh)\n\t}\n\troot.Bokeh = Bokeh;\n      }} else if (Date.now() < root._bokeh_timeout) {\n      setTimeout(run_inline_js, 100);\n    } else if (!root._bokeh_failed_load) {\n      console.log(\"Bokeh: BokehJS failed to load within specified timeout.\");\n      root._bokeh_failed_load = true;\n    }\n    root._bokeh_is_initializing = false\n  }\n\n  function load_or_wait() {\n    // Implement a backoff loop that tries to ensure we do not load multiple\n    // versions of Bokeh and its dependencies at the same time.\n    // In recent versions we use the root._bokeh_is_initializing flag\n    // to determine whether there is an ongoing attempt to initialize\n    // bokeh, however for backward compatibility we also try to ensure\n    // that we do not start loading a newer (Panel>=1.0 and Bokeh>3) version\n    // before older versions are fully initialized.\n    if (root._bokeh_is_initializing && Date.now() > root._bokeh_timeout) {\n      root._bokeh_is_initializing = false;\n      root._bokeh_onload_callbacks = undefined;\n      console.log(\"Bokeh: BokehJS was loaded multiple times but one version failed to initialize.\");\n      load_or_wait();\n    } else if (root._bokeh_is_initializing || (typeof root._bokeh_is_initializing === \"undefined\" && root._bokeh_onload_callbacks !== undefined)) {\n      setTimeout(load_or_wait, 100);\n    } else {\n      Bokeh = root.Bokeh;\n      bokeh_loaded = Bokeh != null && (Bokeh.version === py_version || (Bokeh.versions !== undefined && Bokeh.versions.has(py_version)));\n      root._bokeh_is_initializing = true\n      root._bokeh_onload_callbacks = []\n      if (!reloading && (!bokeh_loaded || is_dev)) {\n\troot.Bokeh = undefined;\n      }\n      load_libs(css_urls, js_urls, js_modules, js_exports, function() {\n\tconsole.debug(\"Bokeh: BokehJS plotting callback run at\", now());\n\trun_inline_js();\n      });\n    }\n  }\n  // Give older versions of the autoload script a head-start to ensure\n  // they initialize before we start loading newer version.\n  setTimeout(load_or_wait, 100)\n}(window));"
     },
     "metadata": {},
     "output_type": "display_data"
    },
    {
     "data": {
      "application/javascript": [
       "\n",
       "if ((window.PyViz === undefined) || (window.PyViz instanceof HTMLElement)) {\n",
       "  window.PyViz = {comms: {}, comm_status:{}, kernels:{}, receivers: {}, plot_index: []}\n",
       "}\n",
       "\n",
       "\n",
       "    function JupyterCommManager() {\n",
       "    }\n",
       "\n",
       "    JupyterCommManager.prototype.register_target = function(plot_id, comm_id, msg_handler) {\n",
       "      if (window.comm_manager || ((window.Jupyter !== undefined) && (Jupyter.notebook.kernel != null))) {\n",
       "        var comm_manager = window.comm_manager || Jupyter.notebook.kernel.comm_manager;\n",
       "        comm_manager.register_target(comm_id, function(comm) {\n",
       "          comm.on_msg(msg_handler);\n",
       "        });\n",
       "      } else if ((plot_id in window.PyViz.kernels) && (window.PyViz.kernels[plot_id])) {\n",
       "        window.PyViz.kernels[plot_id].registerCommTarget(comm_id, function(comm) {\n",
       "          comm.onMsg = msg_handler;\n",
       "        });\n",
       "      } else if (typeof google != 'undefined' && google.colab.kernel != null) {\n",
       "        google.colab.kernel.comms.registerTarget(comm_id, (comm) => {\n",
       "          var messages = comm.messages[Symbol.asyncIterator]();\n",
       "          function processIteratorResult(result) {\n",
       "            var message = result.value;\n",
       "            console.log(message)\n",
       "            var content = {data: message.data, comm_id};\n",
       "            var buffers = []\n",
       "            for (var buffer of message.buffers || []) {\n",
       "              buffers.push(new DataView(buffer))\n",
       "            }\n",
       "            var metadata = message.metadata || {};\n",
       "            var msg = {content, buffers, metadata}\n",
       "            msg_handler(msg);\n",
       "            return messages.next().then(processIteratorResult);\n",
       "          }\n",
       "          return messages.next().then(processIteratorResult);\n",
       "        })\n",
       "      }\n",
       "    }\n",
       "\n",
       "    JupyterCommManager.prototype.get_client_comm = function(plot_id, comm_id, msg_handler) {\n",
       "      if (comm_id in window.PyViz.comms) {\n",
       "        return window.PyViz.comms[comm_id];\n",
       "      } else if (window.comm_manager || ((window.Jupyter !== undefined) && (Jupyter.notebook.kernel != null))) {\n",
       "        var comm_manager = window.comm_manager || Jupyter.notebook.kernel.comm_manager;\n",
       "        var comm = comm_manager.new_comm(comm_id, {}, {}, {}, comm_id);\n",
       "        if (msg_handler) {\n",
       "          comm.on_msg(msg_handler);\n",
       "        }\n",
       "      } else if ((plot_id in window.PyViz.kernels) && (window.PyViz.kernels[plot_id])) {\n",
       "        var comm = window.PyViz.kernels[plot_id].connectToComm(comm_id);\n",
       "        comm.open();\n",
       "        if (msg_handler) {\n",
       "          comm.onMsg = msg_handler;\n",
       "        }\n",
       "      } else if (typeof google != 'undefined' && google.colab.kernel != null) {\n",
       "        var comm_promise = google.colab.kernel.comms.open(comm_id)\n",
       "        comm_promise.then((comm) => {\n",
       "          window.PyViz.comms[comm_id] = comm;\n",
       "          if (msg_handler) {\n",
       "            var messages = comm.messages[Symbol.asyncIterator]();\n",
       "            function processIteratorResult(result) {\n",
       "              var message = result.value;\n",
       "              var content = {data: message.data};\n",
       "              var metadata = message.metadata || {comm_id};\n",
       "              var msg = {content, metadata}\n",
       "              msg_handler(msg);\n",
       "              return messages.next().then(processIteratorResult);\n",
       "            }\n",
       "            return messages.next().then(processIteratorResult);\n",
       "          }\n",
       "        }) \n",
       "        var sendClosure = (data, metadata, buffers, disposeOnDone) => {\n",
       "          return comm_promise.then((comm) => {\n",
       "            comm.send(data, metadata, buffers, disposeOnDone);\n",
       "          });\n",
       "        };\n",
       "        var comm = {\n",
       "          send: sendClosure\n",
       "        };\n",
       "      }\n",
       "      window.PyViz.comms[comm_id] = comm;\n",
       "      return comm;\n",
       "    }\n",
       "    window.PyViz.comm_manager = new JupyterCommManager();\n",
       "    \n",
       "\n",
       "\n",
       "var JS_MIME_TYPE = 'application/javascript';\n",
       "var HTML_MIME_TYPE = 'text/html';\n",
       "var EXEC_MIME_TYPE = 'application/vnd.holoviews_exec.v0+json';\n",
       "var CLASS_NAME = 'output';\n",
       "\n",
       "/**\n",
       " * Render data to the DOM node\n",
       " */\n",
       "function render(props, node) {\n",
       "  var div = document.createElement(\"div\");\n",
       "  var script = document.createElement(\"script\");\n",
       "  node.appendChild(div);\n",
       "  node.appendChild(script);\n",
       "}\n",
       "\n",
       "/**\n",
       " * Handle when a new output is added\n",
       " */\n",
       "function handle_add_output(event, handle) {\n",
       "  var output_area = handle.output_area;\n",
       "  var output = handle.output;\n",
       "  if ((output.data == undefined) || (!output.data.hasOwnProperty(EXEC_MIME_TYPE))) {\n",
       "    return\n",
       "  }\n",
       "  var id = output.metadata[EXEC_MIME_TYPE][\"id\"];\n",
       "  var toinsert = output_area.element.find(\".\" + CLASS_NAME.split(' ')[0]);\n",
       "  if (id !== undefined) {\n",
       "    var nchildren = toinsert.length;\n",
       "    var html_node = toinsert[nchildren-1].children[0];\n",
       "    html_node.innerHTML = output.data[HTML_MIME_TYPE];\n",
       "    var scripts = [];\n",
       "    var nodelist = html_node.querySelectorAll(\"script\");\n",
       "    for (var i in nodelist) {\n",
       "      if (nodelist.hasOwnProperty(i)) {\n",
       "        scripts.push(nodelist[i])\n",
       "      }\n",
       "    }\n",
       "\n",
       "    scripts.forEach( function (oldScript) {\n",
       "      var newScript = document.createElement(\"script\");\n",
       "      var attrs = [];\n",
       "      var nodemap = oldScript.attributes;\n",
       "      for (var j in nodemap) {\n",
       "        if (nodemap.hasOwnProperty(j)) {\n",
       "          attrs.push(nodemap[j])\n",
       "        }\n",
       "      }\n",
       "      attrs.forEach(function(attr) { newScript.setAttribute(attr.name, attr.value) });\n",
       "      newScript.appendChild(document.createTextNode(oldScript.innerHTML));\n",
       "      oldScript.parentNode.replaceChild(newScript, oldScript);\n",
       "    });\n",
       "    if (JS_MIME_TYPE in output.data) {\n",
       "      toinsert[nchildren-1].children[1].textContent = output.data[JS_MIME_TYPE];\n",
       "    }\n",
       "    output_area._hv_plot_id = id;\n",
       "    if ((window.Bokeh !== undefined) && (id in Bokeh.index)) {\n",
       "      window.PyViz.plot_index[id] = Bokeh.index[id];\n",
       "    } else {\n",
       "      window.PyViz.plot_index[id] = null;\n",
       "    }\n",
       "  } else if (output.metadata[EXEC_MIME_TYPE][\"server_id\"] !== undefined) {\n",
       "    var bk_div = document.createElement(\"div\");\n",
       "    bk_div.innerHTML = output.data[HTML_MIME_TYPE];\n",
       "    var script_attrs = bk_div.children[0].attributes;\n",
       "    for (var i = 0; i < script_attrs.length; i++) {\n",
       "      toinsert[toinsert.length - 1].childNodes[1].setAttribute(script_attrs[i].name, script_attrs[i].value);\n",
       "    }\n",
       "    // store reference to server id on output_area\n",
       "    output_area._bokeh_server_id = output.metadata[EXEC_MIME_TYPE][\"server_id\"];\n",
       "  }\n",
       "}\n",
       "\n",
       "/**\n",
       " * Handle when an output is cleared or removed\n",
       " */\n",
       "function handle_clear_output(event, handle) {\n",
       "  var id = handle.cell.output_area._hv_plot_id;\n",
       "  var server_id = handle.cell.output_area._bokeh_server_id;\n",
       "  if (((id === undefined) || !(id in PyViz.plot_index)) && (server_id !== undefined)) { return; }\n",
       "  var comm = window.PyViz.comm_manager.get_client_comm(\"hv-extension-comm\", \"hv-extension-comm\", function () {});\n",
       "  if (server_id !== null) {\n",
       "    comm.send({event_type: 'server_delete', 'id': server_id});\n",
       "    return;\n",
       "  } else if (comm !== null) {\n",
       "    comm.send({event_type: 'delete', 'id': id});\n",
       "  }\n",
       "  delete PyViz.plot_index[id];\n",
       "  if ((window.Bokeh !== undefined) & (id in window.Bokeh.index)) {\n",
       "    var doc = window.Bokeh.index[id].model.document\n",
       "    doc.clear();\n",
       "    const i = window.Bokeh.documents.indexOf(doc);\n",
       "    if (i > -1) {\n",
       "      window.Bokeh.documents.splice(i, 1);\n",
       "    }\n",
       "  }\n",
       "}\n",
       "\n",
       "/**\n",
       " * Handle kernel restart event\n",
       " */\n",
       "function handle_kernel_cleanup(event, handle) {\n",
       "  delete PyViz.comms[\"hv-extension-comm\"];\n",
       "  window.PyViz.plot_index = {}\n",
       "}\n",
       "\n",
       "/**\n",
       " * Handle update_display_data messages\n",
       " */\n",
       "function handle_update_output(event, handle) {\n",
       "  handle_clear_output(event, {cell: {output_area: handle.output_area}})\n",
       "  handle_add_output(event, handle)\n",
       "}\n",
       "\n",
       "function register_renderer(events, OutputArea) {\n",
       "  function append_mime(data, metadata, element) {\n",
       "    // create a DOM node to render to\n",
       "    var toinsert = this.create_output_subarea(\n",
       "    metadata,\n",
       "    CLASS_NAME,\n",
       "    EXEC_MIME_TYPE\n",
       "    );\n",
       "    this.keyboard_manager.register_events(toinsert);\n",
       "    // Render to node\n",
       "    var props = {data: data, metadata: metadata[EXEC_MIME_TYPE]};\n",
       "    render(props, toinsert[0]);\n",
       "    element.append(toinsert);\n",
       "    return toinsert\n",
       "  }\n",
       "\n",
       "  events.on('output_added.OutputArea', handle_add_output);\n",
       "  events.on('output_updated.OutputArea', handle_update_output);\n",
       "  events.on('clear_output.CodeCell', handle_clear_output);\n",
       "  events.on('delete.Cell', handle_clear_output);\n",
       "  events.on('kernel_ready.Kernel', handle_kernel_cleanup);\n",
       "\n",
       "  OutputArea.prototype.register_mime_type(EXEC_MIME_TYPE, append_mime, {\n",
       "    safe: true,\n",
       "    index: 0\n",
       "  });\n",
       "}\n",
       "\n",
       "if (window.Jupyter !== undefined) {\n",
       "  try {\n",
       "    var events = require('base/js/events');\n",
       "    var OutputArea = require('notebook/js/outputarea').OutputArea;\n",
       "    if (OutputArea.prototype.mime_types().indexOf(EXEC_MIME_TYPE) == -1) {\n",
       "      register_renderer(events, OutputArea);\n",
       "    }\n",
       "  } catch(err) {\n",
       "  }\n",
       "}\n"
      ],
      "application/vnd.holoviews_load.v0+json": "\nif ((window.PyViz === undefined) || (window.PyViz instanceof HTMLElement)) {\n  window.PyViz = {comms: {}, comm_status:{}, kernels:{}, receivers: {}, plot_index: []}\n}\n\n\n    function JupyterCommManager() {\n    }\n\n    JupyterCommManager.prototype.register_target = function(plot_id, comm_id, msg_handler) {\n      if (window.comm_manager || ((window.Jupyter !== undefined) && (Jupyter.notebook.kernel != null))) {\n        var comm_manager = window.comm_manager || Jupyter.notebook.kernel.comm_manager;\n        comm_manager.register_target(comm_id, function(comm) {\n          comm.on_msg(msg_handler);\n        });\n      } else if ((plot_id in window.PyViz.kernels) && (window.PyViz.kernels[plot_id])) {\n        window.PyViz.kernels[plot_id].registerCommTarget(comm_id, function(comm) {\n          comm.onMsg = msg_handler;\n        });\n      } else if (typeof google != 'undefined' && google.colab.kernel != null) {\n        google.colab.kernel.comms.registerTarget(comm_id, (comm) => {\n          var messages = comm.messages[Symbol.asyncIterator]();\n          function processIteratorResult(result) {\n            var message = result.value;\n            console.log(message)\n            var content = {data: message.data, comm_id};\n            var buffers = []\n            for (var buffer of message.buffers || []) {\n              buffers.push(new DataView(buffer))\n            }\n            var metadata = message.metadata || {};\n            var msg = {content, buffers, metadata}\n            msg_handler(msg);\n            return messages.next().then(processIteratorResult);\n          }\n          return messages.next().then(processIteratorResult);\n        })\n      }\n    }\n\n    JupyterCommManager.prototype.get_client_comm = function(plot_id, comm_id, msg_handler) {\n      if (comm_id in window.PyViz.comms) {\n        return window.PyViz.comms[comm_id];\n      } else if (window.comm_manager || ((window.Jupyter !== undefined) && (Jupyter.notebook.kernel != null))) {\n        var comm_manager = window.comm_manager || Jupyter.notebook.kernel.comm_manager;\n        var comm = comm_manager.new_comm(comm_id, {}, {}, {}, comm_id);\n        if (msg_handler) {\n          comm.on_msg(msg_handler);\n        }\n      } else if ((plot_id in window.PyViz.kernels) && (window.PyViz.kernels[plot_id])) {\n        var comm = window.PyViz.kernels[plot_id].connectToComm(comm_id);\n        comm.open();\n        if (msg_handler) {\n          comm.onMsg = msg_handler;\n        }\n      } else if (typeof google != 'undefined' && google.colab.kernel != null) {\n        var comm_promise = google.colab.kernel.comms.open(comm_id)\n        comm_promise.then((comm) => {\n          window.PyViz.comms[comm_id] = comm;\n          if (msg_handler) {\n            var messages = comm.messages[Symbol.asyncIterator]();\n            function processIteratorResult(result) {\n              var message = result.value;\n              var content = {data: message.data};\n              var metadata = message.metadata || {comm_id};\n              var msg = {content, metadata}\n              msg_handler(msg);\n              return messages.next().then(processIteratorResult);\n            }\n            return messages.next().then(processIteratorResult);\n          }\n        }) \n        var sendClosure = (data, metadata, buffers, disposeOnDone) => {\n          return comm_promise.then((comm) => {\n            comm.send(data, metadata, buffers, disposeOnDone);\n          });\n        };\n        var comm = {\n          send: sendClosure\n        };\n      }\n      window.PyViz.comms[comm_id] = comm;\n      return comm;\n    }\n    window.PyViz.comm_manager = new JupyterCommManager();\n    \n\n\nvar JS_MIME_TYPE = 'application/javascript';\nvar HTML_MIME_TYPE = 'text/html';\nvar EXEC_MIME_TYPE = 'application/vnd.holoviews_exec.v0+json';\nvar CLASS_NAME = 'output';\n\n/**\n * Render data to the DOM node\n */\nfunction render(props, node) {\n  var div = document.createElement(\"div\");\n  var script = document.createElement(\"script\");\n  node.appendChild(div);\n  node.appendChild(script);\n}\n\n/**\n * Handle when a new output is added\n */\nfunction handle_add_output(event, handle) {\n  var output_area = handle.output_area;\n  var output = handle.output;\n  if ((output.data == undefined) || (!output.data.hasOwnProperty(EXEC_MIME_TYPE))) {\n    return\n  }\n  var id = output.metadata[EXEC_MIME_TYPE][\"id\"];\n  var toinsert = output_area.element.find(\".\" + CLASS_NAME.split(' ')[0]);\n  if (id !== undefined) {\n    var nchildren = toinsert.length;\n    var html_node = toinsert[nchildren-1].children[0];\n    html_node.innerHTML = output.data[HTML_MIME_TYPE];\n    var scripts = [];\n    var nodelist = html_node.querySelectorAll(\"script\");\n    for (var i in nodelist) {\n      if (nodelist.hasOwnProperty(i)) {\n        scripts.push(nodelist[i])\n      }\n    }\n\n    scripts.forEach( function (oldScript) {\n      var newScript = document.createElement(\"script\");\n      var attrs = [];\n      var nodemap = oldScript.attributes;\n      for (var j in nodemap) {\n        if (nodemap.hasOwnProperty(j)) {\n          attrs.push(nodemap[j])\n        }\n      }\n      attrs.forEach(function(attr) { newScript.setAttribute(attr.name, attr.value) });\n      newScript.appendChild(document.createTextNode(oldScript.innerHTML));\n      oldScript.parentNode.replaceChild(newScript, oldScript);\n    });\n    if (JS_MIME_TYPE in output.data) {\n      toinsert[nchildren-1].children[1].textContent = output.data[JS_MIME_TYPE];\n    }\n    output_area._hv_plot_id = id;\n    if ((window.Bokeh !== undefined) && (id in Bokeh.index)) {\n      window.PyViz.plot_index[id] = Bokeh.index[id];\n    } else {\n      window.PyViz.plot_index[id] = null;\n    }\n  } else if (output.metadata[EXEC_MIME_TYPE][\"server_id\"] !== undefined) {\n    var bk_div = document.createElement(\"div\");\n    bk_div.innerHTML = output.data[HTML_MIME_TYPE];\n    var script_attrs = bk_div.children[0].attributes;\n    for (var i = 0; i < script_attrs.length; i++) {\n      toinsert[toinsert.length - 1].childNodes[1].setAttribute(script_attrs[i].name, script_attrs[i].value);\n    }\n    // store reference to server id on output_area\n    output_area._bokeh_server_id = output.metadata[EXEC_MIME_TYPE][\"server_id\"];\n  }\n}\n\n/**\n * Handle when an output is cleared or removed\n */\nfunction handle_clear_output(event, handle) {\n  var id = handle.cell.output_area._hv_plot_id;\n  var server_id = handle.cell.output_area._bokeh_server_id;\n  if (((id === undefined) || !(id in PyViz.plot_index)) && (server_id !== undefined)) { return; }\n  var comm = window.PyViz.comm_manager.get_client_comm(\"hv-extension-comm\", \"hv-extension-comm\", function () {});\n  if (server_id !== null) {\n    comm.send({event_type: 'server_delete', 'id': server_id});\n    return;\n  } else if (comm !== null) {\n    comm.send({event_type: 'delete', 'id': id});\n  }\n  delete PyViz.plot_index[id];\n  if ((window.Bokeh !== undefined) & (id in window.Bokeh.index)) {\n    var doc = window.Bokeh.index[id].model.document\n    doc.clear();\n    const i = window.Bokeh.documents.indexOf(doc);\n    if (i > -1) {\n      window.Bokeh.documents.splice(i, 1);\n    }\n  }\n}\n\n/**\n * Handle kernel restart event\n */\nfunction handle_kernel_cleanup(event, handle) {\n  delete PyViz.comms[\"hv-extension-comm\"];\n  window.PyViz.plot_index = {}\n}\n\n/**\n * Handle update_display_data messages\n */\nfunction handle_update_output(event, handle) {\n  handle_clear_output(event, {cell: {output_area: handle.output_area}})\n  handle_add_output(event, handle)\n}\n\nfunction register_renderer(events, OutputArea) {\n  function append_mime(data, metadata, element) {\n    // create a DOM node to render to\n    var toinsert = this.create_output_subarea(\n    metadata,\n    CLASS_NAME,\n    EXEC_MIME_TYPE\n    );\n    this.keyboard_manager.register_events(toinsert);\n    // Render to node\n    var props = {data: data, metadata: metadata[EXEC_MIME_TYPE]};\n    render(props, toinsert[0]);\n    element.append(toinsert);\n    return toinsert\n  }\n\n  events.on('output_added.OutputArea', handle_add_output);\n  events.on('output_updated.OutputArea', handle_update_output);\n  events.on('clear_output.CodeCell', handle_clear_output);\n  events.on('delete.Cell', handle_clear_output);\n  events.on('kernel_ready.Kernel', handle_kernel_cleanup);\n\n  OutputArea.prototype.register_mime_type(EXEC_MIME_TYPE, append_mime, {\n    safe: true,\n    index: 0\n  });\n}\n\nif (window.Jupyter !== undefined) {\n  try {\n    var events = require('base/js/events');\n    var OutputArea = require('notebook/js/outputarea').OutputArea;\n    if (OutputArea.prototype.mime_types().indexOf(EXEC_MIME_TYPE) == -1) {\n      register_renderer(events, OutputArea);\n    }\n  } catch(err) {\n  }\n}\n"
     },
     "metadata": {},
     "output_type": "display_data"
    },
    {
     "data": {
      "text/html": [
       "<style>*[data-root-id],\n",
       "*[data-root-id] > * {\n",
       "  box-sizing: border-box;\n",
       "  font-family: var(--jp-ui-font-family);\n",
       "  font-size: var(--jp-ui-font-size1);\n",
       "  color: var(--vscode-editor-foreground, var(--jp-ui-font-color1));\n",
       "}\n",
       "\n",
       "/* Override VSCode background color */\n",
       ".cell-output-ipywidget-background:has(\n",
       "    > .cell-output-ipywidget-background > .lm-Widget > *[data-root-id]\n",
       "  ),\n",
       ".cell-output-ipywidget-background:has(> .lm-Widget > *[data-root-id]) {\n",
       "  background-color: transparent !important;\n",
       "}\n",
       "</style>"
      ]
     },
     "metadata": {},
     "output_type": "display_data"
    }
   ],
   "source": [
    "# Dependencies and Setup\n",
    "import hvplot.pandas\n",
    "import pandas as pd\n",
    "import requests\n",
    "\n",
    "# Import API key\n",
    "from api_keys import geoapify_key"
   ]
  },
  {
   "cell_type": "code",
   "execution_count": 2,
   "metadata": {
    "tags": []
   },
   "outputs": [
    {
     "data": {
      "text/html": [
       "<div>\n",
       "<style scoped>\n",
       "    .dataframe tbody tr th:only-of-type {\n",
       "        vertical-align: middle;\n",
       "    }\n",
       "\n",
       "    .dataframe tbody tr th {\n",
       "        vertical-align: top;\n",
       "    }\n",
       "\n",
       "    .dataframe thead th {\n",
       "        text-align: right;\n",
       "    }\n",
       "</style>\n",
       "<table border=\"1\" class=\"dataframe\">\n",
       "  <thead>\n",
       "    <tr style=\"text-align: right;\">\n",
       "      <th></th>\n",
       "      <th>City_ID</th>\n",
       "      <th>City</th>\n",
       "      <th>Lat</th>\n",
       "      <th>Lng</th>\n",
       "      <th>Max Temp</th>\n",
       "      <th>Humidity</th>\n",
       "      <th>Cloudiness</th>\n",
       "      <th>Wind Speed</th>\n",
       "      <th>Country</th>\n",
       "      <th>Date</th>\n",
       "    </tr>\n",
       "  </thead>\n",
       "  <tbody>\n",
       "    <tr>\n",
       "      <th>0</th>\n",
       "      <td>0</td>\n",
       "      <td>as sulayyil</td>\n",
       "      <td>20.4607</td>\n",
       "      <td>45.5779</td>\n",
       "      <td>293.29</td>\n",
       "      <td>50</td>\n",
       "      <td>100</td>\n",
       "      <td>2.20</td>\n",
       "      <td>SA</td>\n",
       "      <td>1712007574</td>\n",
       "    </tr>\n",
       "    <tr>\n",
       "      <th>1</th>\n",
       "      <td>1</td>\n",
       "      <td>kourou</td>\n",
       "      <td>5.1552</td>\n",
       "      <td>-52.6478</td>\n",
       "      <td>302.18</td>\n",
       "      <td>85</td>\n",
       "      <td>89</td>\n",
       "      <td>3.00</td>\n",
       "      <td>GF</td>\n",
       "      <td>1712007862</td>\n",
       "    </tr>\n",
       "    <tr>\n",
       "      <th>2</th>\n",
       "      <td>2</td>\n",
       "      <td>adamstown</td>\n",
       "      <td>-25.0660</td>\n",
       "      <td>-130.1015</td>\n",
       "      <td>296.74</td>\n",
       "      <td>78</td>\n",
       "      <td>97</td>\n",
       "      <td>6.10</td>\n",
       "      <td>PN</td>\n",
       "      <td>1712007507</td>\n",
       "    </tr>\n",
       "    <tr>\n",
       "      <th>3</th>\n",
       "      <td>3</td>\n",
       "      <td>ilulissat</td>\n",
       "      <td>69.2167</td>\n",
       "      <td>-51.1000</td>\n",
       "      <td>271.16</td>\n",
       "      <td>80</td>\n",
       "      <td>75</td>\n",
       "      <td>0.51</td>\n",
       "      <td>GL</td>\n",
       "      <td>1712007507</td>\n",
       "    </tr>\n",
       "    <tr>\n",
       "      <th>4</th>\n",
       "      <td>4</td>\n",
       "      <td>port-aux-francais</td>\n",
       "      <td>-49.3500</td>\n",
       "      <td>70.2167</td>\n",
       "      <td>279.53</td>\n",
       "      <td>79</td>\n",
       "      <td>58</td>\n",
       "      <td>8.54</td>\n",
       "      <td>TF</td>\n",
       "      <td>1712007507</td>\n",
       "    </tr>\n",
       "  </tbody>\n",
       "</table>\n",
       "</div>"
      ],
      "text/plain": [
       "   City_ID               City      Lat       Lng  Max Temp  Humidity  \\\n",
       "0        0        as sulayyil  20.4607   45.5779    293.29        50   \n",
       "1        1             kourou   5.1552  -52.6478    302.18        85   \n",
       "2        2          adamstown -25.0660 -130.1015    296.74        78   \n",
       "3        3          ilulissat  69.2167  -51.1000    271.16        80   \n",
       "4        4  port-aux-francais -49.3500   70.2167    279.53        79   \n",
       "\n",
       "   Cloudiness  Wind Speed Country        Date  \n",
       "0         100        2.20      SA  1712007574  \n",
       "1          89        3.00      GF  1712007862  \n",
       "2          97        6.10      PN  1712007507  \n",
       "3          75        0.51      GL  1712007507  \n",
       "4          58        8.54      TF  1712007507  "
      ]
     },
     "execution_count": 2,
     "metadata": {},
     "output_type": "execute_result"
    }
   ],
   "source": [
    "# Load the CSV file created in Part 1 into a Pandas DataFrame\n",
    "city_data_df = pd.read_csv(\"../output_data/cities.csv\")\n",
    "\n",
    "# Display sample data\n",
    "city_data_df.head()\n"
   ]
  },
  {
   "cell_type": "markdown",
   "metadata": {},
   "source": [
    "---\n",
    "\n",
    "### Step 1: Create a map that displays a point for every city in the `city_data_df` DataFrame. The size of the point should be the humidity in each city."
   ]
  },
  {
   "cell_type": "code",
   "execution_count": 90,
   "metadata": {
    "tags": []
   },
   "outputs": [
    {
     "data": {},
     "metadata": {},
     "output_type": "display_data"
    },
    {
     "data": {
      "application/vnd.holoviews_exec.v0+json": "",
      "text/html": [
       "<div id='p1069'>\n",
       "  <div id=\"ad22fbca-47a0-478f-b21f-6d44c3333f7c\" data-root-id=\"p1069\" style=\"display: contents;\"></div>\n",
       "</div>\n",
       "<script type=\"application/javascript\">(function(root) {\n",
       "  var docs_json = {\"01087fe1-b9a2-4b0a-88b6-380a8df5a124\":{\"version\":\"3.2.1\",\"title\":\"Bokeh Application\",\"roots\":[{\"type\":\"object\",\"name\":\"Row\",\"id\":\"p1069\",\"attributes\":{\"name\":\"Row01025\",\"tags\":[\"embedded\"],\"stylesheets\":[\"\\n:host(.pn-loading.pn-arc):before, .pn-loading.pn-arc:before {\\n  background-image: url(\\\"data:image/svg+xml;base64,PHN2ZyB4bWxucz0iaHR0cDovL3d3dy53My5vcmcvMjAwMC9zdmciIHN0eWxlPSJtYXJnaW46IGF1dG87IGJhY2tncm91bmQ6IG5vbmU7IGRpc3BsYXk6IGJsb2NrOyBzaGFwZS1yZW5kZXJpbmc6IGF1dG87IiB2aWV3Qm94PSIwIDAgMTAwIDEwMCIgcHJlc2VydmVBc3BlY3RSYXRpbz0ieE1pZFlNaWQiPiAgPGNpcmNsZSBjeD0iNTAiIGN5PSI1MCIgZmlsbD0ibm9uZSIgc3Ryb2tlPSIjYzNjM2MzIiBzdHJva2Utd2lkdGg9IjEwIiByPSIzNSIgc3Ryb2tlLWRhc2hhcnJheT0iMTY0LjkzMzYxNDMxMzQ2NDE1IDU2Ljk3Nzg3MTQzNzgyMTM4Ij4gICAgPGFuaW1hdGVUcmFuc2Zvcm0gYXR0cmlidXRlTmFtZT0idHJhbnNmb3JtIiB0eXBlPSJyb3RhdGUiIHJlcGVhdENvdW50PSJpbmRlZmluaXRlIiBkdXI9IjFzIiB2YWx1ZXM9IjAgNTAgNTA7MzYwIDUwIDUwIiBrZXlUaW1lcz0iMDsxIj48L2FuaW1hdGVUcmFuc2Zvcm0+ICA8L2NpcmNsZT48L3N2Zz4=\\\");\\n  background-size: auto calc(min(50%, 400px));\\n}\",{\"type\":\"object\",\"name\":\"ImportedStyleSheet\",\"id\":\"p1072\",\"attributes\":{\"url\":\"https://cdn.holoviz.org/panel/1.2.3/dist/css/loading.css\"}},{\"type\":\"object\",\"name\":\"ImportedStyleSheet\",\"id\":\"p1129\",\"attributes\":{\"url\":\"https://cdn.holoviz.org/panel/1.2.3/dist/css/listpanel.css\"}},{\"type\":\"object\",\"name\":\"ImportedStyleSheet\",\"id\":\"p1070\",\"attributes\":{\"url\":\"https://cdn.holoviz.org/panel/1.2.3/dist/bundled/theme/default.css\"}},{\"type\":\"object\",\"name\":\"ImportedStyleSheet\",\"id\":\"p1071\",\"attributes\":{\"url\":\"https://cdn.holoviz.org/panel/1.2.3/dist/bundled/theme/native.css\"}}],\"min_width\":700,\"margin\":0,\"sizing_mode\":\"stretch_width\",\"align\":\"start\",\"children\":[{\"type\":\"object\",\"name\":\"Spacer\",\"id\":\"p1073\",\"attributes\":{\"name\":\"HSpacer01036\",\"stylesheets\":[\"\\n:host(.pn-loading.pn-arc):before, .pn-loading.pn-arc:before {\\n  background-image: url(\\\"data:image/svg+xml;base64,PHN2ZyB4bWxucz0iaHR0cDovL3d3dy53My5vcmcvMjAwMC9zdmciIHN0eWxlPSJtYXJnaW46IGF1dG87IGJhY2tncm91bmQ6IG5vbmU7IGRpc3BsYXk6IGJsb2NrOyBzaGFwZS1yZW5kZXJpbmc6IGF1dG87IiB2aWV3Qm94PSIwIDAgMTAwIDEwMCIgcHJlc2VydmVBc3BlY3RSYXRpbz0ieE1pZFlNaWQiPiAgPGNpcmNsZSBjeD0iNTAiIGN5PSI1MCIgZmlsbD0ibm9uZSIgc3Ryb2tlPSIjYzNjM2MzIiBzdHJva2Utd2lkdGg9IjEwIiByPSIzNSIgc3Ryb2tlLWRhc2hhcnJheT0iMTY0LjkzMzYxNDMxMzQ2NDE1IDU2Ljk3Nzg3MTQzNzgyMTM4Ij4gICAgPGFuaW1hdGVUcmFuc2Zvcm0gYXR0cmlidXRlTmFtZT0idHJhbnNmb3JtIiB0eXBlPSJyb3RhdGUiIHJlcGVhdENvdW50PSJpbmRlZmluaXRlIiBkdXI9IjFzIiB2YWx1ZXM9IjAgNTAgNTA7MzYwIDUwIDUwIiBrZXlUaW1lcz0iMDsxIj48L2FuaW1hdGVUcmFuc2Zvcm0+ICA8L2NpcmNsZT48L3N2Zz4=\\\");\\n  background-size: auto calc(min(50%, 400px));\\n}\",{\"id\":\"p1072\"},{\"id\":\"p1070\"},{\"id\":\"p1071\"}],\"margin\":0,\"sizing_mode\":\"stretch_width\",\"align\":\"start\"}},{\"type\":\"object\",\"name\":\"Figure\",\"id\":\"p1081\",\"attributes\":{\"width\":700,\"height\":300,\"margin\":[5,10],\"sizing_mode\":\"fixed\",\"align\":\"start\",\"x_range\":{\"type\":\"object\",\"name\":\"Range1d\",\"id\":\"p1074\",\"attributes\":{\"tags\":[[[\"Lng\",\"Lng\",null]],[]],\"start\":-193.40884285714284,\"end\":192.72544285714287,\"reset_start\":-193.40884285714284,\"reset_end\":192.72544285714287}},\"y_range\":{\"type\":\"object\",\"name\":\"Range1d\",\"id\":\"p1075\",\"attributes\":{\"tags\":[[[\"Lat\",\"Lat\",null]],{\"type\":\"map\",\"entries\":[[\"invert_yaxis\",false],[\"autorange\",false]]}],\"start\":-68.10186,\"end\":91.52046,\"reset_start\":-68.10186,\"reset_end\":91.52046}},\"x_scale\":{\"type\":\"object\",\"name\":\"LinearScale\",\"id\":\"p1091\"},\"y_scale\":{\"type\":\"object\",\"name\":\"LinearScale\",\"id\":\"p1092\"},\"title\":{\"type\":\"object\",\"name\":\"Title\",\"id\":\"p1084\",\"attributes\":{\"text\":\"City Humidity\",\"text_color\":\"black\",\"text_font_size\":\"12pt\"}},\"renderers\":[{\"type\":\"object\",\"name\":\"GlyphRenderer\",\"id\":\"p1120\",\"attributes\":{\"data_source\":{\"type\":\"object\",\"name\":\"ColumnDataSource\",\"id\":\"p1109\",\"attributes\":{\"selected\":{\"type\":\"object\",\"name\":\"Selection\",\"id\":\"p1110\",\"attributes\":{\"indices\":[],\"line_indices\":[]}},\"selection_policy\":{\"type\":\"object\",\"name\":\"UnionRenderers\",\"id\":\"p1111\"},\"data\":{\"type\":\"map\",\"entries\":[[\"Lng\",{\"type\":\"ndarray\",\"array\":{\"type\":\"bytes\",\"data\":\"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\"},\"shape\":[585],\"dtype\":\"float64\",\"order\":\"little\"}],[\"Lat\",{\"type\":\"ndarray\",\"array\":{\"type\":\"bytes\",\"data\":\"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\"},\"shape\":[585],\"dtype\":\"float64\",\"order\":\"little\"}],[\"Humidity\",{\"type\":\"ndarray\",\"array\":{\"type\":\"bytes\",\"data\":\"MgAAAFUAAABOAAAAUAAAAE8AAABfAAAAVwAAAFsAAAAzAAAAVgAAAE4AAABYAAAALwAAAE0AAAAyAAAAKwAAADkAAAA+AAAASwAAADcAAABVAAAAMQAAADQAAABVAAAAPgAAAEsAAAA8AAAARgAAADMAAABYAAAAOAAAAEEAAABjAAAAMwAAAFMAAABUAAAATgAAAF8AAABUAAAATgAAAFYAAABXAAAATQAAAEkAAAA9AAAARwAAAEkAAABTAAAARQAAAF8AAABSAAAATwAAAE8AAABUAAAATgAAAFwAAABeAAAAOQAAAF0AAAAOAAAATAAAAAsAAABEAAAAMAAAAFwAAABgAAAAYQAAAFQAAABIAAAATgAAAGEAAABZAAAASgAAAEwAAABOAAAAKwAAADIAAABHAAAAKAAAAE4AAABhAAAAYgAAAC8AAAAXAAAAVQAAAD8AAABkAAAAWQAAAFIAAAA3AAAAMgAAADEAAABgAAAAWAAAAFgAAABCAAAATwAAACkAAABRAAAASQAAAEoAAABTAAAAYgAAAFAAAABTAAAAWAAAABgAAABhAAAASQAAAC0AAAA5AAAARAAAAFYAAAA3AAAAWgAAAFcAAABPAAAAJwAAAEEAAABhAAAAVAAAAEoAAAA3AAAATAAAAFUAAABaAAAARQAAAGMAAABHAAAAXQAAAC4AAABiAAAATQAAAC4AAABIAAAALgAAAEYAAABbAAAAOwAAAEQAAAAuAAAATwAAAFAAAAAOAAAAWQAAADYAAABVAAAAXQAAAFAAAABKAAAAXQAAAGMAAAArAAAARwAAACIAAABSAAAAUgAAADgAAAAXAAAAGwAAAF0AAABBAAAAWgAAAE4AAAAvAAAAXgAAAEgAAABPAAAAOgAAAFoAAABSAAAAZAAAAB4AAAArAAAAWgAAAFwAAABTAAAAJQAAAEkAAAArAAAAQgAAAGAAAAA8AAAAVwAAAFsAAAAaAAAATQAAACwAAABiAAAAHgAAAGIAAAA4AAAATgAAAEUAAABUAAAAOwAAAEkAAABbAAAAPAAAAFAAAABXAAAALQAAAEsAAABRAAAAHgAAAFcAAAAsAAAASgAAAFMAAABWAAAAKQAAAEEAAABOAAAATQAAAF4AAAAnAAAAUwAAACwAAABXAAAAPwAAACkAAABMAAAASwAAAGIAAABHAAAATAAAAEUAAABdAAAAVQAAACwAAAAtAAAADQAAABMAAAA7AAAAXAAAAEkAAABNAAAAYwAAAC4AAAAuAAAAUAAAAEoAAAALAAAAUQAAAAsAAABFAAAAVgAAAEYAAAA4AAAARgAAAFQAAABAAAAAVAAAAEEAAABTAAAAOgAAAGQAAABjAAAAPQAAACsAAABiAAAAUgAAAF4AAAA3AAAAUQAAADQAAABSAAAARAAAAEoAAAA/AAAAWAAAADsAAABTAAAAWwAAAEUAAAAkAAAAMgAAAFQAAAAvAAAAVwAAADwAAABOAAAAVwAAAEkAAABAAAAAXwAAAEYAAABgAAAAFgAAAEoAAABHAAAAUQAAAD8AAABIAAAAWAAAAEQAAABiAAAAYwAAAFoAAABAAAAAOgAAAF4AAABXAAAAPgAAAGAAAAAPAAAATwAAAGAAAABiAAAANQAAAE8AAABWAAAAQAAAAC8AAABDAAAASgAAACwAAABgAAAAYAAAAFgAAABOAAAAPwAAAEkAAAAsAAAAXQAAACwAAAAsAAAAQQAAAD0AAABTAAAAFwAAAFkAAABaAAAAUAAAAFMAAABcAAAALQAAAE0AAABHAAAATQAAAEIAAABKAAAARgAAADcAAABXAAAAVwAAAFUAAAAXAAAAYAAAABIAAABUAAAAWwAAAAEAAABTAAAAWgAAAEkAAABVAAAATgAAAEkAAABeAAAAVwAAAE4AAABPAAAAWQAAAFIAAABKAAAAXAAAAAoAAAAuAAAANAAAADAAAABYAAAAVwAAAFcAAAAZAAAAWwAAAE8AAABRAAAAWAAAACoAAABeAAAAVQAAAF0AAABMAAAAVwAAAEMAAAA2AAAAPwAAAFQAAABZAAAAIAAAAFUAAABPAAAAVAAAAE8AAABQAAAAYwAAAEMAAABgAAAASwAAAE8AAAA5AAAARAAAADcAAABKAAAAYwAAAE8AAABBAAAAOAAAABgAAABRAAAAVgAAAFAAAAA/AAAAMgAAAEsAAABKAAAASgAAAC0AAAAqAAAASwAAAE8AAABQAAAARQAAAE0AAABhAAAAYQAAAF8AAAA7AAAAUAAAADYAAAAQAAAAWQAAAFIAAABkAAAAXwAAAGQAAAA/AAAAXwAAAF8AAABiAAAATQAAAEMAAABWAAAARQAAAGEAAAA+AAAAHwAAAFkAAABZAAAAWgAAAE0AAAAPAAAAMgAAAFoAAABTAAAADAAAAGMAAABOAAAATQAAAFMAAABSAAAARwAAAFgAAAAqAAAAVAAAAE8AAABXAAAATgAAAAoAAABPAAAAWwAAAEsAAAApAAAAIwAAAFEAAABjAAAAVgAAADkAAABLAAAADAAAAF0AAABLAAAAUAAAAFAAAAA9AAAARAAAAGIAAABbAAAATwAAAEcAAAAgAAAAPQAAAFUAAABXAAAAQAAAAGIAAABeAAAANQAAAC0AAABUAAAANwAAAFkAAABDAAAAQgAAAE4AAABYAAAATAAAAGIAAAAiAAAAYAAAAFUAAAAyAAAACwAAABcAAABcAAAAVAAAABEAAABaAAAAFgAAAE8AAABCAAAASgAAADMAAABJAAAAUwAAAFMAAABYAAAAXwAAAFIAAAA+AAAASQAAAEwAAAAsAAAAYgAAAGEAAAAvAAAAMQAAAAoAAABBAAAAVwAAAF4AAAAlAAAAXQAAAEkAAABRAAAAYgAAAFQAAABHAAAAZAAAAFAAAABVAAAALgAAAFQAAAASAAAAVwAAAFEAAABOAAAARwAAAFsAAABIAAAAXAAAAF4AAAAkAAAASgAAACQAAABYAAAAIAAAAFgAAABZAAAAXwAAAEQAAAAuAAAAZAAAAFkAAABXAAAAPwAAACcAAABQAAAAEAAAAFMAAABaAAAAUgAAAEwAAAA6AAAA\"},\"shape\":[585],\"dtype\":\"int32\",\"order\":\"little\"}],[\"City\",[\"as sulayyil\",\"kourou\",\"adamstown\",\"ilulissat\",\"port-aux-francais\",\"tazovsky\",\"bom jardim\",\"edinburgh of the seven seas\",\"shakhtersk\",\"georgetown\",\"ta`u\",\"pemba\",\"kyzyl-suu\",\"ribeira grande\",\"puerto natales\",\"pinotepa nacional\",\"punta arenas\",\"kerman\",\"papao\",\"nuuk\",\"port mathurin\",\"albany\",\"netanya\",\"hermanus\",\"nagato\",\"narvik\",\"anadyr\",\"klyuchi\",\"newman\",\"invercargill\",\"olonkinbyen\",\"salalah\",\"vorgashor\",\"bethel\",\"waitangi\",\"kasempa\",\"yellowknife\",\"saint-philippe\",\"wabash\",\"bredasdorp\",\"iqaluit\",\"margaret river\",\"shimoda\",\"afaahiti\",\"pimentel\",\"quellon\",\"arraial do cabo\",\"santiago de cao\",\"utrik\",\"blackmans bay\",\"grytviken\",\"vadso\",\"hawaiian paradise park\",\"bogo\",\"tual\",\"taksimo\",\"st. john's\",\"bulgan\",\"saint-flour\",\"gao\",\"uturoa\",\"i-n-salah\",\"papatowai\",\"fayetteville\",\"sol'-iletsk\",\"grand falls-windsor\",\"chernyshevskiy\",\"mount gambier\",\"constantia\",\"isafjordur\",\"stanley\",\"west island\",\"hithadhoo\",\"myeik\",\"rasht\",\"karratha\",\"keetmanshoop\",\"togur\",\"thompson\",\"longyearbyen\",\"urangan\",\"enshi\",\"jamestown\",\"lloydminster\",\"sungailiat\",\"paphos\",\"launceston\",\"ocean city\",\"kapa'a\",\"brokopondo\",\"ushuaia\",\"fort bragg\",\"udachny\",\"salinopolis\",\"flying fish cove\",\"luderitz\",\"remire-montjoly\",\"alice springs\",\"basco\",\"praia\",\"avarua\",\"natal\",\"new norfolk\",\"lijiang\",\"wailua homesteads\",\"tabou\",\"at taj\",\"vaskelovo\",\"berezovyy\",\"yeraliyev\",\"tionk essil\",\"remedios\",\"ille-sur-tet\",\"high river\",\"dudinka\",\"inverloch\",\"qaqortoq\",\"deqen\",\"lima\",\"talnakh\",\"amursk\",\"wakkanai\",\"katima mulilo\",\"chonchi\",\"freetown\",\"bay roberts\",\"mercedes\",\"khandyga\",\"lebu\",\"egilsstadir\",\"hovd\",\"kuressaare\",\"praia da vitoria\",\"yushu\",\"atafu village\",\"cabo san lucas\",\"bilibino\",\"puerto ayora\",\"vera cruz\",\"egersund\",\"al jawf\",\"gillette\",\"kingston\",\"sabha\",\"ust-nera\",\"keflavik\",\"leua\",\"ajaccio\",\"yaren\",\"lerwick\",\"belyy yar\",\"vorkuta\",\"badiyah\",\"enewetak\",\"dongsheng\",\"ladan\",\"aasiaat\",\"salinas\",\"malanville\",\"crane\",\"susuman\",\"villa emilio carranza\",\"aitape\",\"vilyuchinsk\",\"kara-balta\",\"mount isa\",\"port lincoln\",\"horta\",\"guane\",\"almeirim\",\"kattivakkam\",\"petrolina\",\"anantapur\",\"mariental\",\"maralal\",\"tiksi\",\"conde\",\"sylvan lake\",\"praya\",\"whitehorse\",\"minas de marcona\",\"nea kallikrateia\",\"kodiak\",\"iskateley\",\"nogliki\",\"adoni\",\"fredericksburg\",\"ongjin\",\"tongren\",\"oltinko'l\",\"muromtsevo\",\"san luis de la loma\",\"campana\",\"port isabel\",\"yeppoon\",\"westport\",\"pachino\",\"howard springs\",\"veraval\",\"holualoa\",\"san mariano\",\"kharkhorin\",\"la plata\",\"kili\",\"aswan\",\"amahai\",\"baiyin\",\"ceerigaabo\",\"caleta de carquin\",\"tazacorte\",\"tsarevo\",\"muroto-misakicho\",\"isangel\",\"zhatay\",\"andovoranto\",\"college\",\"nuku'alofa\",\"opuwo\",\"cill airne\",\"qamdo\",\"slatina\",\"tura\",\"yoko\",\"aykhal\",\"smidovich\",\"port elizabeth\",\"pacocha\",\"boyolangu\",\"axim\",\"san benito\",\"portland\",\"madaoua\",\"cuilapan de guerrero\",\"petropavlovsk-kamchatsky\",\"belo sur tsiribihina\",\"haiku-pauwela\",\"nova vicosa\",\"ust'-ilimsk\",\"markham\",\"cole harbour\",\"nova sintra\",\"fale old settlement\",\"gereida\",\"namibe\",\"nyala\",\"katsuura\",\"rio grande\",\"mahina\",\"hinton\",\"riohacha\",\"kolonia\",\"sandnessjoen\",\"membrilla\",\"lompoc\",\"fisterra\",\"uwajima\",\"lesosibirsk\",\"huicungo\",\"sitka\",\"badger\",\"kirensk\",\"pandan\",\"pindare mirim\",\"ryotsu-minato\",\"kalix\",\"fort-shevchenko\",\"zabaykal'sk\",\"coquimbo\",\"okhotsk\",\"san patricio\",\"bambanglipuro\",\"kegeyli shahar\",\"lihue\",\"east london\",\"acapulco de juarez\",\"ar raqqah\",\"joshimath\",\"colonia\",\"carnarvon\",\"aras-asan\",\"yamoto\",\"mormugao\",\"prince rupert\",\"mar del plata\",\"big rapids\",\"cuito\",\"macapa\",\"nizhniy odes\",\"hatta\",\"puerto baquerizo moreno\",\"safford\",\"jabor\",\"lazaro cardenas\",\"kittila\",\"castillos\",\"port augusta\",\"sargatskoye\",\"kiunga\",\"katsuren-haebaru\",\"ancud\",\"tejen\",\"berezovo\",\"klaksvik\",\"coyhaique\",\"sanming\",\"san julian\",\"hadibu\",\"dolisie\",\"kohtla-jarve\",\"akrehamn\",\"la passe\",\"maryborough\",\"celestun\",\"darab\",\"ciutadella\",\"malvan\",\"chibougamau\",\"palu\",\"mawu\",\"letterkenny\",\"meadow lake\",\"labrador city\",\"west plains\",\"lethem\",\"chegdomyn\",\"claremont\",\"murovani kurylivtsi\",\"camayenne\",\"carinhanha\",\"linkoping\",\"slave lake\",\"mil'kovo\",\"labytnangi\",\"piti village\",\"puerto santa\",\"lensk\",\"sinop\",\"polyarnyy\",\"mejit\",\"gadzhiyevo\",\"cockburn town\",\"burang\",\"bubaque\",\"kapuskasing\",\"nar'yan-mar\",\"saldanha\",\"porto novo\",\"siguiri\",\"nizhnesortymskiy\",\"lashkar gah\",\"male\",\"kedrovyy\",\"saipan\",\"ladispoli\",\"san borja\",\"tromso\",\"connersville\",\"callaway\",\"tolanaro\",\"sterlibashevo\",\"harper\",\"saudarkrokur\",\"kolonia town\",\"basoko\",\"anloga\",\"tofol\",\"maslyanino\",\"faya-largeau\",\"salida\",\"zaragoza\",\"al jubayl\",\"saint-pierre\",\"luganville\",\"kromy\",\"najaf\",\"okha\",\"charters towers\",\"el nido\",\"sedalia\",\"pendleton\",\"nikolayevsk-on-amure\",\"benguela\",\"mariehamn\",\"hamilton\",\"cidreira\",\"tebessa\",\"hasaki\",\"carboneras\",\"howrah\",\"steti\",\"hafar al-batin\",\"codrington\",\"afif\",\"sisimiut\",\"vila velha\",\"sinabang\",\"novodvinsk\",\"general salgado\",\"kuanda\",\"nishinoomote\",\"tughyl\",\"sept-iles\",\"bamboo flat\",\"hatsukaichi\",\"jining\",\"mont-dore\",\"esmeraldas\",\"meraux\",\"sur\",\"arar\",\"leava\",\"kenai\",\"davangere\",\"pyetrykaw\",\"gannan\",\"queenstown\",\"olinda\",\"el calafate\",\"roma\",\"emmett\",\"ola\",\"lagoa\",\"big stone gap\",\"anse la raye\",\"kirakira\",\"kokshetau\",\"yuzhno-kurilsk\",\"ringkobing\",\"ar ruways\",\"tsiombe\",\"mae hong son\",\"yorosso\",\"ploudalmezeau\",\"nora\",\"kununurra\",\"mathba\",\"olyokminsk\",\"dunedin\",\"lemvig\",\"bundaberg\",\"makokou\",\"north bend\",\"altus\",\"chadron\",\"tadine\",\"bodaybo\",\"kone\",\"sirte\",\"arawa\",\"soio\",\"lata\",\"yarmouth\",\"fort st. john\",\"izsak\",\"port saint john's\",\"huarmey\",\"timbuktu\",\"inari\",\"auki\",\"poronaysk\",\"acarau\",\"maragogi\",\"murun-kuren\",\"colares\",\"usak\",\"kerikeri\",\"touros\",\"happy valley-goose bay\",\"mombetsu\",\"tillaberi\",\"rio de janeiro\",\"igarka\",\"naze\",\"corcoran\",\"ogdensburg\",\"nemuro\",\"neryungri\",\"taperoa\",\"luanda\",\"zheleznodorozhnyy\",\"ati\",\"sao gabriel da cachoeira\",\"magadan\",\"paraisopolis\",\"ujae\",\"skhira\",\"cookeville\",\"mogocha\",\"sambava\",\"east ballina\",\"korla\",\"boa vista\",\"dzhalagash\",\"berthoud\",\"kalmunai\",\"shevchenko\",\"kisangani\",\"talakan\",\"el dorado\",\"eduardo castex\",\"manokwari\",\"cartagena\",\"pangkalpinang\",\"muynoq\",\"broken hill\",\"la'ie\",\"norrtalje\",\"gidole\",\"aripuana\",\"samalut\",\"xianning\",\"ulsteinvik\",\"beyneu\",\"umm ruwaba\",\"dudhi\",\"zeya\",\"barcs\",\"pipar\",\"bontang\",\"madhipura\",\"mabaruma\",\"letlhakeng\",\"alofi\",\"talara\",\"aqadyr\",\"maceio\",\"sanya\",\"phan rang-thap cham\",\"severoural'sk\",\"bogale\",\"thames\",\"srivardhan\",\"aldinga beach\",\"petawawa\",\"ndende\",\"manicore\",\"selfoss\",\"al burayqah\",\"tamanrasset\",\"arafat\",\"dali\",\"port alfred\",\"dholka\",\"gulu\",\"dikhil\",\"san pedro\",\"kambove\",\"manali\",\"villa gesell\",\"kupang\",\"skelleftea\",\"ambalangoda\",\"brush\",\"margate\",\"adrar\",\"ketchikan\",\"prado\",\"furth im wald\",\"douz\",\"kyshtovka\",\"princeville\",\"pariaman\",\"yichang\",\"tomatlan\",\"kudahuvadhoo\",\"ghazni\",\"swakopmund\",\"sparti\",\"vanimo\",\"port-gentil\",\"tuam\",\"paysandu\",\"hami\",\"puerto aysen\",\"uttar char fasson\",\"pemangkat\",\"kavalerovo\",\"smithers\",\"kailua-kona\",\"reggane\",\"san jeronimo\",\"carutapera\",\"nouadhibou\",\"playas\",\"cruz alta\"]],[\"color\",{\"type\":\"ndarray\",\"array\":{\"type\":\"bytes\",\"data\":\"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\"},\"shape\":[585],\"dtype\":\"int32\",\"order\":\"little\"}],[\"size\",{\"type\":\"ndarray\",\"array\":{\"type\":\"bytes\",\"data\":\"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\"},\"shape\":[585],\"dtype\":\"float64\",\"order\":\"little\"}]]}}},\"view\":{\"type\":\"object\",\"name\":\"CDSView\",\"id\":\"p1121\",\"attributes\":{\"filter\":{\"type\":\"object\",\"name\":\"AllIndices\",\"id\":\"p1122\"}}},\"glyph\":{\"type\":\"object\",\"name\":\"Scatter\",\"id\":\"p1115\",\"attributes\":{\"tags\":[\"apply_ranges\"],\"x\":{\"type\":\"field\",\"field\":\"Lng\"},\"y\":{\"type\":\"field\",\"field\":\"Lat\"},\"size\":{\"type\":\"field\",\"field\":\"size\"},\"line_color\":{\"type\":\"field\",\"field\":\"color\",\"transform\":{\"type\":\"object\",\"name\":\"LinearColorMapper\",\"id\":\"p1108\",\"attributes\":{\"palette\":[\"#f7fbff\",\"#f6fafe\",\"#f5f9fe\",\"#f4f9fe\",\"#f3f8fd\",\"#f3f8fd\",\"#f2f7fd\",\"#f1f7fd\",\"#f0f6fc\",\"#eff6fc\",\"#eff5fc\",\"#eef5fc\",\"#edf4fb\",\"#ecf4fb\",\"#ecf3fb\",\"#ebf3fb\",\"#eaf2fa\",\"#e9f2fa\",\"#e8f1fa\",\"#e8f1fa\",\"#e7f0f9\",\"#e6f0f9\",\"#e5eff9\",\"#e4eff9\",\"#e4eef8\",\"#e3eef8\",\"#e2edf8\",\"#e1edf8\",\"#e1ecf7\",\"#e0ecf7\",\"#dfebf7\",\"#deebf7\",\"#ddeaf6\",\"#ddeaf6\",\"#dce9f6\",\"#dbe9f6\",\"#dae8f5\",\"#dae8f5\",\"#d9e7f5\",\"#d8e7f5\",\"#d7e6f4\",\"#d7e6f4\",\"#d6e5f4\",\"#d5e5f4\",\"#d4e4f3\",\"#d4e4f3\",\"#d3e3f3\",\"#d2e3f3\",\"#d1e2f2\",\"#d1e2f2\",\"#d0e1f2\",\"#cfe1f2\",\"#cee0f1\",\"#cee0f1\",\"#cddff1\",\"#ccdff1\",\"#cbdef0\",\"#cbdef0\",\"#caddf0\",\"#c9ddf0\",\"#c8dcef\",\"#c8dcef\",\"#c7dbef\",\"#c6dbef\",\"#c5daee\",\"#c4daee\",\"#c3d9ee\",\"#c1d9ed\",\"#c0d8ed\",\"#bfd8ec\",\"#bed7ec\",\"#bcd7eb\",\"#bbd6eb\",\"#bad6ea\",\"#b9d5ea\",\"#b7d4ea\",\"#b6d4e9\",\"#b5d3e9\",\"#b4d3e8\",\"#b2d2e8\",\"#b1d2e7\",\"#b0d1e7\",\"#afd1e6\",\"#add0e6\",\"#acd0e6\",\"#abcfe5\",\"#aacfe5\",\"#a8cee4\",\"#a7cee4\",\"#a6cde3\",\"#a5cde3\",\"#a3cce3\",\"#a2cbe2\",\"#a1cbe2\",\"#a0cae1\",\"#9ecae1\",\"#9dc9e0\",\"#9bc8e0\",\"#9ac7e0\",\"#98c7df\",\"#97c6df\",\"#95c5df\",\"#93c4de\",\"#92c3de\",\"#90c2de\",\"#8fc1dd\",\"#8dc0dd\",\"#8bc0dd\",\"#8abfdc\",\"#88bedc\",\"#87bddc\",\"#85bcdb\",\"#83bbdb\",\"#82badb\",\"#80b9da\",\"#7fb8da\",\"#7db8d9\",\"#7bb7d9\",\"#7ab6d9\",\"#78b5d8\",\"#77b4d8\",\"#75b3d8\",\"#73b2d7\",\"#72b1d7\",\"#70b1d7\",\"#6fb0d6\",\"#6dafd6\",\"#6baed6\",\"#6aadd5\",\"#69acd5\",\"#67abd4\",\"#66aad4\",\"#65aad3\",\"#63a9d3\",\"#62a8d2\",\"#61a7d2\",\"#60a6d1\",\"#5ea5d1\",\"#5da4d0\",\"#5ca3d0\",\"#5aa3cf\",\"#59a2cf\",\"#58a1ce\",\"#57a0ce\",\"#559fcd\",\"#549ecd\",\"#539dcc\",\"#519ccc\",\"#509bcb\",\"#4f9bcb\",\"#4e9aca\",\"#4c99ca\",\"#4b98c9\",\"#4a97c9\",\"#4896c8\",\"#4795c8\",\"#4694c7\",\"#4594c7\",\"#4393c6\",\"#4292c6\",\"#4191c5\",\"#4090c5\",\"#3f8fc4\",\"#3e8ec4\",\"#3d8dc3\",\"#3c8cc3\",\"#3b8bc2\",\"#3a8ac1\",\"#3989c1\",\"#3888c0\",\"#3787c0\",\"#3585bf\",\"#3484bf\",\"#3383be\",\"#3282be\",\"#3181bd\",\"#3080bd\",\"#2f7fbc\",\"#2e7ebc\",\"#2d7dbb\",\"#2c7cbb\",\"#2b7bba\",\"#2a7ab9\",\"#2979b9\",\"#2878b8\",\"#2777b8\",\"#2676b7\",\"#2575b7\",\"#2474b6\",\"#2373b6\",\"#2272b5\",\"#2171b5\",\"#2070b4\",\"#1f6fb3\",\"#1e6eb2\",\"#1e6db2\",\"#1d6cb1\",\"#1c6bb0\",\"#1b6aaf\",\"#1a69ae\",\"#1a68ae\",\"#1967ad\",\"#1866ac\",\"#1765ab\",\"#1764ab\",\"#1663aa\",\"#1562a9\",\"#1461a8\",\"#1360a7\",\"#135fa7\",\"#125ea6\",\"#115da5\",\"#105ca4\",\"#0f5ba3\",\"#0f5aa3\",\"#0e59a2\",\"#0d58a1\",\"#0c57a0\",\"#0c56a0\",\"#0b559f\",\"#0a549e\",\"#09539d\",\"#08529c\",\"#08519c\",\"#08509a\",\"#084f99\",\"#084e97\",\"#084c96\",\"#084b94\",\"#084a92\",\"#084991\",\"#08488f\",\"#08478e\",\"#08468c\",\"#08458b\",\"#084489\",\"#084388\",\"#084286\",\"#084185\",\"#084083\",\"#083f82\",\"#083e80\",\"#083d7e\",\"#083c7d\",\"#083b7b\",\"#083a7a\",\"#083978\",\"#083877\",\"#083775\",\"#083674\",\"#083572\",\"#083471\",\"#08336f\",\"#08326e\",\"#08316c\",\"#08306b\"],\"low\":1,\"high\":100}}},\"fill_color\":{\"type\":\"field\",\"field\":\"color\",\"transform\":{\"id\":\"p1108\"}},\"hatch_color\":{\"type\":\"field\",\"field\":\"color\",\"transform\":{\"id\":\"p1108\"}}}},\"selection_glyph\":{\"type\":\"object\",\"name\":\"Scatter\",\"id\":\"p1117\",\"attributes\":{\"tags\":[\"apply_ranges\"],\"x\":{\"type\":\"field\",\"field\":\"Lng\"},\"y\":{\"type\":\"field\",\"field\":\"Lat\"},\"size\":{\"type\":\"field\",\"field\":\"size\"},\"line_color\":{\"type\":\"field\",\"field\":\"color\",\"transform\":{\"id\":\"p1108\"}},\"fill_color\":{\"type\":\"field\",\"field\":\"color\",\"transform\":{\"id\":\"p1108\"}},\"hatch_color\":{\"type\":\"field\",\"field\":\"color\",\"transform\":{\"id\":\"p1108\"}}}},\"nonselection_glyph\":{\"type\":\"object\",\"name\":\"Scatter\",\"id\":\"p1116\",\"attributes\":{\"tags\":[\"apply_ranges\"],\"x\":{\"type\":\"field\",\"field\":\"Lng\"},\"y\":{\"type\":\"field\",\"field\":\"Lat\"},\"size\":{\"type\":\"field\",\"field\":\"size\"},\"line_color\":{\"type\":\"field\",\"field\":\"color\",\"transform\":{\"id\":\"p1108\"}},\"line_alpha\":{\"type\":\"value\",\"value\":0.1},\"fill_color\":{\"type\":\"field\",\"field\":\"color\",\"transform\":{\"id\":\"p1108\"}},\"fill_alpha\":{\"type\":\"value\",\"value\":0.1},\"hatch_color\":{\"type\":\"field\",\"field\":\"color\",\"transform\":{\"id\":\"p1108\"}},\"hatch_alpha\":{\"type\":\"value\",\"value\":0.1}}},\"hover_glyph\":{\"type\":\"object\",\"name\":\"Scatter\",\"id\":\"p1118\",\"attributes\":{\"tags\":[\"apply_ranges\"],\"x\":{\"type\":\"field\",\"field\":\"Lng\"},\"y\":{\"type\":\"field\",\"field\":\"Lat\"},\"size\":{\"type\":\"field\",\"field\":\"size\"},\"line_color\":{\"type\":\"field\",\"field\":\"color\",\"transform\":{\"id\":\"p1108\"}},\"fill_color\":{\"type\":\"field\",\"field\":\"color\",\"transform\":{\"id\":\"p1108\"}},\"hatch_color\":{\"type\":\"field\",\"field\":\"color\",\"transform\":{\"id\":\"p1108\"}}}},\"muted_glyph\":{\"type\":\"object\",\"name\":\"Scatter\",\"id\":\"p1119\",\"attributes\":{\"tags\":[\"apply_ranges\"],\"x\":{\"type\":\"field\",\"field\":\"Lng\"},\"y\":{\"type\":\"field\",\"field\":\"Lat\"},\"size\":{\"type\":\"field\",\"field\":\"size\"},\"line_color\":{\"type\":\"field\",\"field\":\"color\",\"transform\":{\"id\":\"p1108\"}},\"line_alpha\":{\"type\":\"value\",\"value\":0.2},\"fill_color\":{\"type\":\"field\",\"field\":\"color\",\"transform\":{\"id\":\"p1108\"}},\"fill_alpha\":{\"type\":\"value\",\"value\":0.2},\"hatch_color\":{\"type\":\"field\",\"field\":\"color\",\"transform\":{\"id\":\"p1108\"}},\"hatch_alpha\":{\"type\":\"value\",\"value\":0.2}}}}}],\"toolbar\":{\"type\":\"object\",\"name\":\"Toolbar\",\"id\":\"p1090\",\"attributes\":{\"tools\":[{\"type\":\"object\",\"name\":\"WheelZoomTool\",\"id\":\"p1079\",\"attributes\":{\"tags\":[\"hv_created\"],\"zoom_together\":\"none\"}},{\"type\":\"object\",\"name\":\"HoverTool\",\"id\":\"p1080\",\"attributes\":{\"tags\":[\"hv_created\"],\"renderers\":[{\"id\":\"p1120\"}],\"tooltips\":[[\"Lng\",\"@{Lng}\"],[\"Lat\",\"@{Lat}\"],[\"Humidity\",\"@{Humidity}\"],[\"City\",\"@{City}\"]]}},{\"type\":\"object\",\"name\":\"SaveTool\",\"id\":\"p1103\"},{\"type\":\"object\",\"name\":\"PanTool\",\"id\":\"p1104\"},{\"type\":\"object\",\"name\":\"BoxZoomTool\",\"id\":\"p1105\",\"attributes\":{\"overlay\":{\"type\":\"object\",\"name\":\"BoxAnnotation\",\"id\":\"p1106\",\"attributes\":{\"syncable\":false,\"level\":\"overlay\",\"visible\":false,\"left_units\":\"canvas\",\"right_units\":\"canvas\",\"bottom_units\":\"canvas\",\"top_units\":\"canvas\",\"line_color\":\"black\",\"line_alpha\":1.0,\"line_width\":2,\"line_dash\":[4,4],\"fill_color\":\"lightgrey\",\"fill_alpha\":0.5}}}},{\"type\":\"object\",\"name\":\"ResetTool\",\"id\":\"p1107\"}],\"active_drag\":{\"id\":\"p1104\"},\"active_scroll\":{\"id\":\"p1079\"}}},\"left\":[{\"type\":\"object\",\"name\":\"LinearAxis\",\"id\":\"p1098\",\"attributes\":{\"ticker\":{\"type\":\"object\",\"name\":\"BasicTicker\",\"id\":\"p1099\",\"attributes\":{\"mantissas\":[1,2,5]}},\"formatter\":{\"type\":\"object\",\"name\":\"BasicTickFormatter\",\"id\":\"p1100\"},\"axis_label\":\"Lat\",\"major_label_policy\":{\"type\":\"object\",\"name\":\"AllLabels\",\"id\":\"p1101\"}}}],\"right\":[{\"type\":\"object\",\"name\":\"ColorBar\",\"id\":\"p1124\",\"attributes\":{\"location\":[0,0],\"ticker\":{\"type\":\"object\",\"name\":\"BasicTicker\",\"id\":\"p1123\",\"attributes\":{\"mantissas\":[1,2,5]}},\"major_label_policy\":{\"type\":\"object\",\"name\":\"NoOverlap\",\"id\":\"p1125\"},\"label_standoff\":8,\"major_tick_line_color\":\"black\",\"bar_line_color\":\"black\",\"color_mapper\":{\"id\":\"p1108\"}}}],\"below\":[{\"type\":\"object\",\"name\":\"LinearAxis\",\"id\":\"p1093\",\"attributes\":{\"ticker\":{\"type\":\"object\",\"name\":\"BasicTicker\",\"id\":\"p1094\",\"attributes\":{\"mantissas\":[1,2,5]}},\"formatter\":{\"type\":\"object\",\"name\":\"BasicTickFormatter\",\"id\":\"p1095\"},\"axis_label\":\"Lng\",\"major_label_policy\":{\"type\":\"object\",\"name\":\"AllLabels\",\"id\":\"p1096\"}}}],\"center\":[{\"type\":\"object\",\"name\":\"Grid\",\"id\":\"p1097\",\"attributes\":{\"axis\":{\"id\":\"p1093\"},\"grid_line_color\":null}},{\"type\":\"object\",\"name\":\"Grid\",\"id\":\"p1102\",\"attributes\":{\"dimension\":1,\"axis\":{\"id\":\"p1098\"},\"grid_line_color\":null}}],\"min_border_top\":10,\"min_border_bottom\":10,\"min_border_left\":10,\"min_border_right\":10,\"output_backend\":\"webgl\"}},{\"type\":\"object\",\"name\":\"Spacer\",\"id\":\"p1127\",\"attributes\":{\"name\":\"HSpacer01039\",\"stylesheets\":[\"\\n:host(.pn-loading.pn-arc):before, .pn-loading.pn-arc:before {\\n  background-image: url(\\\"data:image/svg+xml;base64,PHN2ZyB4bWxucz0iaHR0cDovL3d3dy53My5vcmcvMjAwMC9zdmciIHN0eWxlPSJtYXJnaW46IGF1dG87IGJhY2tncm91bmQ6IG5vbmU7IGRpc3BsYXk6IGJsb2NrOyBzaGFwZS1yZW5kZXJpbmc6IGF1dG87IiB2aWV3Qm94PSIwIDAgMTAwIDEwMCIgcHJlc2VydmVBc3BlY3RSYXRpbz0ieE1pZFlNaWQiPiAgPGNpcmNsZSBjeD0iNTAiIGN5PSI1MCIgZmlsbD0ibm9uZSIgc3Ryb2tlPSIjYzNjM2MzIiBzdHJva2Utd2lkdGg9IjEwIiByPSIzNSIgc3Ryb2tlLWRhc2hhcnJheT0iMTY0LjkzMzYxNDMxMzQ2NDE1IDU2Ljk3Nzg3MTQzNzgyMTM4Ij4gICAgPGFuaW1hdGVUcmFuc2Zvcm0gYXR0cmlidXRlTmFtZT0idHJhbnNmb3JtIiB0eXBlPSJyb3RhdGUiIHJlcGVhdENvdW50PSJpbmRlZmluaXRlIiBkdXI9IjFzIiB2YWx1ZXM9IjAgNTAgNTA7MzYwIDUwIDUwIiBrZXlUaW1lcz0iMDsxIj48L2FuaW1hdGVUcmFuc2Zvcm0+ICA8L2NpcmNsZT48L3N2Zz4=\\\");\\n  background-size: auto calc(min(50%, 400px));\\n}\",{\"id\":\"p1072\"},{\"id\":\"p1070\"},{\"id\":\"p1071\"}],\"margin\":0,\"sizing_mode\":\"stretch_width\",\"align\":\"start\"}}]}}],\"defs\":[{\"type\":\"model\",\"name\":\"ReactiveHTML1\"},{\"type\":\"model\",\"name\":\"FlexBox1\",\"properties\":[{\"name\":\"align_content\",\"kind\":\"Any\",\"default\":\"flex-start\"},{\"name\":\"align_items\",\"kind\":\"Any\",\"default\":\"flex-start\"},{\"name\":\"flex_direction\",\"kind\":\"Any\",\"default\":\"row\"},{\"name\":\"flex_wrap\",\"kind\":\"Any\",\"default\":\"wrap\"},{\"name\":\"justify_content\",\"kind\":\"Any\",\"default\":\"flex-start\"}]},{\"type\":\"model\",\"name\":\"FloatPanel1\",\"properties\":[{\"name\":\"config\",\"kind\":\"Any\",\"default\":{\"type\":\"map\"}},{\"name\":\"contained\",\"kind\":\"Any\",\"default\":true},{\"name\":\"position\",\"kind\":\"Any\",\"default\":\"right-top\"},{\"name\":\"offsetx\",\"kind\":\"Any\",\"default\":null},{\"name\":\"offsety\",\"kind\":\"Any\",\"default\":null},{\"name\":\"theme\",\"kind\":\"Any\",\"default\":\"primary\"},{\"name\":\"status\",\"kind\":\"Any\",\"default\":\"normalized\"}]},{\"type\":\"model\",\"name\":\"GridStack1\",\"properties\":[{\"name\":\"mode\",\"kind\":\"Any\",\"default\":\"warn\"},{\"name\":\"ncols\",\"kind\":\"Any\",\"default\":null},{\"name\":\"nrows\",\"kind\":\"Any\",\"default\":null},{\"name\":\"allow_resize\",\"kind\":\"Any\",\"default\":true},{\"name\":\"allow_drag\",\"kind\":\"Any\",\"default\":true},{\"name\":\"state\",\"kind\":\"Any\",\"default\":[]}]},{\"type\":\"model\",\"name\":\"drag1\",\"properties\":[{\"name\":\"slider_width\",\"kind\":\"Any\",\"default\":5},{\"name\":\"slider_color\",\"kind\":\"Any\",\"default\":\"black\"},{\"name\":\"value\",\"kind\":\"Any\",\"default\":50}]},{\"type\":\"model\",\"name\":\"click1\",\"properties\":[{\"name\":\"terminal_output\",\"kind\":\"Any\",\"default\":\"\"},{\"name\":\"debug_name\",\"kind\":\"Any\",\"default\":\"\"},{\"name\":\"clears\",\"kind\":\"Any\",\"default\":0}]},{\"type\":\"model\",\"name\":\"FastWrapper1\",\"properties\":[{\"name\":\"object\",\"kind\":\"Any\",\"default\":null},{\"name\":\"style\",\"kind\":\"Any\",\"default\":null}]},{\"type\":\"model\",\"name\":\"NotificationAreaBase1\",\"properties\":[{\"name\":\"js_events\",\"kind\":\"Any\",\"default\":{\"type\":\"map\"}},{\"name\":\"position\",\"kind\":\"Any\",\"default\":\"bottom-right\"},{\"name\":\"_clear\",\"kind\":\"Any\",\"default\":0}]},{\"type\":\"model\",\"name\":\"NotificationArea1\",\"properties\":[{\"name\":\"js_events\",\"kind\":\"Any\",\"default\":{\"type\":\"map\"}},{\"name\":\"notifications\",\"kind\":\"Any\",\"default\":[]},{\"name\":\"position\",\"kind\":\"Any\",\"default\":\"bottom-right\"},{\"name\":\"_clear\",\"kind\":\"Any\",\"default\":0},{\"name\":\"types\",\"kind\":\"Any\",\"default\":[{\"type\":\"map\",\"entries\":[[\"type\",\"warning\"],[\"background\",\"#ffc107\"],[\"icon\",{\"type\":\"map\",\"entries\":[[\"className\",\"fas fa-exclamation-triangle\"],[\"tagName\",\"i\"],[\"color\",\"white\"]]}]]},{\"type\":\"map\",\"entries\":[[\"type\",\"info\"],[\"background\",\"#007bff\"],[\"icon\",{\"type\":\"map\",\"entries\":[[\"className\",\"fas fa-info-circle\"],[\"tagName\",\"i\"],[\"color\",\"white\"]]}]]}]}]},{\"type\":\"model\",\"name\":\"Notification\",\"properties\":[{\"name\":\"background\",\"kind\":\"Any\",\"default\":null},{\"name\":\"duration\",\"kind\":\"Any\",\"default\":3000},{\"name\":\"icon\",\"kind\":\"Any\",\"default\":null},{\"name\":\"message\",\"kind\":\"Any\",\"default\":\"\"},{\"name\":\"notification_type\",\"kind\":\"Any\",\"default\":null},{\"name\":\"_destroyed\",\"kind\":\"Any\",\"default\":false}]},{\"type\":\"model\",\"name\":\"TemplateActions1\",\"properties\":[{\"name\":\"open_modal\",\"kind\":\"Any\",\"default\":0},{\"name\":\"close_modal\",\"kind\":\"Any\",\"default\":0}]},{\"type\":\"model\",\"name\":\"BootstrapTemplateActions1\",\"properties\":[{\"name\":\"open_modal\",\"kind\":\"Any\",\"default\":0},{\"name\":\"close_modal\",\"kind\":\"Any\",\"default\":0}]},{\"type\":\"model\",\"name\":\"MaterialTemplateActions1\",\"properties\":[{\"name\":\"open_modal\",\"kind\":\"Any\",\"default\":0},{\"name\":\"close_modal\",\"kind\":\"Any\",\"default\":0}]}]}};\n",
       "  var render_items = [{\"docid\":\"01087fe1-b9a2-4b0a-88b6-380a8df5a124\",\"roots\":{\"p1069\":\"ad22fbca-47a0-478f-b21f-6d44c3333f7c\"},\"root_ids\":[\"p1069\"]}];\n",
       "  var docs = Object.values(docs_json)\n",
       "  if (!docs) {\n",
       "    return\n",
       "  }\n",
       "  const py_version = docs[0].version.replace('rc', '-rc.').replace('.dev', '-dev.')\n",
       "  const is_dev = py_version.indexOf(\"+\") !== -1 || py_version.indexOf(\"-\") !== -1\n",
       "  function embed_document(root) {\n",
       "    var Bokeh = get_bokeh(root)\n",
       "    Bokeh.embed.embed_items_notebook(docs_json, render_items);\n",
       "    for (const render_item of render_items) {\n",
       "      for (const root_id of render_item.root_ids) {\n",
       "\tconst id_el = document.getElementById(root_id)\n",
       "\tif (id_el.children.length && (id_el.children[0].className === 'bk-root')) {\n",
       "\t  const root_el = id_el.children[0]\n",
       "\t  root_el.id = root_el.id + '-rendered'\n",
       "\t}\n",
       "      }\n",
       "    }\n",
       "  }\n",
       "  function get_bokeh(root) {\n",
       "    if (root.Bokeh === undefined) {\n",
       "      return null\n",
       "    } else if (root.Bokeh.version !== py_version && !is_dev) {\n",
       "      if (root.Bokeh.versions === undefined || !root.Bokeh.versions.has(py_version)) {\n",
       "\treturn null\n",
       "      }\n",
       "      return root.Bokeh.versions.get(py_version);\n",
       "    } else if (root.Bokeh.version === py_version) {\n",
       "      return root.Bokeh\n",
       "    }\n",
       "    return null\n",
       "  }\n",
       "  function is_loaded(root) {\n",
       "    var Bokeh = get_bokeh(root)\n",
       "    return (Bokeh != null && Bokeh.Panel !== undefined)\n",
       "  }\n",
       "  if (is_loaded(root)) {\n",
       "    embed_document(root);\n",
       "  } else {\n",
       "    var attempts = 0;\n",
       "    var timer = setInterval(function(root) {\n",
       "      if (is_loaded(root)) {\n",
       "        clearInterval(timer);\n",
       "        embed_document(root);\n",
       "      } else if (document.readyState == \"complete\") {\n",
       "        attempts++;\n",
       "        if (attempts > 200) {\n",
       "          clearInterval(timer);\n",
       "\t  var Bokeh = get_bokeh(root)\n",
       "\t  if (Bokeh == null || Bokeh.Panel == null) {\n",
       "            console.warn(\"Panel: ERROR: Unable to run Panel code because Bokeh or Panel library is missing\");\n",
       "\t  } else {\n",
       "\t    console.warn(\"Panel: WARNING: Attempting to render but not all required libraries could be resolved.\")\n",
       "\t    embed_document(root)\n",
       "\t  }\n",
       "        }\n",
       "      }\n",
       "    }, 25, root)\n",
       "  }\n",
       "})(window);</script>"
      ],
      "text/plain": [
       ":Scatter   [Lng]   (Lat,Humidity,City)"
      ]
     },
     "execution_count": 90,
     "metadata": {
      "application/vnd.holoviews_exec.v0+json": {
       "id": "p1069"
      }
     },
     "output_type": "execute_result"
    }
   ],
   "source": [
    "%%capture --no-display\n",
    "\n",
    "# Configure the map plot\n",
    "map_plot = city_data_df.hvplot.scatter(x='Lng', y='Lat', c='Humidity', cmap='Blues', hover_cols=['City'], size='Humidity', title='City Humidity')\n",
    "\n",
    "# Display the map\n",
    "map_plot"
   ]
  },
  {
   "cell_type": "markdown",
   "metadata": {},
   "source": [
    "### Step 2: Narrow down the `city_data_df` DataFrame to find your ideal weather condition"
   ]
  },
  {
   "cell_type": "code",
   "execution_count": 4,
   "metadata": {
    "tags": []
   },
   "outputs": [
    {
     "data": {
      "text/html": [
       "<div>\n",
       "<style scoped>\n",
       "    .dataframe tbody tr th:only-of-type {\n",
       "        vertical-align: middle;\n",
       "    }\n",
       "\n",
       "    .dataframe tbody tr th {\n",
       "        vertical-align: top;\n",
       "    }\n",
       "\n",
       "    .dataframe thead th {\n",
       "        text-align: right;\n",
       "    }\n",
       "</style>\n",
       "<table border=\"1\" class=\"dataframe\">\n",
       "  <thead>\n",
       "    <tr style=\"text-align: right;\">\n",
       "      <th></th>\n",
       "      <th>City_ID</th>\n",
       "      <th>City</th>\n",
       "      <th>Lat</th>\n",
       "      <th>Lng</th>\n",
       "      <th>Max Temp</th>\n",
       "      <th>Humidity</th>\n",
       "      <th>Cloudiness</th>\n",
       "      <th>Wind Speed</th>\n",
       "      <th>Country</th>\n",
       "      <th>Date</th>\n",
       "    </tr>\n",
       "  </thead>\n",
       "  <tbody>\n",
       "    <tr>\n",
       "      <th>0</th>\n",
       "      <td>0</td>\n",
       "      <td>as sulayyil</td>\n",
       "      <td>20.4607</td>\n",
       "      <td>45.5779</td>\n",
       "      <td>293.29</td>\n",
       "      <td>50</td>\n",
       "      <td>100</td>\n",
       "      <td>2.20</td>\n",
       "      <td>SA</td>\n",
       "      <td>1712007574</td>\n",
       "    </tr>\n",
       "    <tr>\n",
       "      <th>2</th>\n",
       "      <td>2</td>\n",
       "      <td>adamstown</td>\n",
       "      <td>-25.0660</td>\n",
       "      <td>-130.1015</td>\n",
       "      <td>296.74</td>\n",
       "      <td>78</td>\n",
       "      <td>97</td>\n",
       "      <td>6.10</td>\n",
       "      <td>PN</td>\n",
       "      <td>1712007507</td>\n",
       "    </tr>\n",
       "    <tr>\n",
       "      <th>6</th>\n",
       "      <td>6</td>\n",
       "      <td>bom jardim</td>\n",
       "      <td>-7.7958</td>\n",
       "      <td>-35.5872</td>\n",
       "      <td>298.08</td>\n",
       "      <td>87</td>\n",
       "      <td>76</td>\n",
       "      <td>2.76</td>\n",
       "      <td>BR</td>\n",
       "      <td>1712007575</td>\n",
       "    </tr>\n",
       "    <tr>\n",
       "      <th>9</th>\n",
       "      <td>9</td>\n",
       "      <td>georgetown</td>\n",
       "      <td>5.4112</td>\n",
       "      <td>100.3354</td>\n",
       "      <td>301.45</td>\n",
       "      <td>86</td>\n",
       "      <td>20</td>\n",
       "      <td>0.51</td>\n",
       "      <td>MY</td>\n",
       "      <td>1712007375</td>\n",
       "    </tr>\n",
       "    <tr>\n",
       "      <th>11</th>\n",
       "      <td>11</td>\n",
       "      <td>pemba</td>\n",
       "      <td>-12.9740</td>\n",
       "      <td>40.5178</td>\n",
       "      <td>300.54</td>\n",
       "      <td>88</td>\n",
       "      <td>75</td>\n",
       "      <td>3.60</td>\n",
       "      <td>MZ</td>\n",
       "      <td>1712007864</td>\n",
       "    </tr>\n",
       "  </tbody>\n",
       "</table>\n",
       "</div>"
      ],
      "text/plain": [
       "    City_ID         City      Lat       Lng  Max Temp  Humidity  Cloudiness  \\\n",
       "0         0  as sulayyil  20.4607   45.5779    293.29        50         100   \n",
       "2         2    adamstown -25.0660 -130.1015    296.74        78          97   \n",
       "6         6   bom jardim  -7.7958  -35.5872    298.08        87          76   \n",
       "9         9   georgetown   5.4112  100.3354    301.45        86          20   \n",
       "11       11        pemba -12.9740   40.5178    300.54        88          75   \n",
       "\n",
       "    Wind Speed Country        Date  \n",
       "0         2.20      SA  1712007574  \n",
       "2         6.10      PN  1712007507  \n",
       "6         2.76      BR  1712007575  \n",
       "9         0.51      MY  1712007375  \n",
       "11        3.60      MZ  1712007864  "
      ]
     },
     "execution_count": 4,
     "metadata": {},
     "output_type": "execute_result"
    }
   ],
   "source": [
    "\n",
    "# Narrow down cities that fit criteria and drop any results with null values\n",
    "ideal_conditions = (city_data_df[\"Max Temp\"] > (20 + 273.15)) & (city_data_df[\"Max Temp\"] < (29 + 273.15))\n",
    "\n",
    "\n",
    "# Filter the DataFrame based on the ideal conditions and create a copy\n",
    "ideal_cities_df = city_data_df[ideal_conditions].copy()\n",
    "\n",
    "# Drop any rows with null values\n",
    "ideal_cities_df.dropna(inplace=True)\n",
    "\n",
    "# Display sample data\n",
    "ideal_cities_df.head()"
   ]
  },
  {
   "cell_type": "markdown",
   "metadata": {},
   "source": [
    "### Step 3: Create a new DataFrame called `hotel_df`."
   ]
  },
  {
   "cell_type": "code",
   "execution_count": 5,
   "metadata": {
    "tags": []
   },
   "outputs": [
    {
     "data": {
      "text/html": [
       "<div>\n",
       "<style scoped>\n",
       "    .dataframe tbody tr th:only-of-type {\n",
       "        vertical-align: middle;\n",
       "    }\n",
       "\n",
       "    .dataframe tbody tr th {\n",
       "        vertical-align: top;\n",
       "    }\n",
       "\n",
       "    .dataframe thead th {\n",
       "        text-align: right;\n",
       "    }\n",
       "</style>\n",
       "<table border=\"1\" class=\"dataframe\">\n",
       "  <thead>\n",
       "    <tr style=\"text-align: right;\">\n",
       "      <th></th>\n",
       "      <th>City</th>\n",
       "      <th>Country</th>\n",
       "      <th>Lat</th>\n",
       "      <th>Lng</th>\n",
       "      <th>Humidity</th>\n",
       "      <th>Hotel Name</th>\n",
       "    </tr>\n",
       "  </thead>\n",
       "  <tbody>\n",
       "    <tr>\n",
       "      <th>0</th>\n",
       "      <td>as sulayyil</td>\n",
       "      <td>SA</td>\n",
       "      <td>20.4607</td>\n",
       "      <td>45.5779</td>\n",
       "      <td>50</td>\n",
       "      <td></td>\n",
       "    </tr>\n",
       "    <tr>\n",
       "      <th>2</th>\n",
       "      <td>adamstown</td>\n",
       "      <td>PN</td>\n",
       "      <td>-25.0660</td>\n",
       "      <td>-130.1015</td>\n",
       "      <td>78</td>\n",
       "      <td></td>\n",
       "    </tr>\n",
       "    <tr>\n",
       "      <th>6</th>\n",
       "      <td>bom jardim</td>\n",
       "      <td>BR</td>\n",
       "      <td>-7.7958</td>\n",
       "      <td>-35.5872</td>\n",
       "      <td>87</td>\n",
       "      <td></td>\n",
       "    </tr>\n",
       "    <tr>\n",
       "      <th>9</th>\n",
       "      <td>georgetown</td>\n",
       "      <td>MY</td>\n",
       "      <td>5.4112</td>\n",
       "      <td>100.3354</td>\n",
       "      <td>86</td>\n",
       "      <td></td>\n",
       "    </tr>\n",
       "    <tr>\n",
       "      <th>11</th>\n",
       "      <td>pemba</td>\n",
       "      <td>MZ</td>\n",
       "      <td>-12.9740</td>\n",
       "      <td>40.5178</td>\n",
       "      <td>88</td>\n",
       "      <td></td>\n",
       "    </tr>\n",
       "  </tbody>\n",
       "</table>\n",
       "</div>"
      ],
      "text/plain": [
       "           City Country      Lat       Lng  Humidity Hotel Name\n",
       "0   as sulayyil      SA  20.4607   45.5779        50           \n",
       "2     adamstown      PN -25.0660 -130.1015        78           \n",
       "6    bom jardim      BR  -7.7958  -35.5872        87           \n",
       "9    georgetown      MY   5.4112  100.3354        86           \n",
       "11        pemba      MZ -12.9740   40.5178        88           "
      ]
     },
     "execution_count": 5,
     "metadata": {},
     "output_type": "execute_result"
    }
   ],
   "source": [
    "# Use the Pandas copy function to create DataFrame called hotel_df to store the city, country, coordinates, and humidity\n",
    "hotel_df = ideal_cities_df[[\"City\", \"Country\", \"Lat\", \"Lng\", \"Humidity\"]].copy()\n",
    "\n",
    "# Add an empty column, \"Hotel Name,\" to the DataFrame so you can store the hotel found using the Geoapify API\n",
    "hotel_df[\"Hotel Name\"] = \"\"\n",
    "\n",
    "# Display sample data\n",
    "hotel_df.head()"
   ]
  },
  {
   "cell_type": "markdown",
   "metadata": {},
   "source": [
    "### Step 4: For each city, use the Geoapify API to find the first hotel located within 10,000 metres of your coordinates."
   ]
  },
  {
   "cell_type": "code",
   "execution_count": 91,
   "metadata": {
    "tags": []
   },
   "outputs": [
    {
     "name": "stdout",
     "output_type": "stream",
     "text": [
      "Starting hotel search\n",
      "as sulayyil - nearest hotel: No hotel found\n",
      "adamstown - nearest hotel: No hotel found\n",
      "bom jardim - nearest hotel: Hotel Breno\n",
      "georgetown - nearest hotel: Page 63 hostel\n",
      "pemba - nearest hotel: Hotel Rafael\n",
      "port mathurin - nearest hotel: Escale Vacances\n",
      "netanya - nearest hotel: King Koresh\n",
      "newman - nearest hotel: No hotel found\n",
      "salalah - nearest hotel: Muscat International Hotel\n",
      "saint-philippe - nearest hotel: Le Baril\n",
      "pimentel - nearest hotel: Hospedaje Calle del Sol\n",
      "arraial do cabo - nearest hotel: No hotel found\n",
      "santiago de cao - nearest hotel: Hostal El Encanto\n",
      "utrik - nearest hotel: No hotel found\n",
      "hawaiian paradise park - nearest hotel: No hotel found\n",
      "bogo - nearest hotel: R&F Function\n",
      "tual - nearest hotel: Suita\n",
      "uturoa - nearest hotel: Hawaiki Nui hotel\n",
      "i-n-salah - nearest hotel: باجودة\n",
      "fayetteville - nearest hotel: Regency Inn\n",
      "west island - nearest hotel: Cocos Village Bungalows\n",
      "myeik - nearest hotel: Green Eyes Hotel\n",
      "karratha - nearest hotel: Karratha International Hotel\n",
      "urangan - nearest hotel: Ramada\n",
      "sungailiat - nearest hotel: Novila Boutique & Resort Hotel\n",
      "kapa'a - nearest hotel: Pono Kai Resort\n",
      "fort bragg - nearest hotel: Airborne Inn Lodging\n",
      "salinopolis - nearest hotel: Hotel Salinópolis\n",
      "flying fish cove - nearest hotel: Christmas Island Lodge\n",
      "alice springs - nearest hotel: Aurora Alice Springs\n",
      "basco - nearest hotel: Tawsen Hotel\n",
      "praia - nearest hotel: Casa Sodadi\n",
      "natal - nearest hotel: Natal Palace Hotel\n",
      "wailua homesteads - nearest hotel: Hilton Garden Inn Kauai Wailua Bay\n",
      "tabou - nearest hotel: hôtel le rochet\n",
      "at taj - nearest hotel: No hotel found\n",
      "tionk essil - nearest hotel: Campement Edonia\n",
      "lima - nearest hotel: Hotel Peach Garden\n",
      "freetown - nearest hotel: Formal Leona hotel\n",
      "cabo san lucas - nearest hotel: Comfort Rooms\n",
      "puerto ayora - nearest hotel: Hostal La Mirada De Solitario George\n",
      "vera cruz - nearest hotel: No hotel found\n",
      "sabha - nearest hotel: فندق الكاظم-سبها\n",
      "yaren - nearest hotel: Aiwo Hotel\n",
      "badiyah - nearest hotel: Al Areen Hotel Apartments\n",
      "enewetak - nearest hotel: No hotel found\n",
      "salinas - nearest hotel: The Traveler's Hotel\n",
      "crane - nearest hotel: No hotel found\n",
      "aitape - nearest hotel: No hotel found\n",
      "mount isa - nearest hotel: Ibis Styles\n",
      "guane - nearest hotel: No hotel found\n",
      "almeirim - nearest hotel: Kapejar Hotel\n",
      "kattivakkam - nearest hotel: No hotel found\n",
      "petrolina - nearest hotel: Neuman\n",
      "anantapur - nearest hotel: Geetha Residency\n",
      "conde - nearest hotel: Paladino\n",
      "praya - nearest hotel: Casa Sodadi\n",
      "minas de marcona - nearest hotel: No hotel found\n",
      "fredericksburg - nearest hotel: Kenmore Inn\n",
      "yeppoon - nearest hotel: Blossom's on Seaspray\n",
      "howard springs - nearest hotel: Rydges Palmerston\n",
      "veraval - nearest hotel: Shyam\n",
      "holualoa - nearest hotel: Kona Hotel\n",
      "san mariano - nearest hotel: No hotel found\n",
      "kili - nearest hotel: No hotel found\n",
      "amahai - nearest hotel: Hotel Irene\n",
      "caleta de carquin - nearest hotel: Hotel Mi Choacan\n",
      "isangel - nearest hotel: Tanna Lodge\n",
      "andovoranto - nearest hotel: Le nirvana\n",
      "nuku'alofa - nearest hotel: City Hotel\n",
      "tura - nearest hotel: Hotel Polo Orchid\n",
      "yoko - nearest hotel: No hotel found\n",
      "pacocha - nearest hotel: Gran Hotel Ilo\n",
      "boyolangu - nearest hotel: Crown Victoria\n",
      "axim - nearest hotel: Axim Beach Hotel\n",
      "portland - nearest hotel: the Hoxton\n",
      "belo sur tsiribihina - nearest hotel: Karibo\n",
      "haiku-pauwela - nearest hotel: Inn At Mama's Fish House\n",
      "nova vicosa - nearest hotel: Pousada Pontal da Barra\n",
      "gereida - nearest hotel: No hotel found\n",
      "namibe - nearest hotel: Nelsal Pensao\n",
      "nyala - nearest hotel: سوني سفاري\n",
      "rio grande - nearest hotel: Hotel Vila Moura Executivo\n",
      "lompoc - nearest hotel: Red Roof Inn Lompoc\n",
      "huicungo - nearest hotel: No hotel found\n",
      "pandan - nearest hotel: No hotel found\n",
      "pindare mirim - nearest hotel: Hotel Muniz\n",
      "bambanglipuro - nearest hotel: Puri Ganjuran\n",
      "lihue - nearest hotel: Kauai Palms\n",
      "east london - nearest hotel: No hotel found\n",
      "acapulco de juarez - nearest hotel: Hotel del Valle\n",
      "ar raqqah - nearest hotel: Al Sari\n",
      "carnarvon - nearest hotel: No hotel found\n",
      "aras-asan - nearest hotel: Cagwait LGU Beach Resort\n",
      "mormugao - nearest hotel: Hotel Rukhmini\n",
      "hatta - nearest hotel: No hotel found\n",
      "puerto baquerizo moreno - nearest hotel: Dory's House\n",
      "jabor - nearest hotel: No hotel found\n",
      "lazaro cardenas - nearest hotel: Hotel Sol del Pacífico\n",
      "kiunga - nearest hotel: No hotel found\n",
      "katsuren-haebaru - nearest hotel: No hotel found\n",
      "sanming - nearest hotel: 三明客家宾馆\n",
      "san julian - nearest hotel: No hotel found\n",
      "hadibu - nearest hotel: No hotel found\n",
      "dolisie - nearest hotel: Residence Nelson\n"
     ]
    },
    {
     "ename": "KeyboardInterrupt",
     "evalue": "",
     "output_type": "error",
     "traceback": [
      "\u001b[0;31m---------------------------------------------------------------------------\u001b[0m",
      "\u001b[0;31mKeyboardInterrupt\u001b[0m                         Traceback (most recent call last)",
      "Cell \u001b[0;32mIn[91], line 24\u001b[0m\n\u001b[1;32m     21\u001b[0m base_url \u001b[38;5;241m=\u001b[39m \u001b[38;5;124m\"\u001b[39m\u001b[38;5;124mhttps://api.geoapify.com/v2/places\u001b[39m\u001b[38;5;124m\"\u001b[39m\n\u001b[1;32m     23\u001b[0m \u001b[38;5;66;03m# Make and API request using the params dictionaty\u001b[39;00m\n\u001b[0;32m---> 24\u001b[0m name_address \u001b[38;5;241m=\u001b[39m \u001b[43mrequests\u001b[49m\u001b[38;5;241;43m.\u001b[39;49m\u001b[43mget\u001b[49m\u001b[43m(\u001b[49m\u001b[43mbase_url\u001b[49m\u001b[43m,\u001b[49m\u001b[43m \u001b[49m\u001b[43mparams\u001b[49m\u001b[38;5;241;43m=\u001b[39;49m\u001b[43mparams\u001b[49m\u001b[43m)\u001b[49m\n\u001b[1;32m     26\u001b[0m \u001b[38;5;66;03m# Convert the API response to JSON format\u001b[39;00m\n\u001b[1;32m     27\u001b[0m name_address \u001b[38;5;241m=\u001b[39m name_address\u001b[38;5;241m.\u001b[39mjson()\n",
      "File \u001b[0;32m~/anaconda3/envs/dev/lib/python3.10/site-packages/requests/api.py:73\u001b[0m, in \u001b[0;36mget\u001b[0;34m(url, params, **kwargs)\u001b[0m\n\u001b[1;32m     62\u001b[0m \u001b[38;5;28;01mdef\u001b[39;00m \u001b[38;5;21mget\u001b[39m(url, params\u001b[38;5;241m=\u001b[39m\u001b[38;5;28;01mNone\u001b[39;00m, \u001b[38;5;241m*\u001b[39m\u001b[38;5;241m*\u001b[39mkwargs):\n\u001b[1;32m     63\u001b[0m \u001b[38;5;250m    \u001b[39m\u001b[38;5;124mr\u001b[39m\u001b[38;5;124;03m\"\"\"Sends a GET request.\u001b[39;00m\n\u001b[1;32m     64\u001b[0m \n\u001b[1;32m     65\u001b[0m \u001b[38;5;124;03m    :param url: URL for the new :class:`Request` object.\u001b[39;00m\n\u001b[0;32m   (...)\u001b[0m\n\u001b[1;32m     70\u001b[0m \u001b[38;5;124;03m    :rtype: requests.Response\u001b[39;00m\n\u001b[1;32m     71\u001b[0m \u001b[38;5;124;03m    \"\"\"\u001b[39;00m\n\u001b[0;32m---> 73\u001b[0m     \u001b[38;5;28;01mreturn\u001b[39;00m \u001b[43mrequest\u001b[49m\u001b[43m(\u001b[49m\u001b[38;5;124;43m\"\u001b[39;49m\u001b[38;5;124;43mget\u001b[39;49m\u001b[38;5;124;43m\"\u001b[39;49m\u001b[43m,\u001b[49m\u001b[43m \u001b[49m\u001b[43murl\u001b[49m\u001b[43m,\u001b[49m\u001b[43m \u001b[49m\u001b[43mparams\u001b[49m\u001b[38;5;241;43m=\u001b[39;49m\u001b[43mparams\u001b[49m\u001b[43m,\u001b[49m\u001b[43m \u001b[49m\u001b[38;5;241;43m*\u001b[39;49m\u001b[38;5;241;43m*\u001b[39;49m\u001b[43mkwargs\u001b[49m\u001b[43m)\u001b[49m\n",
      "File \u001b[0;32m~/anaconda3/envs/dev/lib/python3.10/site-packages/requests/api.py:59\u001b[0m, in \u001b[0;36mrequest\u001b[0;34m(method, url, **kwargs)\u001b[0m\n\u001b[1;32m     55\u001b[0m \u001b[38;5;66;03m# By using the 'with' statement we are sure the session is closed, thus we\u001b[39;00m\n\u001b[1;32m     56\u001b[0m \u001b[38;5;66;03m# avoid leaving sockets open which can trigger a ResourceWarning in some\u001b[39;00m\n\u001b[1;32m     57\u001b[0m \u001b[38;5;66;03m# cases, and look like a memory leak in others.\u001b[39;00m\n\u001b[1;32m     58\u001b[0m \u001b[38;5;28;01mwith\u001b[39;00m sessions\u001b[38;5;241m.\u001b[39mSession() \u001b[38;5;28;01mas\u001b[39;00m session:\n\u001b[0;32m---> 59\u001b[0m     \u001b[38;5;28;01mreturn\u001b[39;00m \u001b[43msession\u001b[49m\u001b[38;5;241;43m.\u001b[39;49m\u001b[43mrequest\u001b[49m\u001b[43m(\u001b[49m\u001b[43mmethod\u001b[49m\u001b[38;5;241;43m=\u001b[39;49m\u001b[43mmethod\u001b[49m\u001b[43m,\u001b[49m\u001b[43m \u001b[49m\u001b[43murl\u001b[49m\u001b[38;5;241;43m=\u001b[39;49m\u001b[43murl\u001b[49m\u001b[43m,\u001b[49m\u001b[43m \u001b[49m\u001b[38;5;241;43m*\u001b[39;49m\u001b[38;5;241;43m*\u001b[39;49m\u001b[43mkwargs\u001b[49m\u001b[43m)\u001b[49m\n",
      "File \u001b[0;32m~/anaconda3/envs/dev/lib/python3.10/site-packages/requests/sessions.py:589\u001b[0m, in \u001b[0;36mSession.request\u001b[0;34m(self, method, url, params, data, headers, cookies, files, auth, timeout, allow_redirects, proxies, hooks, stream, verify, cert, json)\u001b[0m\n\u001b[1;32m    584\u001b[0m send_kwargs \u001b[38;5;241m=\u001b[39m {\n\u001b[1;32m    585\u001b[0m     \u001b[38;5;124m\"\u001b[39m\u001b[38;5;124mtimeout\u001b[39m\u001b[38;5;124m\"\u001b[39m: timeout,\n\u001b[1;32m    586\u001b[0m     \u001b[38;5;124m\"\u001b[39m\u001b[38;5;124mallow_redirects\u001b[39m\u001b[38;5;124m\"\u001b[39m: allow_redirects,\n\u001b[1;32m    587\u001b[0m }\n\u001b[1;32m    588\u001b[0m send_kwargs\u001b[38;5;241m.\u001b[39mupdate(settings)\n\u001b[0;32m--> 589\u001b[0m resp \u001b[38;5;241m=\u001b[39m \u001b[38;5;28;43mself\u001b[39;49m\u001b[38;5;241;43m.\u001b[39;49m\u001b[43msend\u001b[49m\u001b[43m(\u001b[49m\u001b[43mprep\u001b[49m\u001b[43m,\u001b[49m\u001b[43m \u001b[49m\u001b[38;5;241;43m*\u001b[39;49m\u001b[38;5;241;43m*\u001b[39;49m\u001b[43msend_kwargs\u001b[49m\u001b[43m)\u001b[49m\n\u001b[1;32m    591\u001b[0m \u001b[38;5;28;01mreturn\u001b[39;00m resp\n",
      "File \u001b[0;32m~/anaconda3/envs/dev/lib/python3.10/site-packages/requests/sessions.py:703\u001b[0m, in \u001b[0;36mSession.send\u001b[0;34m(self, request, **kwargs)\u001b[0m\n\u001b[1;32m    700\u001b[0m start \u001b[38;5;241m=\u001b[39m preferred_clock()\n\u001b[1;32m    702\u001b[0m \u001b[38;5;66;03m# Send the request\u001b[39;00m\n\u001b[0;32m--> 703\u001b[0m r \u001b[38;5;241m=\u001b[39m \u001b[43madapter\u001b[49m\u001b[38;5;241;43m.\u001b[39;49m\u001b[43msend\u001b[49m\u001b[43m(\u001b[49m\u001b[43mrequest\u001b[49m\u001b[43m,\u001b[49m\u001b[43m \u001b[49m\u001b[38;5;241;43m*\u001b[39;49m\u001b[38;5;241;43m*\u001b[39;49m\u001b[43mkwargs\u001b[49m\u001b[43m)\u001b[49m\n\u001b[1;32m    705\u001b[0m \u001b[38;5;66;03m# Total elapsed time of the request (approximately)\u001b[39;00m\n\u001b[1;32m    706\u001b[0m elapsed \u001b[38;5;241m=\u001b[39m preferred_clock() \u001b[38;5;241m-\u001b[39m start\n",
      "File \u001b[0;32m~/anaconda3/envs/dev/lib/python3.10/site-packages/requests/adapters.py:486\u001b[0m, in \u001b[0;36mHTTPAdapter.send\u001b[0;34m(self, request, stream, timeout, verify, cert, proxies)\u001b[0m\n\u001b[1;32m    483\u001b[0m     timeout \u001b[38;5;241m=\u001b[39m TimeoutSauce(connect\u001b[38;5;241m=\u001b[39mtimeout, read\u001b[38;5;241m=\u001b[39mtimeout)\n\u001b[1;32m    485\u001b[0m \u001b[38;5;28;01mtry\u001b[39;00m:\n\u001b[0;32m--> 486\u001b[0m     resp \u001b[38;5;241m=\u001b[39m \u001b[43mconn\u001b[49m\u001b[38;5;241;43m.\u001b[39;49m\u001b[43murlopen\u001b[49m\u001b[43m(\u001b[49m\n\u001b[1;32m    487\u001b[0m \u001b[43m        \u001b[49m\u001b[43mmethod\u001b[49m\u001b[38;5;241;43m=\u001b[39;49m\u001b[43mrequest\u001b[49m\u001b[38;5;241;43m.\u001b[39;49m\u001b[43mmethod\u001b[49m\u001b[43m,\u001b[49m\n\u001b[1;32m    488\u001b[0m \u001b[43m        \u001b[49m\u001b[43murl\u001b[49m\u001b[38;5;241;43m=\u001b[39;49m\u001b[43murl\u001b[49m\u001b[43m,\u001b[49m\n\u001b[1;32m    489\u001b[0m \u001b[43m        \u001b[49m\u001b[43mbody\u001b[49m\u001b[38;5;241;43m=\u001b[39;49m\u001b[43mrequest\u001b[49m\u001b[38;5;241;43m.\u001b[39;49m\u001b[43mbody\u001b[49m\u001b[43m,\u001b[49m\n\u001b[1;32m    490\u001b[0m \u001b[43m        \u001b[49m\u001b[43mheaders\u001b[49m\u001b[38;5;241;43m=\u001b[39;49m\u001b[43mrequest\u001b[49m\u001b[38;5;241;43m.\u001b[39;49m\u001b[43mheaders\u001b[49m\u001b[43m,\u001b[49m\n\u001b[1;32m    491\u001b[0m \u001b[43m        \u001b[49m\u001b[43mredirect\u001b[49m\u001b[38;5;241;43m=\u001b[39;49m\u001b[38;5;28;43;01mFalse\u001b[39;49;00m\u001b[43m,\u001b[49m\n\u001b[1;32m    492\u001b[0m \u001b[43m        \u001b[49m\u001b[43massert_same_host\u001b[49m\u001b[38;5;241;43m=\u001b[39;49m\u001b[38;5;28;43;01mFalse\u001b[39;49;00m\u001b[43m,\u001b[49m\n\u001b[1;32m    493\u001b[0m \u001b[43m        \u001b[49m\u001b[43mpreload_content\u001b[49m\u001b[38;5;241;43m=\u001b[39;49m\u001b[38;5;28;43;01mFalse\u001b[39;49;00m\u001b[43m,\u001b[49m\n\u001b[1;32m    494\u001b[0m \u001b[43m        \u001b[49m\u001b[43mdecode_content\u001b[49m\u001b[38;5;241;43m=\u001b[39;49m\u001b[38;5;28;43;01mFalse\u001b[39;49;00m\u001b[43m,\u001b[49m\n\u001b[1;32m    495\u001b[0m \u001b[43m        \u001b[49m\u001b[43mretries\u001b[49m\u001b[38;5;241;43m=\u001b[39;49m\u001b[38;5;28;43mself\u001b[39;49m\u001b[38;5;241;43m.\u001b[39;49m\u001b[43mmax_retries\u001b[49m\u001b[43m,\u001b[49m\n\u001b[1;32m    496\u001b[0m \u001b[43m        \u001b[49m\u001b[43mtimeout\u001b[49m\u001b[38;5;241;43m=\u001b[39;49m\u001b[43mtimeout\u001b[49m\u001b[43m,\u001b[49m\n\u001b[1;32m    497\u001b[0m \u001b[43m        \u001b[49m\u001b[43mchunked\u001b[49m\u001b[38;5;241;43m=\u001b[39;49m\u001b[43mchunked\u001b[49m\u001b[43m,\u001b[49m\n\u001b[1;32m    498\u001b[0m \u001b[43m    \u001b[49m\u001b[43m)\u001b[49m\n\u001b[1;32m    500\u001b[0m \u001b[38;5;28;01mexcept\u001b[39;00m (ProtocolError, \u001b[38;5;167;01mOSError\u001b[39;00m) \u001b[38;5;28;01mas\u001b[39;00m err:\n\u001b[1;32m    501\u001b[0m     \u001b[38;5;28;01mraise\u001b[39;00m \u001b[38;5;167;01mConnectionError\u001b[39;00m(err, request\u001b[38;5;241m=\u001b[39mrequest)\n",
      "File \u001b[0;32m~/anaconda3/envs/dev/lib/python3.10/site-packages/urllib3/connectionpool.py:714\u001b[0m, in \u001b[0;36mHTTPConnectionPool.urlopen\u001b[0;34m(self, method, url, body, headers, retries, redirect, assert_same_host, timeout, pool_timeout, release_conn, chunked, body_pos, **response_kw)\u001b[0m\n\u001b[1;32m    711\u001b[0m     \u001b[38;5;28mself\u001b[39m\u001b[38;5;241m.\u001b[39m_prepare_proxy(conn)\n\u001b[1;32m    713\u001b[0m \u001b[38;5;66;03m# Make the request on the httplib connection object.\u001b[39;00m\n\u001b[0;32m--> 714\u001b[0m httplib_response \u001b[38;5;241m=\u001b[39m \u001b[38;5;28;43mself\u001b[39;49m\u001b[38;5;241;43m.\u001b[39;49m\u001b[43m_make_request\u001b[49m\u001b[43m(\u001b[49m\n\u001b[1;32m    715\u001b[0m \u001b[43m    \u001b[49m\u001b[43mconn\u001b[49m\u001b[43m,\u001b[49m\n\u001b[1;32m    716\u001b[0m \u001b[43m    \u001b[49m\u001b[43mmethod\u001b[49m\u001b[43m,\u001b[49m\n\u001b[1;32m    717\u001b[0m \u001b[43m    \u001b[49m\u001b[43murl\u001b[49m\u001b[43m,\u001b[49m\n\u001b[1;32m    718\u001b[0m \u001b[43m    \u001b[49m\u001b[43mtimeout\u001b[49m\u001b[38;5;241;43m=\u001b[39;49m\u001b[43mtimeout_obj\u001b[49m\u001b[43m,\u001b[49m\n\u001b[1;32m    719\u001b[0m \u001b[43m    \u001b[49m\u001b[43mbody\u001b[49m\u001b[38;5;241;43m=\u001b[39;49m\u001b[43mbody\u001b[49m\u001b[43m,\u001b[49m\n\u001b[1;32m    720\u001b[0m \u001b[43m    \u001b[49m\u001b[43mheaders\u001b[49m\u001b[38;5;241;43m=\u001b[39;49m\u001b[43mheaders\u001b[49m\u001b[43m,\u001b[49m\n\u001b[1;32m    721\u001b[0m \u001b[43m    \u001b[49m\u001b[43mchunked\u001b[49m\u001b[38;5;241;43m=\u001b[39;49m\u001b[43mchunked\u001b[49m\u001b[43m,\u001b[49m\n\u001b[1;32m    722\u001b[0m \u001b[43m\u001b[49m\u001b[43m)\u001b[49m\n\u001b[1;32m    724\u001b[0m \u001b[38;5;66;03m# If we're going to release the connection in ``finally:``, then\u001b[39;00m\n\u001b[1;32m    725\u001b[0m \u001b[38;5;66;03m# the response doesn't need to know about the connection. Otherwise\u001b[39;00m\n\u001b[1;32m    726\u001b[0m \u001b[38;5;66;03m# it will also try to release it and we'll have a double-release\u001b[39;00m\n\u001b[1;32m    727\u001b[0m \u001b[38;5;66;03m# mess.\u001b[39;00m\n\u001b[1;32m    728\u001b[0m response_conn \u001b[38;5;241m=\u001b[39m conn \u001b[38;5;28;01mif\u001b[39;00m \u001b[38;5;129;01mnot\u001b[39;00m release_conn \u001b[38;5;28;01melse\u001b[39;00m \u001b[38;5;28;01mNone\u001b[39;00m\n",
      "File \u001b[0;32m~/anaconda3/envs/dev/lib/python3.10/site-packages/urllib3/connectionpool.py:466\u001b[0m, in \u001b[0;36mHTTPConnectionPool._make_request\u001b[0;34m(self, conn, method, url, timeout, chunked, **httplib_request_kw)\u001b[0m\n\u001b[1;32m    461\u001b[0m             httplib_response \u001b[38;5;241m=\u001b[39m conn\u001b[38;5;241m.\u001b[39mgetresponse()\n\u001b[1;32m    462\u001b[0m         \u001b[38;5;28;01mexcept\u001b[39;00m \u001b[38;5;167;01mBaseException\u001b[39;00m \u001b[38;5;28;01mas\u001b[39;00m e:\n\u001b[1;32m    463\u001b[0m             \u001b[38;5;66;03m# Remove the TypeError from the exception chain in\u001b[39;00m\n\u001b[1;32m    464\u001b[0m             \u001b[38;5;66;03m# Python 3 (including for exceptions like SystemExit).\u001b[39;00m\n\u001b[1;32m    465\u001b[0m             \u001b[38;5;66;03m# Otherwise it looks like a bug in the code.\u001b[39;00m\n\u001b[0;32m--> 466\u001b[0m             \u001b[43msix\u001b[49m\u001b[38;5;241;43m.\u001b[39;49m\u001b[43mraise_from\u001b[49m\u001b[43m(\u001b[49m\u001b[43me\u001b[49m\u001b[43m,\u001b[49m\u001b[43m \u001b[49m\u001b[38;5;28;43;01mNone\u001b[39;49;00m\u001b[43m)\u001b[49m\n\u001b[1;32m    467\u001b[0m \u001b[38;5;28;01mexcept\u001b[39;00m (SocketTimeout, BaseSSLError, SocketError) \u001b[38;5;28;01mas\u001b[39;00m e:\n\u001b[1;32m    468\u001b[0m     \u001b[38;5;28mself\u001b[39m\u001b[38;5;241m.\u001b[39m_raise_timeout(err\u001b[38;5;241m=\u001b[39me, url\u001b[38;5;241m=\u001b[39murl, timeout_value\u001b[38;5;241m=\u001b[39mread_timeout)\n",
      "File \u001b[0;32m<string>:3\u001b[0m, in \u001b[0;36mraise_from\u001b[0;34m(value, from_value)\u001b[0m\n",
      "File \u001b[0;32m~/anaconda3/envs/dev/lib/python3.10/site-packages/urllib3/connectionpool.py:461\u001b[0m, in \u001b[0;36mHTTPConnectionPool._make_request\u001b[0;34m(self, conn, method, url, timeout, chunked, **httplib_request_kw)\u001b[0m\n\u001b[1;32m    458\u001b[0m \u001b[38;5;28;01mexcept\u001b[39;00m \u001b[38;5;167;01mTypeError\u001b[39;00m:\n\u001b[1;32m    459\u001b[0m     \u001b[38;5;66;03m# Python 3\u001b[39;00m\n\u001b[1;32m    460\u001b[0m     \u001b[38;5;28;01mtry\u001b[39;00m:\n\u001b[0;32m--> 461\u001b[0m         httplib_response \u001b[38;5;241m=\u001b[39m \u001b[43mconn\u001b[49m\u001b[38;5;241;43m.\u001b[39;49m\u001b[43mgetresponse\u001b[49m\u001b[43m(\u001b[49m\u001b[43m)\u001b[49m\n\u001b[1;32m    462\u001b[0m     \u001b[38;5;28;01mexcept\u001b[39;00m \u001b[38;5;167;01mBaseException\u001b[39;00m \u001b[38;5;28;01mas\u001b[39;00m e:\n\u001b[1;32m    463\u001b[0m         \u001b[38;5;66;03m# Remove the TypeError from the exception chain in\u001b[39;00m\n\u001b[1;32m    464\u001b[0m         \u001b[38;5;66;03m# Python 3 (including for exceptions like SystemExit).\u001b[39;00m\n\u001b[1;32m    465\u001b[0m         \u001b[38;5;66;03m# Otherwise it looks like a bug in the code.\u001b[39;00m\n\u001b[1;32m    466\u001b[0m         six\u001b[38;5;241m.\u001b[39mraise_from(e, \u001b[38;5;28;01mNone\u001b[39;00m)\n",
      "File \u001b[0;32m~/anaconda3/envs/dev/lib/python3.10/http/client.py:1375\u001b[0m, in \u001b[0;36mHTTPConnection.getresponse\u001b[0;34m(self)\u001b[0m\n\u001b[1;32m   1373\u001b[0m \u001b[38;5;28;01mtry\u001b[39;00m:\n\u001b[1;32m   1374\u001b[0m     \u001b[38;5;28;01mtry\u001b[39;00m:\n\u001b[0;32m-> 1375\u001b[0m         \u001b[43mresponse\u001b[49m\u001b[38;5;241;43m.\u001b[39;49m\u001b[43mbegin\u001b[49m\u001b[43m(\u001b[49m\u001b[43m)\u001b[49m\n\u001b[1;32m   1376\u001b[0m     \u001b[38;5;28;01mexcept\u001b[39;00m \u001b[38;5;167;01mConnectionError\u001b[39;00m:\n\u001b[1;32m   1377\u001b[0m         \u001b[38;5;28mself\u001b[39m\u001b[38;5;241m.\u001b[39mclose()\n",
      "File \u001b[0;32m~/anaconda3/envs/dev/lib/python3.10/http/client.py:318\u001b[0m, in \u001b[0;36mHTTPResponse.begin\u001b[0;34m(self)\u001b[0m\n\u001b[1;32m    316\u001b[0m \u001b[38;5;66;03m# read until we get a non-100 response\u001b[39;00m\n\u001b[1;32m    317\u001b[0m \u001b[38;5;28;01mwhile\u001b[39;00m \u001b[38;5;28;01mTrue\u001b[39;00m:\n\u001b[0;32m--> 318\u001b[0m     version, status, reason \u001b[38;5;241m=\u001b[39m \u001b[38;5;28;43mself\u001b[39;49m\u001b[38;5;241;43m.\u001b[39;49m\u001b[43m_read_status\u001b[49m\u001b[43m(\u001b[49m\u001b[43m)\u001b[49m\n\u001b[1;32m    319\u001b[0m     \u001b[38;5;28;01mif\u001b[39;00m status \u001b[38;5;241m!=\u001b[39m CONTINUE:\n\u001b[1;32m    320\u001b[0m         \u001b[38;5;28;01mbreak\u001b[39;00m\n",
      "File \u001b[0;32m~/anaconda3/envs/dev/lib/python3.10/http/client.py:279\u001b[0m, in \u001b[0;36mHTTPResponse._read_status\u001b[0;34m(self)\u001b[0m\n\u001b[1;32m    278\u001b[0m \u001b[38;5;28;01mdef\u001b[39;00m \u001b[38;5;21m_read_status\u001b[39m(\u001b[38;5;28mself\u001b[39m):\n\u001b[0;32m--> 279\u001b[0m     line \u001b[38;5;241m=\u001b[39m \u001b[38;5;28mstr\u001b[39m(\u001b[38;5;28;43mself\u001b[39;49m\u001b[38;5;241;43m.\u001b[39;49m\u001b[43mfp\u001b[49m\u001b[38;5;241;43m.\u001b[39;49m\u001b[43mreadline\u001b[49m\u001b[43m(\u001b[49m\u001b[43m_MAXLINE\u001b[49m\u001b[43m \u001b[49m\u001b[38;5;241;43m+\u001b[39;49m\u001b[43m \u001b[49m\u001b[38;5;241;43m1\u001b[39;49m\u001b[43m)\u001b[49m, \u001b[38;5;124m\"\u001b[39m\u001b[38;5;124miso-8859-1\u001b[39m\u001b[38;5;124m\"\u001b[39m)\n\u001b[1;32m    280\u001b[0m     \u001b[38;5;28;01mif\u001b[39;00m \u001b[38;5;28mlen\u001b[39m(line) \u001b[38;5;241m>\u001b[39m _MAXLINE:\n\u001b[1;32m    281\u001b[0m         \u001b[38;5;28;01mraise\u001b[39;00m LineTooLong(\u001b[38;5;124m\"\u001b[39m\u001b[38;5;124mstatus line\u001b[39m\u001b[38;5;124m\"\u001b[39m)\n",
      "File \u001b[0;32m~/anaconda3/envs/dev/lib/python3.10/socket.py:705\u001b[0m, in \u001b[0;36mSocketIO.readinto\u001b[0;34m(self, b)\u001b[0m\n\u001b[1;32m    703\u001b[0m \u001b[38;5;28;01mwhile\u001b[39;00m \u001b[38;5;28;01mTrue\u001b[39;00m:\n\u001b[1;32m    704\u001b[0m     \u001b[38;5;28;01mtry\u001b[39;00m:\n\u001b[0;32m--> 705\u001b[0m         \u001b[38;5;28;01mreturn\u001b[39;00m \u001b[38;5;28;43mself\u001b[39;49m\u001b[38;5;241;43m.\u001b[39;49m\u001b[43m_sock\u001b[49m\u001b[38;5;241;43m.\u001b[39;49m\u001b[43mrecv_into\u001b[49m\u001b[43m(\u001b[49m\u001b[43mb\u001b[49m\u001b[43m)\u001b[49m\n\u001b[1;32m    706\u001b[0m     \u001b[38;5;28;01mexcept\u001b[39;00m timeout:\n\u001b[1;32m    707\u001b[0m         \u001b[38;5;28mself\u001b[39m\u001b[38;5;241m.\u001b[39m_timeout_occurred \u001b[38;5;241m=\u001b[39m \u001b[38;5;28;01mTrue\u001b[39;00m\n",
      "File \u001b[0;32m~/anaconda3/envs/dev/lib/python3.10/ssl.py:1307\u001b[0m, in \u001b[0;36mSSLSocket.recv_into\u001b[0;34m(self, buffer, nbytes, flags)\u001b[0m\n\u001b[1;32m   1303\u001b[0m     \u001b[38;5;28;01mif\u001b[39;00m flags \u001b[38;5;241m!=\u001b[39m \u001b[38;5;241m0\u001b[39m:\n\u001b[1;32m   1304\u001b[0m         \u001b[38;5;28;01mraise\u001b[39;00m \u001b[38;5;167;01mValueError\u001b[39;00m(\n\u001b[1;32m   1305\u001b[0m           \u001b[38;5;124m\"\u001b[39m\u001b[38;5;124mnon-zero flags not allowed in calls to recv_into() on \u001b[39m\u001b[38;5;132;01m%s\u001b[39;00m\u001b[38;5;124m\"\u001b[39m \u001b[38;5;241m%\u001b[39m\n\u001b[1;32m   1306\u001b[0m           \u001b[38;5;28mself\u001b[39m\u001b[38;5;241m.\u001b[39m\u001b[38;5;18m__class__\u001b[39m)\n\u001b[0;32m-> 1307\u001b[0m     \u001b[38;5;28;01mreturn\u001b[39;00m \u001b[38;5;28;43mself\u001b[39;49m\u001b[38;5;241;43m.\u001b[39;49m\u001b[43mread\u001b[49m\u001b[43m(\u001b[49m\u001b[43mnbytes\u001b[49m\u001b[43m,\u001b[49m\u001b[43m \u001b[49m\u001b[43mbuffer\u001b[49m\u001b[43m)\u001b[49m\n\u001b[1;32m   1308\u001b[0m \u001b[38;5;28;01melse\u001b[39;00m:\n\u001b[1;32m   1309\u001b[0m     \u001b[38;5;28;01mreturn\u001b[39;00m \u001b[38;5;28msuper\u001b[39m()\u001b[38;5;241m.\u001b[39mrecv_into(buffer, nbytes, flags)\n",
      "File \u001b[0;32m~/anaconda3/envs/dev/lib/python3.10/ssl.py:1163\u001b[0m, in \u001b[0;36mSSLSocket.read\u001b[0;34m(self, len, buffer)\u001b[0m\n\u001b[1;32m   1161\u001b[0m \u001b[38;5;28;01mtry\u001b[39;00m:\n\u001b[1;32m   1162\u001b[0m     \u001b[38;5;28;01mif\u001b[39;00m buffer \u001b[38;5;129;01mis\u001b[39;00m \u001b[38;5;129;01mnot\u001b[39;00m \u001b[38;5;28;01mNone\u001b[39;00m:\n\u001b[0;32m-> 1163\u001b[0m         \u001b[38;5;28;01mreturn\u001b[39;00m \u001b[38;5;28;43mself\u001b[39;49m\u001b[38;5;241;43m.\u001b[39;49m\u001b[43m_sslobj\u001b[49m\u001b[38;5;241;43m.\u001b[39;49m\u001b[43mread\u001b[49m\u001b[43m(\u001b[49m\u001b[38;5;28;43mlen\u001b[39;49m\u001b[43m,\u001b[49m\u001b[43m \u001b[49m\u001b[43mbuffer\u001b[49m\u001b[43m)\u001b[49m\n\u001b[1;32m   1164\u001b[0m     \u001b[38;5;28;01melse\u001b[39;00m:\n\u001b[1;32m   1165\u001b[0m         \u001b[38;5;28;01mreturn\u001b[39;00m \u001b[38;5;28mself\u001b[39m\u001b[38;5;241m.\u001b[39m_sslobj\u001b[38;5;241m.\u001b[39mread(\u001b[38;5;28mlen\u001b[39m)\n",
      "\u001b[0;31mKeyboardInterrupt\u001b[0m: "
     ]
    }
   ],
   "source": [
    "\n",
    "# Set parameters to search for a hotel\n",
    "radius = 10000\n",
    "params = {\n",
    "    \"categories\": \"accommodation.hotel\",  # Specify the type of place to search for (e.g., lodging/hotel)\n",
    "    \"apiKey\": geoapify_key  \n",
    "}\n",
    "\n",
    "# Print a message to follow up the hotel search\n",
    "print(\"Starting hotel search\")\n",
    "\n",
    "# Iterate through the hotel_df DataFrame\n",
    "for index, row in hotel_df.iterrows():\n",
    "    # get latitude, longitude from the DataFrame\n",
    "    lat, lng = row[\"Lat\"], row[\"Lng\"]\n",
    "    \n",
    "    # Add filter parameter with the current city's latitude and longitude to the params dictionary\n",
    "    params[\"filter\"] = f\"circle:{lng},{lat},{radius}\"\n",
    "    params[\"bias\"] = f\"proximity:{lng},{lat}\"\n",
    "    \n",
    "    # Set base URL\n",
    "    base_url = \"https://api.geoapify.com/v2/places\"\n",
    "\n",
    "    # Make and API request using the params dictionaty\n",
    "    name_address = requests.get(base_url, params=params)\n",
    "    \n",
    "    # Convert the API response to JSON format\n",
    "    name_address = name_address.json()\n",
    "    \n",
    "       # Grab the first hotel from the results and store the name in the hotel_df DataFrame\n",
    "    try:\n",
    "        hotel_df.loc[index, \"Hotel Name\"] = name_address[\"features\"][0][\"properties\"][\"name\"]\n",
    "    except (KeyError, IndexError):\n",
    "        # If no hotel is found, set the hotel name as \"No hotel found\".\n",
    "        hotel_df.loc[index, \"Hotel Name\"] = \"No hotel found\"\n",
    "        \n",
    "    # Log the search results\n",
    "    print(f\"{hotel_df.loc[index, 'City']} - nearest hotel: {hotel_df.loc[index, 'Hotel Name']}\")\n",
    "\n",
    "# Display sample data\n",
    "hotel_df"
   ]
  },
  {
   "cell_type": "markdown",
   "metadata": {},
   "source": [
    "### Step 5: Add the hotel name and the country as additional information in the hover message for each city in the map."
   ]
  },
  {
   "cell_type": "code",
   "execution_count": 89,
   "metadata": {
    "tags": []
   },
   "outputs": [
    {
     "data": {
      "application/vnd.plotly.v1+json": {
       "config": {
        "plotlyServerURL": "https://plot.ly"
       },
       "data": [
        {
         "customdata": [
          [
           "No hotel found",
           "SA"
          ],
          [
           "No hotel found",
           "PN"
          ],
          [
           "Hotel Breno",
           "BR"
          ],
          [
           "Page 63 hostel",
           "MY"
          ],
          [
           "Hotel Rafael",
           "MZ"
          ],
          [
           "Escale Vacances",
           "MU"
          ],
          [
           "King Koresh",
           "IL"
          ],
          [
           "Hampton Inn & Suites",
           "US"
          ],
          [
           "Muscat International Hotel",
           "OM"
          ],
          [
           "Le Baril",
           "RE"
          ],
          [
           "Hospedaje Calle del Sol",
           "PE"
          ],
          [
           "No hotel found",
           "BR"
          ],
          [
           "Hostal El Encanto",
           "PE"
          ],
          [
           "No hotel found",
           "MH"
          ],
          [
           "No hotel found",
           "US"
          ],
          [
           "No hotel found",
           "PH"
          ],
          [
           "No hotel found",
           "ID"
          ],
          [
           "No hotel found",
           "PF"
          ],
          [
           "No hotel found",
           "DZ"
          ],
          [
           "No hotel found",
           "US"
          ],
          [
           "No hotel found",
           "CC"
          ],
          [
           "No hotel found",
           "MM"
          ],
          [
           "No hotel found",
           "AU"
          ],
          [
           "No hotel found",
           "AU"
          ],
          [
           "No hotel found",
           "ID"
          ],
          [
           "No hotel found",
           "US"
          ],
          [
           "No hotel found",
           "US"
          ],
          [
           "No hotel found",
           "BR"
          ],
          [
           "No hotel found",
           "CX"
          ],
          [
           "No hotel found",
           "AU"
          ],
          [
           "No hotel found",
           "PH"
          ],
          [
           "No hotel found",
           "CV"
          ],
          [
           "No hotel found",
           "BR"
          ],
          [
           "No hotel found",
           "US"
          ],
          [
           "No hotel found",
           "CI"
          ],
          [
           "No hotel found",
           "LY"
          ],
          [
           "No hotel found",
           "SN"
          ],
          [
           "No hotel found",
           "PE"
          ],
          [
           "No hotel found",
           "SL"
          ],
          [
           "No hotel found",
           "MX"
          ],
          [
           "No hotel found",
           "EC"
          ],
          [
           "No hotel found",
           "BR"
          ],
          [
           "No hotel found",
           "LY"
          ],
          [
           "No hotel found",
           "NR"
          ],
          [
           "No hotel found",
           "OM"
          ],
          [
           "No hotel found",
           "MH"
          ],
          [
           "No hotel found",
           "US"
          ],
          [
           "No hotel found",
           "US"
          ],
          [
           "No hotel found",
           "PG"
          ],
          [
           "No hotel found",
           "AU"
          ],
          [
           "No hotel found",
           "CU"
          ],
          [
           "No hotel found",
           "BR"
          ],
          [
           "No hotel found",
           "IN"
          ],
          [
           "No hotel found",
           "BR"
          ],
          [
           "No hotel found",
           "IN"
          ],
          [
           "No hotel found",
           "BR"
          ],
          [
           "No hotel found",
           "CV"
          ],
          [
           "No hotel found",
           "PE"
          ],
          [
           "No hotel found",
           "US"
          ],
          [
           "No hotel found",
           "AU"
          ],
          [
           "",
           "AU"
          ],
          [
           "",
           "IN"
          ],
          [
           "",
           "US"
          ],
          [
           "",
           "PH"
          ],
          [
           "",
           "MH"
          ],
          [
           "",
           "ID"
          ],
          [
           "",
           "PE"
          ],
          [
           "",
           "VU"
          ],
          [
           "",
           "MG"
          ],
          [
           "",
           "TO"
          ],
          [
           "",
           "IN"
          ],
          [
           "",
           "CM"
          ],
          [
           "",
           "PE"
          ],
          [
           "",
           "ID"
          ],
          [
           "",
           "GH"
          ],
          [
           "",
           "US"
          ],
          [
           "",
           "MG"
          ],
          [
           "",
           "US"
          ],
          [
           "",
           "BR"
          ],
          [
           "",
           "SD"
          ],
          [
           "",
           "AO"
          ],
          [
           "",
           "SD"
          ],
          [
           "",
           "BR"
          ],
          [
           "",
           "US"
          ],
          [
           "",
           "PE"
          ],
          [
           "",
           "PH"
          ],
          [
           "",
           "BR"
          ],
          [
           "",
           "ID"
          ],
          [
           "",
           "US"
          ],
          [
           "",
           "ZA"
          ],
          [
           "",
           "MX"
          ],
          [
           "",
           "SY"
          ],
          [
           "",
           "AU"
          ],
          [
           "",
           "PH"
          ],
          [
           "",
           "IN"
          ],
          [
           "",
           "IN"
          ],
          [
           "",
           "EC"
          ],
          [
           "",
           "MH"
          ],
          [
           "",
           "MX"
          ],
          [
           "",
           "PG"
          ],
          [
           "",
           "JP"
          ],
          [
           "",
           "CN"
          ],
          [
           "",
           "MX"
          ],
          [
           "",
           "YE"
          ],
          [
           "",
           "CG"
          ],
          [
           "",
           "AU"
          ],
          [
           "",
           "MX"
          ],
          [
           "",
           "IN"
          ],
          [
           "",
           "ID"
          ],
          [
           "",
           "US"
          ],
          [
           "",
           "US"
          ],
          [
           "",
           "BR"
          ],
          [
           "",
           "GU"
          ],
          [
           "",
           "PE"
          ],
          [
           "",
           "MH"
          ],
          [
           "",
           "TC"
          ],
          [
           "",
           "GW"
          ],
          [
           "",
           "MV"
          ],
          [
           "",
           "MP"
          ],
          [
           "",
           "BO"
          ],
          [
           "",
           "US"
          ],
          [
           "",
           "US"
          ],
          [
           "",
           "MG"
          ],
          [
           "",
           "LR"
          ],
          [
           "",
           "CD"
          ],
          [
           "",
           "GH"
          ],
          [
           "",
           "FM"
          ],
          [
           "",
           "TD"
          ],
          [
           "",
           "US"
          ],
          [
           "",
           "SA"
          ],
          [
           "",
           "RE"
          ],
          [
           "",
           "VU"
          ],
          [
           "",
           "IQ"
          ],
          [
           "",
           "AU"
          ],
          [
           "",
           "PH"
          ],
          [
           "",
           "US"
          ],
          [
           "",
           "AO"
          ],
          [
           "",
           "US"
          ],
          [
           "",
           "BR"
          ],
          [
           "",
           "SA"
          ],
          [
           "",
           "BR"
          ],
          [
           "",
           "ID"
          ],
          [
           "",
           "BR"
          ],
          [
           "",
           "IN"
          ],
          [
           "",
           "NC"
          ],
          [
           "",
           "BR"
          ],
          [
           "",
           "US"
          ],
          [
           "",
           "OM"
          ],
          [
           "",
           "SA"
          ],
          [
           "",
           "IN"
          ],
          [
           "",
           "US"
          ],
          [
           "",
           "LC"
          ],
          [
           "",
           "SB"
          ],
          [
           "",
           "AE"
          ],
          [
           "",
           "MG"
          ],
          [
           "",
           "TH"
          ],
          [
           "",
           "AU"
          ],
          [
           "",
           "BD"
          ],
          [
           "",
           "AU"
          ],
          [
           "",
           "GA"
          ],
          [
           "",
           "US"
          ],
          [
           "",
           "US"
          ],
          [
           "",
           "NC"
          ],
          [
           "",
           "NC"
          ],
          [
           "",
           "LY"
          ],
          [
           "",
           "PG"
          ],
          [
           "",
           "AO"
          ],
          [
           "",
           "ZA"
          ],
          [
           "",
           "PE"
          ],
          [
           "",
           "SB"
          ],
          [
           "",
           "BR"
          ],
          [
           "",
           "BR"
          ],
          [
           "",
           "BR"
          ],
          [
           "",
           "BR"
          ],
          [
           "",
           "US"
          ],
          [
           "",
           "BR"
          ],
          [
           "",
           "AO"
          ],
          [
           "",
           "BR"
          ],
          [
           "",
           "MH"
          ],
          [
           "",
           "US"
          ],
          [
           "",
           "MG"
          ],
          [
           "",
           "LK"
          ],
          [
           "",
           "CD"
          ],
          [
           "",
           "ID"
          ],
          [
           "",
           "ID"
          ],
          [
           "",
           "US"
          ],
          [
           "",
           "BR"
          ],
          [
           "",
           "EG"
          ],
          [
           "",
           "SD"
          ],
          [
           "",
           "IN"
          ],
          [
           "",
           "IN"
          ],
          [
           "",
           "ID"
          ],
          [
           "",
           "IN"
          ],
          [
           "",
           "GY"
          ],
          [
           "",
           "BR"
          ],
          [
           "",
           "CN"
          ],
          [
           "",
           "VN"
          ],
          [
           "",
           "MM"
          ],
          [
           "",
           "IN"
          ],
          [
           "",
           "GA"
          ],
          [
           "",
           "BR"
          ],
          [
           "",
           "LY"
          ],
          [
           "",
           "DZ"
          ],
          [
           "",
           "SA"
          ],
          [
           "",
           "IN"
          ],
          [
           "",
           "UG"
          ],
          [
           "",
           "DJ"
          ],
          [
           "",
           "PH"
          ],
          [
           "",
           "IN"
          ],
          [
           "",
           "ID"
          ],
          [
           "",
           "LK"
          ],
          [
           "",
           "BR"
          ],
          [
           "",
           "ID"
          ],
          [
           "",
           "MV"
          ],
          [
           "",
           "PG"
          ],
          [
           "",
           "GA"
          ],
          [
           "",
           "BD"
          ],
          [
           "",
           "ID"
          ],
          [
           "",
           "US"
          ],
          [
           "",
           "DZ"
          ],
          [
           "",
           "BR"
          ],
          [
           "",
           "EC"
          ],
          [
           "No hotel found",
           "BR"
          ]
         ],
         "hovertemplate": "<b>%{hovertext}</b><br><br>Lat=%{lat}<br>Lng=%{lon}<br>Hotel Name=%{customdata[0]}<br>Country=%{customdata[1]}<extra></extra>",
         "hovertext": [
          "as sulayyil",
          "adamstown",
          "bom jardim",
          "georgetown",
          "pemba",
          "port mathurin",
          "netanya",
          "newman",
          "salalah",
          "saint-philippe",
          "pimentel",
          "arraial do cabo",
          "santiago de cao",
          "utrik",
          "hawaiian paradise park",
          "bogo",
          "tual",
          "uturoa",
          "i-n-salah",
          "fayetteville",
          "west island",
          "myeik",
          "karratha",
          "urangan",
          "sungailiat",
          "kapa'a",
          "fort bragg",
          "salinopolis",
          "flying fish cove",
          "alice springs",
          "basco",
          "praia",
          "natal",
          "wailua homesteads",
          "tabou",
          "at taj",
          "tionk essil",
          "lima",
          "freetown",
          "cabo san lucas",
          "puerto ayora",
          "vera cruz",
          "sabha",
          "yaren",
          "badiyah",
          "enewetak",
          "salinas",
          "crane",
          "aitape",
          "mount isa",
          "guane",
          "almeirim",
          "kattivakkam",
          "petrolina",
          "anantapur",
          "conde",
          "praya",
          "minas de marcona",
          "fredericksburg",
          "yeppoon",
          "howard springs",
          "veraval",
          "holualoa",
          "san mariano",
          "kili",
          "amahai",
          "caleta de carquin",
          "isangel",
          "andovoranto",
          "nuku'alofa",
          "tura",
          "yoko",
          "pacocha",
          "boyolangu",
          "axim",
          "portland",
          "belo sur tsiribihina",
          "haiku-pauwela",
          "nova vicosa",
          "gereida",
          "namibe",
          "nyala",
          "rio grande",
          "lompoc",
          "huicungo",
          "pandan",
          "pindare mirim",
          "bambanglipuro",
          "lihue",
          "east london",
          "acapulco de juarez",
          "ar raqqah",
          "carnarvon",
          "aras-asan",
          "mormugao",
          "hatta",
          "puerto baquerizo moreno",
          "jabor",
          "lazaro cardenas",
          "kiunga",
          "katsuren-haebaru",
          "sanming",
          "san julian",
          "hadibu",
          "dolisie",
          "maryborough",
          "celestun",
          "malvan",
          "palu",
          "west plains",
          "claremont",
          "carinhanha",
          "piti village",
          "puerto santa",
          "mejit",
          "cockburn town",
          "bubaque",
          "male",
          "saipan",
          "san borja",
          "connersville",
          "callaway",
          "tolanaro",
          "harper",
          "basoko",
          "anloga",
          "tofol",
          "faya-largeau",
          "salida",
          "al jubayl",
          "saint-pierre",
          "luganville",
          "najaf",
          "charters towers",
          "el nido",
          "sedalia",
          "benguela",
          "hamilton",
          "cidreira",
          "hafar al-batin",
          "vila velha",
          "sinabang",
          "general salgado",
          "bamboo flat",
          "mont-dore",
          "esmeraldas",
          "meraux",
          "sur",
          "arar",
          "davangere",
          "big stone gap",
          "anse la raye",
          "kirakira",
          "ar ruways",
          "tsiombe",
          "mae hong son",
          "kununurra",
          "mathba",
          "bundaberg",
          "makokou",
          "north bend",
          "altus",
          "tadine",
          "kone",
          "sirte",
          "arawa",
          "soio",
          "port saint john's",
          "huarmey",
          "auki",
          "acarau",
          "maragogi",
          "touros",
          "rio de janeiro",
          "corcoran",
          "taperoa",
          "luanda",
          "sao gabriel da cachoeira",
          "ujae",
          "cookeville",
          "sambava",
          "kalmunai",
          "kisangani",
          "manokwari",
          "pangkalpinang",
          "la'ie",
          "aripuana",
          "samalut",
          "umm ruwaba",
          "dudhi",
          "pipar",
          "bontang",
          "madhipura",
          "mabaruma",
          "maceio",
          "sanya",
          "phan rang-thap cham",
          "bogale",
          "srivardhan",
          "ndende",
          "manicore",
          "al burayqah",
          "tamanrasset",
          "arafat",
          "dholka",
          "gulu",
          "dikhil",
          "san pedro",
          "manali",
          "kupang",
          "ambalangoda",
          "prado",
          "pariaman",
          "kudahuvadhoo",
          "vanimo",
          "port-gentil",
          "uttar char fasson",
          "pemangkat",
          "kailua-kona",
          "reggane",
          "carutapera",
          "playas",
          "cruz alta"
         ],
         "lat": [
          20.4607,
          -25.066,
          -7.7958,
          5.4112,
          -12.974,
          -19.6833,
          32.3329,
          37.3138,
          17.0151,
          -21.3585,
          -6.8367,
          -22.9661,
          -7.9589,
          11.2278,
          19.5933,
          11.0517,
          -5.6667,
          -16.7333,
          27.1935,
          35.0527,
          -12.1568,
          12.4333,
          -20.7377,
          -25.3,
          -1.85,
          22.0752,
          35.139,
          -0.6136,
          -10.4217,
          -23.7,
          20.4487,
          14.9215,
          -5.795,
          22.0669,
          4.423,
          24.2049,
          12.7856,
          -12.0432,
          8.484,
          22.8909,
          -0.7393,
          -12.6333,
          27.0377,
          -0.5472,
          22.45,
          11.3474,
          36.6777,
          31.3974,
          -3.1374,
          -20.7333,
          22.2025,
          -1.5233,
          13.2167,
          -9.3986,
          14.6833,
          -7.2597,
          14.9215,
          -15.2119,
          38.3032,
          -23.1333,
          -12.497,
          20.9,
          19.6228,
          7.5,
          5.6439,
          -3.3333,
          -11.0925,
          -19.55,
          -18.95,
          -21.1333,
          25.5198,
          5.5333,
          -17.5833,
          -8.1181,
          4.8699,
          45.5234,
          -19.7,
          20.9219,
          -17.8919,
          11.2811,
          -15.1961,
          12.05,
          -32.035,
          34.6391,
          -7.2833,
          14.0453,
          -3.6083,
          -7.95,
          21.9789,
          -33.0153,
          16.8634,
          35.95,
          -24.8667,
          8.8908,
          15.4,
          24.1167,
          -0.9,
          5.921,
          17.9583,
          -6.1219,
          26.3369,
          26.2486,
          21.0167,
          12.65,
          -4.1997,
          -25.5333,
          20.8667,
          16.0667,
          -0.8917,
          36.7281,
          34.0967,
          -14.3047,
          13.4626,
          -8.9906,
          10.2753,
          21.4612,
          11.2833,
          4.1748,
          15.1355,
          -14.8167,
          39.6412,
          30.153,
          -25.0319,
          4.375,
          1.2391,
          5.7947,
          5.3248,
          17.9257,
          37.7058,
          27.0112,
          -21.3393,
          -15.5333,
          31.9985,
          -20.1,
          11.1858,
          38.7045,
          -12.5763,
          39.1834,
          -30.1811,
          28.4328,
          -20.3297,
          2.4803,
          -20.6483,
          11.7,
          -22.2833,
          -19.7625,
          29.933,
          22.5667,
          30.9753,
          14.4667,
          36.8677,
          13.9333,
          -10.4544,
          24.1103,
          -25.3,
          19.3003,
          -15.7667,
          22.2855,
          -24.85,
          0.5738,
          43.4065,
          34.6381,
          -21.55,
          -21.0595,
          31.2089,
          -6.2132,
          -6.1349,
          -31.6229,
          -10.0681,
          -8.7676,
          -2.8856,
          -9.0122,
          -5.1989,
          -22.9028,
          36.098,
          -7.2075,
          -8.8368,
          -0.1303,
          8.9322,
          36.1628,
          -14.2667,
          7.4167,
          0.5167,
          -0.8667,
          -2.1333,
          21.6477,
          -9.1667,
          28.3121,
          12.9061,
          24.2167,
          26.3856,
          0.1333,
          25.9167,
          8.2,
          -9.6658,
          18.2431,
          11.5667,
          16.2833,
          18.0333,
          -2.4008,
          -5.8092,
          30.4062,
          22.785,
          21.3594,
          22.7167,
          2.7746,
          11.5,
          14.35,
          13.1667,
          -10.1667,
          6.2355,
          -17.3411,
          -0.619,
          2.6708,
          -2.6741,
          -0.7193,
          22.2332,
          1.1667,
          19.6406,
          26.7158,
          -1.195,
          -2.6333,
          -28.6386
         ],
         "legendgroup": "",
         "lon": [
          45.5779,
          -130.1015,
          -35.5872,
          100.3354,
          40.5178,
          63.4167,
          34.8599,
          -121.0208,
          54.0924,
          55.7679,
          -79.9342,
          -42.0278,
          -79.2392,
          169.8474,
          -154.9731,
          124.0055,
          132.75,
          -151.4333,
          2.4607,
          -78.8784,
          96.8225,
          98.6,
          116.8463,
          152.9,
          106.1333,
          -159.319,
          -79.006,
          -47.3561,
          105.6791,
          133.8833,
          121.9702,
          -23.5087,
          -35.2094,
          -159.378,
          -7.3528,
          23.2857,
          -16.5217,
          -77.0282,
          -13.2299,
          -109.9124,
          -90.3518,
          -41.0333,
          14.4283,
          166.916,
          58.8,
          162.3373,
          -121.6555,
          -102.3501,
          142.3475,
          139.5,
          -84.0875,
          -52.5817,
          80.3167,
          -40.5008,
          77.6,
          -34.9075,
          -23.5087,
          -75.1103,
          -77.4605,
          150.7333,
          131.047,
          70.3667,
          -155.9522,
          126,
          169.1211,
          128.9167,
          -77.6267,
          169.2667,
          49.1,
          -175.2,
          90.2201,
          12.3167,
          -71.3333,
          111.8935,
          -2.2405,
          -122.6762,
          44.55,
          -156.3051,
          -39.3719,
          25.1414,
          12.1522,
          24.8833,
          -52.0986,
          -120.4579,
          -76.8,
          124.1694,
          -45.3433,
          110.2833,
          -159.3672,
          27.9116,
          -99.8901,
          39.0167,
          113.6333,
          126.3033,
          73.8,
          79.6,
          -89.6,
          169.6434,
          -102.2,
          141.2906,
          127.8719,
          117.6186,
          -102.1667,
          54.0333,
          12.6739,
          152.7,
          -90.4,
          73.4667,
          119.8707,
          -91.8524,
          -117.7198,
          -43.765,
          144.6933,
          -78.6456,
          170.8646,
          -71.1419,
          -15.8333,
          73.5089,
          145.701,
          -66.85,
          -85.1411,
          -85.5699,
          46.9987,
          -7.7169,
          23.616,
          0.8973,
          163.0078,
          19.1043,
          -121.0849,
          49.6583,
          55.4781,
          167.1667,
          44.3398,
          146.2667,
          119.3956,
          -93.2283,
          13.4055,
          -84.5333,
          -50.2056,
          45.9708,
          -40.2925,
          96.3801,
          -50.3606,
          92.7167,
          166.5833,
          -44.3139,
          -89.9498,
          59.5289,
          41.0381,
          75.9167,
          -82.7745,
          -61.0333,
          161.9205,
          52.7306,
          45.4833,
          97.9685,
          128.7333,
          89.9629,
          152.35,
          12.8642,
          -124.2243,
          -99.334,
          167.8833,
          164.8658,
          16.5887,
          155.5367,
          12.3689,
          29.5448,
          -78.1522,
          160.7034,
          -40.12,
          -35.2225,
          -35.4608,
          -43.2075,
          -119.5604,
          -36.8267,
          13.2343,
          -67.0892,
          165.7642,
          -85.5016,
          50.1667,
          81.8167,
          25.2,
          134.0833,
          106.1333,
          -157.9253,
          -60.6333,
          30.7101,
          31.2158,
          83.25,
          73.5378,
          117.5,
          86.7833,
          -59.7833,
          -35.7353,
          109.505,
          108.9833,
          95.4,
          73.0167,
          11.3581,
          -61.3003,
          19.5739,
          5.5228,
          39.9664,
          72.4667,
          32.299,
          42.1667,
          121.0167,
          80.2667,
          123.5833,
          80.0538,
          -39.2208,
          100.12,
          72.8944,
          141.3028,
          8.7815,
          90.7132,
          108.9667,
          -155.9956,
          0.1714,
          -46.02,
          -80.3833,
          -53.6064
         ],
         "marker": {
          "color": "#636efa"
         },
         "mode": "markers",
         "name": "",
         "showlegend": false,
         "subplot": "mapbox",
         "type": "scattermapbox"
        }
       ],
       "layout": {
        "autosize": true,
        "legend": {
         "tracegroupgap": 0
        },
        "mapbox": {
         "bearing": 0,
         "center": {
          "lat": 5.172617808433202,
          "lon": 21.516955315193513
         },
         "domain": {
          "x": [
           0,
           1
          ],
          "y": [
           0,
           1
          ]
         },
         "pitch": 0,
         "style": "carto-positron",
         "zoom": 1.9829510169216762
        },
        "margin": {
         "b": 0,
         "l": 0,
         "r": 0,
         "t": 0
        },
        "template": {
         "data": {
          "bar": [
           {
            "error_x": {
             "color": "#2a3f5f"
            },
            "error_y": {
             "color": "#2a3f5f"
            },
            "marker": {
             "line": {
              "color": "#E5ECF6",
              "width": 0.5
             },
             "pattern": {
              "fillmode": "overlay",
              "size": 10,
              "solidity": 0.2
             }
            },
            "type": "bar"
           }
          ],
          "barpolar": [
           {
            "marker": {
             "line": {
              "color": "#E5ECF6",
              "width": 0.5
             },
             "pattern": {
              "fillmode": "overlay",
              "size": 10,
              "solidity": 0.2
             }
            },
            "type": "barpolar"
           }
          ],
          "carpet": [
           {
            "aaxis": {
             "endlinecolor": "#2a3f5f",
             "gridcolor": "white",
             "linecolor": "white",
             "minorgridcolor": "white",
             "startlinecolor": "#2a3f5f"
            },
            "baxis": {
             "endlinecolor": "#2a3f5f",
             "gridcolor": "white",
             "linecolor": "white",
             "minorgridcolor": "white",
             "startlinecolor": "#2a3f5f"
            },
            "type": "carpet"
           }
          ],
          "choropleth": [
           {
            "colorbar": {
             "outlinewidth": 0,
             "ticks": ""
            },
            "type": "choropleth"
           }
          ],
          "contour": [
           {
            "colorbar": {
             "outlinewidth": 0,
             "ticks": ""
            },
            "colorscale": [
             [
              0,
              "#0d0887"
             ],
             [
              0.1111111111111111,
              "#46039f"
             ],
             [
              0.2222222222222222,
              "#7201a8"
             ],
             [
              0.3333333333333333,
              "#9c179e"
             ],
             [
              0.4444444444444444,
              "#bd3786"
             ],
             [
              0.5555555555555556,
              "#d8576b"
             ],
             [
              0.6666666666666666,
              "#ed7953"
             ],
             [
              0.7777777777777778,
              "#fb9f3a"
             ],
             [
              0.8888888888888888,
              "#fdca26"
             ],
             [
              1,
              "#f0f921"
             ]
            ],
            "type": "contour"
           }
          ],
          "contourcarpet": [
           {
            "colorbar": {
             "outlinewidth": 0,
             "ticks": ""
            },
            "type": "contourcarpet"
           }
          ],
          "heatmap": [
           {
            "colorbar": {
             "outlinewidth": 0,
             "ticks": ""
            },
            "colorscale": [
             [
              0,
              "#0d0887"
             ],
             [
              0.1111111111111111,
              "#46039f"
             ],
             [
              0.2222222222222222,
              "#7201a8"
             ],
             [
              0.3333333333333333,
              "#9c179e"
             ],
             [
              0.4444444444444444,
              "#bd3786"
             ],
             [
              0.5555555555555556,
              "#d8576b"
             ],
             [
              0.6666666666666666,
              "#ed7953"
             ],
             [
              0.7777777777777778,
              "#fb9f3a"
             ],
             [
              0.8888888888888888,
              "#fdca26"
             ],
             [
              1,
              "#f0f921"
             ]
            ],
            "type": "heatmap"
           }
          ],
          "heatmapgl": [
           {
            "colorbar": {
             "outlinewidth": 0,
             "ticks": ""
            },
            "colorscale": [
             [
              0,
              "#0d0887"
             ],
             [
              0.1111111111111111,
              "#46039f"
             ],
             [
              0.2222222222222222,
              "#7201a8"
             ],
             [
              0.3333333333333333,
              "#9c179e"
             ],
             [
              0.4444444444444444,
              "#bd3786"
             ],
             [
              0.5555555555555556,
              "#d8576b"
             ],
             [
              0.6666666666666666,
              "#ed7953"
             ],
             [
              0.7777777777777778,
              "#fb9f3a"
             ],
             [
              0.8888888888888888,
              "#fdca26"
             ],
             [
              1,
              "#f0f921"
             ]
            ],
            "type": "heatmapgl"
           }
          ],
          "histogram": [
           {
            "marker": {
             "pattern": {
              "fillmode": "overlay",
              "size": 10,
              "solidity": 0.2
             }
            },
            "type": "histogram"
           }
          ],
          "histogram2d": [
           {
            "colorbar": {
             "outlinewidth": 0,
             "ticks": ""
            },
            "colorscale": [
             [
              0,
              "#0d0887"
             ],
             [
              0.1111111111111111,
              "#46039f"
             ],
             [
              0.2222222222222222,
              "#7201a8"
             ],
             [
              0.3333333333333333,
              "#9c179e"
             ],
             [
              0.4444444444444444,
              "#bd3786"
             ],
             [
              0.5555555555555556,
              "#d8576b"
             ],
             [
              0.6666666666666666,
              "#ed7953"
             ],
             [
              0.7777777777777778,
              "#fb9f3a"
             ],
             [
              0.8888888888888888,
              "#fdca26"
             ],
             [
              1,
              "#f0f921"
             ]
            ],
            "type": "histogram2d"
           }
          ],
          "histogram2dcontour": [
           {
            "colorbar": {
             "outlinewidth": 0,
             "ticks": ""
            },
            "colorscale": [
             [
              0,
              "#0d0887"
             ],
             [
              0.1111111111111111,
              "#46039f"
             ],
             [
              0.2222222222222222,
              "#7201a8"
             ],
             [
              0.3333333333333333,
              "#9c179e"
             ],
             [
              0.4444444444444444,
              "#bd3786"
             ],
             [
              0.5555555555555556,
              "#d8576b"
             ],
             [
              0.6666666666666666,
              "#ed7953"
             ],
             [
              0.7777777777777778,
              "#fb9f3a"
             ],
             [
              0.8888888888888888,
              "#fdca26"
             ],
             [
              1,
              "#f0f921"
             ]
            ],
            "type": "histogram2dcontour"
           }
          ],
          "mesh3d": [
           {
            "colorbar": {
             "outlinewidth": 0,
             "ticks": ""
            },
            "type": "mesh3d"
           }
          ],
          "parcoords": [
           {
            "line": {
             "colorbar": {
              "outlinewidth": 0,
              "ticks": ""
             }
            },
            "type": "parcoords"
           }
          ],
          "pie": [
           {
            "automargin": true,
            "type": "pie"
           }
          ],
          "scatter": [
           {
            "fillpattern": {
             "fillmode": "overlay",
             "size": 10,
             "solidity": 0.2
            },
            "type": "scatter"
           }
          ],
          "scatter3d": [
           {
            "line": {
             "colorbar": {
              "outlinewidth": 0,
              "ticks": ""
             }
            },
            "marker": {
             "colorbar": {
              "outlinewidth": 0,
              "ticks": ""
             }
            },
            "type": "scatter3d"
           }
          ],
          "scattercarpet": [
           {
            "marker": {
             "colorbar": {
              "outlinewidth": 0,
              "ticks": ""
             }
            },
            "type": "scattercarpet"
           }
          ],
          "scattergeo": [
           {
            "marker": {
             "colorbar": {
              "outlinewidth": 0,
              "ticks": ""
             }
            },
            "type": "scattergeo"
           }
          ],
          "scattergl": [
           {
            "marker": {
             "colorbar": {
              "outlinewidth": 0,
              "ticks": ""
             }
            },
            "type": "scattergl"
           }
          ],
          "scattermapbox": [
           {
            "marker": {
             "colorbar": {
              "outlinewidth": 0,
              "ticks": ""
             }
            },
            "type": "scattermapbox"
           }
          ],
          "scatterpolar": [
           {
            "marker": {
             "colorbar": {
              "outlinewidth": 0,
              "ticks": ""
             }
            },
            "type": "scatterpolar"
           }
          ],
          "scatterpolargl": [
           {
            "marker": {
             "colorbar": {
              "outlinewidth": 0,
              "ticks": ""
             }
            },
            "type": "scatterpolargl"
           }
          ],
          "scatterternary": [
           {
            "marker": {
             "colorbar": {
              "outlinewidth": 0,
              "ticks": ""
             }
            },
            "type": "scatterternary"
           }
          ],
          "surface": [
           {
            "colorbar": {
             "outlinewidth": 0,
             "ticks": ""
            },
            "colorscale": [
             [
              0,
              "#0d0887"
             ],
             [
              0.1111111111111111,
              "#46039f"
             ],
             [
              0.2222222222222222,
              "#7201a8"
             ],
             [
              0.3333333333333333,
              "#9c179e"
             ],
             [
              0.4444444444444444,
              "#bd3786"
             ],
             [
              0.5555555555555556,
              "#d8576b"
             ],
             [
              0.6666666666666666,
              "#ed7953"
             ],
             [
              0.7777777777777778,
              "#fb9f3a"
             ],
             [
              0.8888888888888888,
              "#fdca26"
             ],
             [
              1,
              "#f0f921"
             ]
            ],
            "type": "surface"
           }
          ],
          "table": [
           {
            "cells": {
             "fill": {
              "color": "#EBF0F8"
             },
             "line": {
              "color": "white"
             }
            },
            "header": {
             "fill": {
              "color": "#C8D4E3"
             },
             "line": {
              "color": "white"
             }
            },
            "type": "table"
           }
          ]
         },
         "layout": {
          "annotationdefaults": {
           "arrowcolor": "#2a3f5f",
           "arrowhead": 0,
           "arrowwidth": 1
          },
          "autotypenumbers": "strict",
          "coloraxis": {
           "colorbar": {
            "outlinewidth": 0,
            "ticks": ""
           }
          },
          "colorscale": {
           "diverging": [
            [
             0,
             "#8e0152"
            ],
            [
             0.1,
             "#c51b7d"
            ],
            [
             0.2,
             "#de77ae"
            ],
            [
             0.3,
             "#f1b6da"
            ],
            [
             0.4,
             "#fde0ef"
            ],
            [
             0.5,
             "#f7f7f7"
            ],
            [
             0.6,
             "#e6f5d0"
            ],
            [
             0.7,
             "#b8e186"
            ],
            [
             0.8,
             "#7fbc41"
            ],
            [
             0.9,
             "#4d9221"
            ],
            [
             1,
             "#276419"
            ]
           ],
           "sequential": [
            [
             0,
             "#0d0887"
            ],
            [
             0.1111111111111111,
             "#46039f"
            ],
            [
             0.2222222222222222,
             "#7201a8"
            ],
            [
             0.3333333333333333,
             "#9c179e"
            ],
            [
             0.4444444444444444,
             "#bd3786"
            ],
            [
             0.5555555555555556,
             "#d8576b"
            ],
            [
             0.6666666666666666,
             "#ed7953"
            ],
            [
             0.7777777777777778,
             "#fb9f3a"
            ],
            [
             0.8888888888888888,
             "#fdca26"
            ],
            [
             1,
             "#f0f921"
            ]
           ],
           "sequentialminus": [
            [
             0,
             "#0d0887"
            ],
            [
             0.1111111111111111,
             "#46039f"
            ],
            [
             0.2222222222222222,
             "#7201a8"
            ],
            [
             0.3333333333333333,
             "#9c179e"
            ],
            [
             0.4444444444444444,
             "#bd3786"
            ],
            [
             0.5555555555555556,
             "#d8576b"
            ],
            [
             0.6666666666666666,
             "#ed7953"
            ],
            [
             0.7777777777777778,
             "#fb9f3a"
            ],
            [
             0.8888888888888888,
             "#fdca26"
            ],
            [
             1,
             "#f0f921"
            ]
           ]
          },
          "colorway": [
           "#636efa",
           "#EF553B",
           "#00cc96",
           "#ab63fa",
           "#FFA15A",
           "#19d3f3",
           "#FF6692",
           "#B6E880",
           "#FF97FF",
           "#FECB52"
          ],
          "font": {
           "color": "#2a3f5f"
          },
          "geo": {
           "bgcolor": "white",
           "lakecolor": "white",
           "landcolor": "#E5ECF6",
           "showlakes": true,
           "showland": true,
           "subunitcolor": "white"
          },
          "hoverlabel": {
           "align": "left"
          },
          "hovermode": "closest",
          "mapbox": {
           "style": "light"
          },
          "paper_bgcolor": "white",
          "plot_bgcolor": "#E5ECF6",
          "polar": {
           "angularaxis": {
            "gridcolor": "white",
            "linecolor": "white",
            "ticks": ""
           },
           "bgcolor": "#E5ECF6",
           "radialaxis": {
            "gridcolor": "white",
            "linecolor": "white",
            "ticks": ""
           }
          },
          "scene": {
           "xaxis": {
            "backgroundcolor": "#E5ECF6",
            "gridcolor": "white",
            "gridwidth": 2,
            "linecolor": "white",
            "showbackground": true,
            "ticks": "",
            "zerolinecolor": "white"
           },
           "yaxis": {
            "backgroundcolor": "#E5ECF6",
            "gridcolor": "white",
            "gridwidth": 2,
            "linecolor": "white",
            "showbackground": true,
            "ticks": "",
            "zerolinecolor": "white"
           },
           "zaxis": {
            "backgroundcolor": "#E5ECF6",
            "gridcolor": "white",
            "gridwidth": 2,
            "linecolor": "white",
            "showbackground": true,
            "ticks": "",
            "zerolinecolor": "white"
           }
          },
          "shapedefaults": {
           "line": {
            "color": "#2a3f5f"
           }
          },
          "ternary": {
           "aaxis": {
            "gridcolor": "white",
            "linecolor": "white",
            "ticks": ""
           },
           "baxis": {
            "gridcolor": "white",
            "linecolor": "white",
            "ticks": ""
           },
           "bgcolor": "#E5ECF6",
           "caxis": {
            "gridcolor": "white",
            "linecolor": "white",
            "ticks": ""
           }
          },
          "title": {
           "x": 0.05
          },
          "xaxis": {
           "automargin": true,
           "gridcolor": "white",
           "linecolor": "white",
           "ticks": "",
           "title": {
            "standoff": 15
           },
           "zerolinecolor": "white",
           "zerolinewidth": 2
          },
          "yaxis": {
           "automargin": true,
           "gridcolor": "white",
           "linecolor": "white",
           "ticks": "",
           "title": {
            "standoff": 15
           },
           "zerolinecolor": "white",
           "zerolinewidth": 2
          }
         }
        }
       }
      },
      "image/png": "[encoded data removed]",
      "text/html": [
       "<div>                            <div id=\"c0880da1-4600-4d40-9ddc-e660ea4e68fe\" class=\"plotly-graph-div\" style=\"height:525px; width:100%;\"></div>            <script type=\"text/javascript\">                require([\"plotly\"], function(Plotly) {                    window.PLOTLYENV=window.PLOTLYENV || {};                                    if (document.getElementById(\"c0880da1-4600-4d40-9ddc-e660ea4e68fe\")) {                    Plotly.newPlot(                        \"c0880da1-4600-4d40-9ddc-e660ea4e68fe\",                        [{\"customdata\":[[\"No hotel found\",\"SA\"],[\"No hotel found\",\"PN\"],[\"Hotel Breno\",\"BR\"],[\"Page 63 hostel\",\"MY\"],[\"Hotel Rafael\",\"MZ\"],[\"Escale Vacances\",\"MU\"],[\"King Koresh\",\"IL\"],[\"Hampton Inn & Suites\",\"US\"],[\"Muscat International Hotel\",\"OM\"],[\"Le Baril\",\"RE\"],[\"Hospedaje Calle del Sol\",\"PE\"],[\"No hotel found\",\"BR\"],[\"Hostal El Encanto\",\"PE\"],[\"No hotel found\",\"MH\"],[\"No hotel found\",\"US\"],[\"No hotel found\",\"PH\"],[\"No hotel found\",\"ID\"],[\"No hotel found\",\"PF\"],[\"No hotel found\",\"DZ\"],[\"No hotel found\",\"US\"],[\"No hotel found\",\"CC\"],[\"No hotel found\",\"MM\"],[\"No hotel found\",\"AU\"],[\"No hotel found\",\"AU\"],[\"No hotel found\",\"ID\"],[\"No hotel found\",\"US\"],[\"No hotel found\",\"US\"],[\"No hotel found\",\"BR\"],[\"No hotel found\",\"CX\"],[\"No hotel found\",\"AU\"],[\"No hotel found\",\"PH\"],[\"No hotel found\",\"CV\"],[\"No hotel found\",\"BR\"],[\"No hotel found\",\"US\"],[\"No hotel found\",\"CI\"],[\"No hotel found\",\"LY\"],[\"No hotel found\",\"SN\"],[\"No hotel found\",\"PE\"],[\"No hotel found\",\"SL\"],[\"No hotel found\",\"MX\"],[\"No hotel found\",\"EC\"],[\"No hotel found\",\"BR\"],[\"No hotel found\",\"LY\"],[\"No hotel found\",\"NR\"],[\"No hotel found\",\"OM\"],[\"No hotel found\",\"MH\"],[\"No hotel found\",\"US\"],[\"No hotel found\",\"US\"],[\"No hotel found\",\"PG\"],[\"No hotel found\",\"AU\"],[\"No hotel found\",\"CU\"],[\"No hotel found\",\"BR\"],[\"No hotel found\",\"IN\"],[\"No hotel found\",\"BR\"],[\"No hotel found\",\"IN\"],[\"No hotel found\",\"BR\"],[\"No hotel found\",\"CV\"],[\"No hotel found\",\"PE\"],[\"No hotel found\",\"US\"],[\"No hotel found\",\"AU\"],[\"\",\"AU\"],[\"\",\"IN\"],[\"\",\"US\"],[\"\",\"PH\"],[\"\",\"MH\"],[\"\",\"ID\"],[\"\",\"PE\"],[\"\",\"VU\"],[\"\",\"MG\"],[\"\",\"TO\"],[\"\",\"IN\"],[\"\",\"CM\"],[\"\",\"PE\"],[\"\",\"ID\"],[\"\",\"GH\"],[\"\",\"US\"],[\"\",\"MG\"],[\"\",\"US\"],[\"\",\"BR\"],[\"\",\"SD\"],[\"\",\"AO\"],[\"\",\"SD\"],[\"\",\"BR\"],[\"\",\"US\"],[\"\",\"PE\"],[\"\",\"PH\"],[\"\",\"BR\"],[\"\",\"ID\"],[\"\",\"US\"],[\"\",\"ZA\"],[\"\",\"MX\"],[\"\",\"SY\"],[\"\",\"AU\"],[\"\",\"PH\"],[\"\",\"IN\"],[\"\",\"IN\"],[\"\",\"EC\"],[\"\",\"MH\"],[\"\",\"MX\"],[\"\",\"PG\"],[\"\",\"JP\"],[\"\",\"CN\"],[\"\",\"MX\"],[\"\",\"YE\"],[\"\",\"CG\"],[\"\",\"AU\"],[\"\",\"MX\"],[\"\",\"IN\"],[\"\",\"ID\"],[\"\",\"US\"],[\"\",\"US\"],[\"\",\"BR\"],[\"\",\"GU\"],[\"\",\"PE\"],[\"\",\"MH\"],[\"\",\"TC\"],[\"\",\"GW\"],[\"\",\"MV\"],[\"\",\"MP\"],[\"\",\"BO\"],[\"\",\"US\"],[\"\",\"US\"],[\"\",\"MG\"],[\"\",\"LR\"],[\"\",\"CD\"],[\"\",\"GH\"],[\"\",\"FM\"],[\"\",\"TD\"],[\"\",\"US\"],[\"\",\"SA\"],[\"\",\"RE\"],[\"\",\"VU\"],[\"\",\"IQ\"],[\"\",\"AU\"],[\"\",\"PH\"],[\"\",\"US\"],[\"\",\"AO\"],[\"\",\"US\"],[\"\",\"BR\"],[\"\",\"SA\"],[\"\",\"BR\"],[\"\",\"ID\"],[\"\",\"BR\"],[\"\",\"IN\"],[\"\",\"NC\"],[\"\",\"BR\"],[\"\",\"US\"],[\"\",\"OM\"],[\"\",\"SA\"],[\"\",\"IN\"],[\"\",\"US\"],[\"\",\"LC\"],[\"\",\"SB\"],[\"\",\"AE\"],[\"\",\"MG\"],[\"\",\"TH\"],[\"\",\"AU\"],[\"\",\"BD\"],[\"\",\"AU\"],[\"\",\"GA\"],[\"\",\"US\"],[\"\",\"US\"],[\"\",\"NC\"],[\"\",\"NC\"],[\"\",\"LY\"],[\"\",\"PG\"],[\"\",\"AO\"],[\"\",\"ZA\"],[\"\",\"PE\"],[\"\",\"SB\"],[\"\",\"BR\"],[\"\",\"BR\"],[\"\",\"BR\"],[\"\",\"BR\"],[\"\",\"US\"],[\"\",\"BR\"],[\"\",\"AO\"],[\"\",\"BR\"],[\"\",\"MH\"],[\"\",\"US\"],[\"\",\"MG\"],[\"\",\"LK\"],[\"\",\"CD\"],[\"\",\"ID\"],[\"\",\"ID\"],[\"\",\"US\"],[\"\",\"BR\"],[\"\",\"EG\"],[\"\",\"SD\"],[\"\",\"IN\"],[\"\",\"IN\"],[\"\",\"ID\"],[\"\",\"IN\"],[\"\",\"GY\"],[\"\",\"BR\"],[\"\",\"CN\"],[\"\",\"VN\"],[\"\",\"MM\"],[\"\",\"IN\"],[\"\",\"GA\"],[\"\",\"BR\"],[\"\",\"LY\"],[\"\",\"DZ\"],[\"\",\"SA\"],[\"\",\"IN\"],[\"\",\"UG\"],[\"\",\"DJ\"],[\"\",\"PH\"],[\"\",\"IN\"],[\"\",\"ID\"],[\"\",\"LK\"],[\"\",\"BR\"],[\"\",\"ID\"],[\"\",\"MV\"],[\"\",\"PG\"],[\"\",\"GA\"],[\"\",\"BD\"],[\"\",\"ID\"],[\"\",\"US\"],[\"\",\"DZ\"],[\"\",\"BR\"],[\"\",\"EC\"],[\"No hotel found\",\"BR\"]],\"hovertemplate\":\"<b>%{hovertext}</b><br><br>Lat=%{lat}<br>Lng=%{lon}<br>Hotel Name=%{customdata[0]}<br>Country=%{customdata[1]}<extra></extra>\",\"hovertext\":[\"as sulayyil\",\"adamstown\",\"bom jardim\",\"georgetown\",\"pemba\",\"port mathurin\",\"netanya\",\"newman\",\"salalah\",\"saint-philippe\",\"pimentel\",\"arraial do cabo\",\"santiago de cao\",\"utrik\",\"hawaiian paradise park\",\"bogo\",\"tual\",\"uturoa\",\"i-n-salah\",\"fayetteville\",\"west island\",\"myeik\",\"karratha\",\"urangan\",\"sungailiat\",\"kapa'a\",\"fort bragg\",\"salinopolis\",\"flying fish cove\",\"alice springs\",\"basco\",\"praia\",\"natal\",\"wailua homesteads\",\"tabou\",\"at taj\",\"tionk essil\",\"lima\",\"freetown\",\"cabo san lucas\",\"puerto ayora\",\"vera cruz\",\"sabha\",\"yaren\",\"badiyah\",\"enewetak\",\"salinas\",\"crane\",\"aitape\",\"mount isa\",\"guane\",\"almeirim\",\"kattivakkam\",\"petrolina\",\"anantapur\",\"conde\",\"praya\",\"minas de marcona\",\"fredericksburg\",\"yeppoon\",\"howard springs\",\"veraval\",\"holualoa\",\"san mariano\",\"kili\",\"amahai\",\"caleta de carquin\",\"isangel\",\"andovoranto\",\"nuku'alofa\",\"tura\",\"yoko\",\"pacocha\",\"boyolangu\",\"axim\",\"portland\",\"belo sur tsiribihina\",\"haiku-pauwela\",\"nova vicosa\",\"gereida\",\"namibe\",\"nyala\",\"rio grande\",\"lompoc\",\"huicungo\",\"pandan\",\"pindare mirim\",\"bambanglipuro\",\"lihue\",\"east london\",\"acapulco de juarez\",\"ar raqqah\",\"carnarvon\",\"aras-asan\",\"mormugao\",\"hatta\",\"puerto baquerizo moreno\",\"jabor\",\"lazaro cardenas\",\"kiunga\",\"katsuren-haebaru\",\"sanming\",\"san julian\",\"hadibu\",\"dolisie\",\"maryborough\",\"celestun\",\"malvan\",\"palu\",\"west plains\",\"claremont\",\"carinhanha\",\"piti village\",\"puerto santa\",\"mejit\",\"cockburn town\",\"bubaque\",\"male\",\"saipan\",\"san borja\",\"connersville\",\"callaway\",\"tolanaro\",\"harper\",\"basoko\",\"anloga\",\"tofol\",\"faya-largeau\",\"salida\",\"al jubayl\",\"saint-pierre\",\"luganville\",\"najaf\",\"charters towers\",\"el nido\",\"sedalia\",\"benguela\",\"hamilton\",\"cidreira\",\"hafar al-batin\",\"vila velha\",\"sinabang\",\"general salgado\",\"bamboo flat\",\"mont-dore\",\"esmeraldas\",\"meraux\",\"sur\",\"arar\",\"davangere\",\"big stone gap\",\"anse la raye\",\"kirakira\",\"ar ruways\",\"tsiombe\",\"mae hong son\",\"kununurra\",\"mathba\",\"bundaberg\",\"makokou\",\"north bend\",\"altus\",\"tadine\",\"kone\",\"sirte\",\"arawa\",\"soio\",\"port saint john's\",\"huarmey\",\"auki\",\"acarau\",\"maragogi\",\"touros\",\"rio de janeiro\",\"corcoran\",\"taperoa\",\"luanda\",\"sao gabriel da cachoeira\",\"ujae\",\"cookeville\",\"sambava\",\"kalmunai\",\"kisangani\",\"manokwari\",\"pangkalpinang\",\"la'ie\",\"aripuana\",\"samalut\",\"umm ruwaba\",\"dudhi\",\"pipar\",\"bontang\",\"madhipura\",\"mabaruma\",\"maceio\",\"sanya\",\"phan rang-thap cham\",\"bogale\",\"srivardhan\",\"ndende\",\"manicore\",\"al burayqah\",\"tamanrasset\",\"arafat\",\"dholka\",\"gulu\",\"dikhil\",\"san pedro\",\"manali\",\"kupang\",\"ambalangoda\",\"prado\",\"pariaman\",\"kudahuvadhoo\",\"vanimo\",\"port-gentil\",\"uttar char fasson\",\"pemangkat\",\"kailua-kona\",\"reggane\",\"carutapera\",\"playas\",\"cruz alta\"],\"lat\":[20.4607,-25.066,-7.7958,5.4112,-12.974,-19.6833,32.3329,37.3138,17.0151,-21.3585,-6.8367,-22.9661,-7.9589,11.2278,19.5933,11.0517,-5.6667,-16.7333,27.1935,35.0527,-12.1568,12.4333,-20.7377,-25.3,-1.85,22.0752,35.139,-0.6136,-10.4217,-23.7,20.4487,14.9215,-5.795,22.0669,4.423,24.2049,12.7856,-12.0432,8.484,22.8909,-0.7393,-12.6333,27.0377,-0.5472,22.45,11.3474,36.6777,31.3974,-3.1374,-20.7333,22.2025,-1.5233,13.2167,-9.3986,14.6833,-7.2597,14.9215,-15.2119,38.3032,-23.1333,-12.497,20.9,19.6228,7.5,5.6439,-3.3333,-11.0925,-19.55,-18.95,-21.1333,25.5198,5.5333,-17.5833,-8.1181,4.8699,45.5234,-19.7,20.9219,-17.8919,11.2811,-15.1961,12.05,-32.035,34.6391,-7.2833,14.0453,-3.6083,-7.95,21.9789,-33.0153,16.8634,35.95,-24.8667,8.8908,15.4,24.1167,-0.9,5.921,17.9583,-6.1219,26.3369,26.2486,21.0167,12.65,-4.1997,-25.5333,20.8667,16.0667,-0.8917,36.7281,34.0967,-14.3047,13.4626,-8.9906,10.2753,21.4612,11.2833,4.1748,15.1355,-14.8167,39.6412,30.153,-25.0319,4.375,1.2391,5.7947,5.3248,17.9257,37.7058,27.0112,-21.3393,-15.5333,31.9985,-20.1,11.1858,38.7045,-12.5763,39.1834,-30.1811,28.4328,-20.3297,2.4803,-20.6483,11.7,-22.2833,-19.7625,29.933,22.5667,30.9753,14.4667,36.8677,13.9333,-10.4544,24.1103,-25.3,19.3003,-15.7667,22.2855,-24.85,0.5738,43.4065,34.6381,-21.55,-21.0595,31.2089,-6.2132,-6.1349,-31.6229,-10.0681,-8.7676,-2.8856,-9.0122,-5.1989,-22.9028,36.098,-7.2075,-8.8368,-0.1303,8.9322,36.1628,-14.2667,7.4167,0.5167,-0.8667,-2.1333,21.6477,-9.1667,28.3121,12.9061,24.2167,26.3856,0.1333,25.9167,8.2,-9.6658,18.2431,11.5667,16.2833,18.0333,-2.4008,-5.8092,30.4062,22.785,21.3594,22.7167,2.7746,11.5,14.35,13.1667,-10.1667,6.2355,-17.3411,-0.619,2.6708,-2.6741,-0.7193,22.2332,1.1667,19.6406,26.7158,-1.195,-2.6333,-28.6386],\"legendgroup\":\"\",\"lon\":[45.5779,-130.1015,-35.5872,100.3354,40.5178,63.4167,34.8599,-121.0208,54.0924,55.7679,-79.9342,-42.0278,-79.2392,169.8474,-154.9731,124.0055,132.75,-151.4333,2.4607,-78.8784,96.8225,98.6,116.8463,152.9,106.1333,-159.319,-79.006,-47.3561,105.6791,133.8833,121.9702,-23.5087,-35.2094,-159.378,-7.3528,23.2857,-16.5217,-77.0282,-13.2299,-109.9124,-90.3518,-41.0333,14.4283,166.916,58.8,162.3373,-121.6555,-102.3501,142.3475,139.5,-84.0875,-52.5817,80.3167,-40.5008,77.6,-34.9075,-23.5087,-75.1103,-77.4605,150.7333,131.047,70.3667,-155.9522,126.0,169.1211,128.9167,-77.6267,169.2667,49.1,-175.2,90.2201,12.3167,-71.3333,111.8935,-2.2405,-122.6762,44.55,-156.3051,-39.3719,25.1414,12.1522,24.8833,-52.0986,-120.4579,-76.8,124.1694,-45.3433,110.2833,-159.3672,27.9116,-99.8901,39.0167,113.6333,126.3033,73.8,79.6,-89.6,169.6434,-102.2,141.2906,127.8719,117.6186,-102.1667,54.0333,12.6739,152.7,-90.4,73.4667,119.8707,-91.8524,-117.7198,-43.765,144.6933,-78.6456,170.8646,-71.1419,-15.8333,73.5089,145.701,-66.85,-85.1411,-85.5699,46.9987,-7.7169,23.616,0.8973,163.0078,19.1043,-121.0849,49.6583,55.4781,167.1667,44.3398,146.2667,119.3956,-93.2283,13.4055,-84.5333,-50.2056,45.9708,-40.2925,96.3801,-50.3606,92.7167,166.5833,-44.3139,-89.9498,59.5289,41.0381,75.9167,-82.7745,-61.0333,161.9205,52.7306,45.4833,97.9685,128.7333,89.9629,152.35,12.8642,-124.2243,-99.334,167.8833,164.8658,16.5887,155.5367,12.3689,29.5448,-78.1522,160.7034,-40.12,-35.2225,-35.4608,-43.2075,-119.5604,-36.8267,13.2343,-67.0892,165.7642,-85.5016,50.1667,81.8167,25.2,134.0833,106.1333,-157.9253,-60.6333,30.7101,31.2158,83.25,73.5378,117.5,86.7833,-59.7833,-35.7353,109.505,108.9833,95.4,73.0167,11.3581,-61.3003,19.5739,5.5228,39.9664,72.4667,32.299,42.1667,121.0167,80.2667,123.5833,80.0538,-39.2208,100.12,72.8944,141.3028,8.7815,90.7132,108.9667,-155.9956,0.1714,-46.02,-80.3833,-53.6064],\"marker\":{\"color\":\"#636efa\"},\"mode\":\"markers\",\"name\":\"\",\"showlegend\":false,\"subplot\":\"mapbox\",\"type\":\"scattermapbox\"}],                        {\"template\":{\"data\":{\"histogram2dcontour\":[{\"type\":\"histogram2dcontour\",\"colorbar\":{\"outlinewidth\":0,\"ticks\":\"\"},\"colorscale\":[[0.0,\"#0d0887\"],[0.1111111111111111,\"#46039f\"],[0.2222222222222222,\"#7201a8\"],[0.3333333333333333,\"#9c179e\"],[0.4444444444444444,\"#bd3786\"],[0.5555555555555556,\"#d8576b\"],[0.6666666666666666,\"#ed7953\"],[0.7777777777777778,\"#fb9f3a\"],[0.8888888888888888,\"#fdca26\"],[1.0,\"#f0f921\"]]}],\"choropleth\":[{\"type\":\"choropleth\",\"colorbar\":{\"outlinewidth\":0,\"ticks\":\"\"}}],\"histogram2d\":[{\"type\":\"histogram2d\",\"colorbar\":{\"outlinewidth\":0,\"ticks\":\"\"},\"colorscale\":[[0.0,\"#0d0887\"],[0.1111111111111111,\"#46039f\"],[0.2222222222222222,\"#7201a8\"],[0.3333333333333333,\"#9c179e\"],[0.4444444444444444,\"#bd3786\"],[0.5555555555555556,\"#d8576b\"],[0.6666666666666666,\"#ed7953\"],[0.7777777777777778,\"#fb9f3a\"],[0.8888888888888888,\"#fdca26\"],[1.0,\"#f0f921\"]]}],\"heatmap\":[{\"type\":\"heatmap\",\"colorbar\":{\"outlinewidth\":0,\"ticks\":\"\"},\"colorscale\":[[0.0,\"#0d0887\"],[0.1111111111111111,\"#46039f\"],[0.2222222222222222,\"#7201a8\"],[0.3333333333333333,\"#9c179e\"],[0.4444444444444444,\"#bd3786\"],[0.5555555555555556,\"#d8576b\"],[0.6666666666666666,\"#ed7953\"],[0.7777777777777778,\"#fb9f3a\"],[0.8888888888888888,\"#fdca26\"],[1.0,\"#f0f921\"]]}],\"heatmapgl\":[{\"type\":\"heatmapgl\",\"colorbar\":{\"outlinewidth\":0,\"ticks\":\"\"},\"colorscale\":[[0.0,\"#0d0887\"],[0.1111111111111111,\"#46039f\"],[0.2222222222222222,\"#7201a8\"],[0.3333333333333333,\"#9c179e\"],[0.4444444444444444,\"#bd3786\"],[0.5555555555555556,\"#d8576b\"],[0.6666666666666666,\"#ed7953\"],[0.7777777777777778,\"#fb9f3a\"],[0.8888888888888888,\"#fdca26\"],[1.0,\"#f0f921\"]]}],\"contourcarpet\":[{\"type\":\"contourcarpet\",\"colorbar\":{\"outlinewidth\":0,\"ticks\":\"\"}}],\"contour\":[{\"type\":\"contour\",\"colorbar\":{\"outlinewidth\":0,\"ticks\":\"\"},\"colorscale\":[[0.0,\"#0d0887\"],[0.1111111111111111,\"#46039f\"],[0.2222222222222222,\"#7201a8\"],[0.3333333333333333,\"#9c179e\"],[0.4444444444444444,\"#bd3786\"],[0.5555555555555556,\"#d8576b\"],[0.6666666666666666,\"#ed7953\"],[0.7777777777777778,\"#fb9f3a\"],[0.8888888888888888,\"#fdca26\"],[1.0,\"#f0f921\"]]}],\"surface\":[{\"type\":\"surface\",\"colorbar\":{\"outlinewidth\":0,\"ticks\":\"\"},\"colorscale\":[[0.0,\"#0d0887\"],[0.1111111111111111,\"#46039f\"],[0.2222222222222222,\"#7201a8\"],[0.3333333333333333,\"#9c179e\"],[0.4444444444444444,\"#bd3786\"],[0.5555555555555556,\"#d8576b\"],[0.6666666666666666,\"#ed7953\"],[0.7777777777777778,\"#fb9f3a\"],[0.8888888888888888,\"#fdca26\"],[1.0,\"#f0f921\"]]}],\"mesh3d\":[{\"type\":\"mesh3d\",\"colorbar\":{\"outlinewidth\":0,\"ticks\":\"\"}}],\"scatter\":[{\"fillpattern\":{\"fillmode\":\"overlay\",\"size\":10,\"solidity\":0.2},\"type\":\"scatter\"}],\"parcoords\":[{\"type\":\"parcoords\",\"line\":{\"colorbar\":{\"outlinewidth\":0,\"ticks\":\"\"}}}],\"scatterpolargl\":[{\"type\":\"scatterpolargl\",\"marker\":{\"colorbar\":{\"outlinewidth\":0,\"ticks\":\"\"}}}],\"bar\":[{\"error_x\":{\"color\":\"#2a3f5f\"},\"error_y\":{\"color\":\"#2a3f5f\"},\"marker\":{\"line\":{\"color\":\"#E5ECF6\",\"width\":0.5},\"pattern\":{\"fillmode\":\"overlay\",\"size\":10,\"solidity\":0.2}},\"type\":\"bar\"}],\"scattergeo\":[{\"type\":\"scattergeo\",\"marker\":{\"colorbar\":{\"outlinewidth\":0,\"ticks\":\"\"}}}],\"scatterpolar\":[{\"type\":\"scatterpolar\",\"marker\":{\"colorbar\":{\"outlinewidth\":0,\"ticks\":\"\"}}}],\"histogram\":[{\"marker\":{\"pattern\":{\"fillmode\":\"overlay\",\"size\":10,\"solidity\":0.2}},\"type\":\"histogram\"}],\"scattergl\":[{\"type\":\"scattergl\",\"marker\":{\"colorbar\":{\"outlinewidth\":0,\"ticks\":\"\"}}}],\"scatter3d\":[{\"type\":\"scatter3d\",\"line\":{\"colorbar\":{\"outlinewidth\":0,\"ticks\":\"\"}},\"marker\":{\"colorbar\":{\"outlinewidth\":0,\"ticks\":\"\"}}}],\"scattermapbox\":[{\"type\":\"scattermapbox\",\"marker\":{\"colorbar\":{\"outlinewidth\":0,\"ticks\":\"\"}}}],\"scatterternary\":[{\"type\":\"scatterternary\",\"marker\":{\"colorbar\":{\"outlinewidth\":0,\"ticks\":\"\"}}}],\"scattercarpet\":[{\"type\":\"scattercarpet\",\"marker\":{\"colorbar\":{\"outlinewidth\":0,\"ticks\":\"\"}}}],\"carpet\":[{\"aaxis\":{\"endlinecolor\":\"#2a3f5f\",\"gridcolor\":\"white\",\"linecolor\":\"white\",\"minorgridcolor\":\"white\",\"startlinecolor\":\"#2a3f5f\"},\"baxis\":{\"endlinecolor\":\"#2a3f5f\",\"gridcolor\":\"white\",\"linecolor\":\"white\",\"minorgridcolor\":\"white\",\"startlinecolor\":\"#2a3f5f\"},\"type\":\"carpet\"}],\"table\":[{\"cells\":{\"fill\":{\"color\":\"#EBF0F8\"},\"line\":{\"color\":\"white\"}},\"header\":{\"fill\":{\"color\":\"#C8D4E3\"},\"line\":{\"color\":\"white\"}},\"type\":\"table\"}],\"barpolar\":[{\"marker\":{\"line\":{\"color\":\"#E5ECF6\",\"width\":0.5},\"pattern\":{\"fillmode\":\"overlay\",\"size\":10,\"solidity\":0.2}},\"type\":\"barpolar\"}],\"pie\":[{\"automargin\":true,\"type\":\"pie\"}]},\"layout\":{\"autotypenumbers\":\"strict\",\"colorway\":[\"#636efa\",\"#EF553B\",\"#00cc96\",\"#ab63fa\",\"#FFA15A\",\"#19d3f3\",\"#FF6692\",\"#B6E880\",\"#FF97FF\",\"#FECB52\"],\"font\":{\"color\":\"#2a3f5f\"},\"hovermode\":\"closest\",\"hoverlabel\":{\"align\":\"left\"},\"paper_bgcolor\":\"white\",\"plot_bgcolor\":\"#E5ECF6\",\"polar\":{\"bgcolor\":\"#E5ECF6\",\"angularaxis\":{\"gridcolor\":\"white\",\"linecolor\":\"white\",\"ticks\":\"\"},\"radialaxis\":{\"gridcolor\":\"white\",\"linecolor\":\"white\",\"ticks\":\"\"}},\"ternary\":{\"bgcolor\":\"#E5ECF6\",\"aaxis\":{\"gridcolor\":\"white\",\"linecolor\":\"white\",\"ticks\":\"\"},\"baxis\":{\"gridcolor\":\"white\",\"linecolor\":\"white\",\"ticks\":\"\"},\"caxis\":{\"gridcolor\":\"white\",\"linecolor\":\"white\",\"ticks\":\"\"}},\"coloraxis\":{\"colorbar\":{\"outlinewidth\":0,\"ticks\":\"\"}},\"colorscale\":{\"sequential\":[[0.0,\"#0d0887\"],[0.1111111111111111,\"#46039f\"],[0.2222222222222222,\"#7201a8\"],[0.3333333333333333,\"#9c179e\"],[0.4444444444444444,\"#bd3786\"],[0.5555555555555556,\"#d8576b\"],[0.6666666666666666,\"#ed7953\"],[0.7777777777777778,\"#fb9f3a\"],[0.8888888888888888,\"#fdca26\"],[1.0,\"#f0f921\"]],\"sequentialminus\":[[0.0,\"#0d0887\"],[0.1111111111111111,\"#46039f\"],[0.2222222222222222,\"#7201a8\"],[0.3333333333333333,\"#9c179e\"],[0.4444444444444444,\"#bd3786\"],[0.5555555555555556,\"#d8576b\"],[0.6666666666666666,\"#ed7953\"],[0.7777777777777778,\"#fb9f3a\"],[0.8888888888888888,\"#fdca26\"],[1.0,\"#f0f921\"]],\"diverging\":[[0,\"#8e0152\"],[0.1,\"#c51b7d\"],[0.2,\"#de77ae\"],[0.3,\"#f1b6da\"],[0.4,\"#fde0ef\"],[0.5,\"#f7f7f7\"],[0.6,\"#e6f5d0\"],[0.7,\"#b8e186\"],[0.8,\"#7fbc41\"],[0.9,\"#4d9221\"],[1,\"#276419\"]]},\"xaxis\":{\"gridcolor\":\"white\",\"linecolor\":\"white\",\"ticks\":\"\",\"title\":{\"standoff\":15},\"zerolinecolor\":\"white\",\"automargin\":true,\"zerolinewidth\":2},\"yaxis\":{\"gridcolor\":\"white\",\"linecolor\":\"white\",\"ticks\":\"\",\"title\":{\"standoff\":15},\"zerolinecolor\":\"white\",\"automargin\":true,\"zerolinewidth\":2},\"scene\":{\"xaxis\":{\"backgroundcolor\":\"#E5ECF6\",\"gridcolor\":\"white\",\"linecolor\":\"white\",\"showbackground\":true,\"ticks\":\"\",\"zerolinecolor\":\"white\",\"gridwidth\":2},\"yaxis\":{\"backgroundcolor\":\"#E5ECF6\",\"gridcolor\":\"white\",\"linecolor\":\"white\",\"showbackground\":true,\"ticks\":\"\",\"zerolinecolor\":\"white\",\"gridwidth\":2},\"zaxis\":{\"backgroundcolor\":\"#E5ECF6\",\"gridcolor\":\"white\",\"linecolor\":\"white\",\"showbackground\":true,\"ticks\":\"\",\"zerolinecolor\":\"white\",\"gridwidth\":2}},\"shapedefaults\":{\"line\":{\"color\":\"#2a3f5f\"}},\"annotationdefaults\":{\"arrowcolor\":\"#2a3f5f\",\"arrowhead\":0,\"arrowwidth\":1},\"geo\":{\"bgcolor\":\"white\",\"landcolor\":\"#E5ECF6\",\"subunitcolor\":\"white\",\"showland\":true,\"showlakes\":true,\"lakecolor\":\"white\"},\"title\":{\"x\":0.05},\"mapbox\":{\"style\":\"light\"}}},\"mapbox\":{\"domain\":{\"x\":[0.0,1.0],\"y\":[0.0,1.0]},\"center\":{\"lat\":5.434660089686099,\"lon\":20.493046636771297},\"zoom\":2,\"style\":\"carto-positron\"},\"legend\":{\"tracegroupgap\":0},\"margin\":{\"t\":0,\"r\":0,\"l\":0,\"b\":0}},                        {\"responsive\": true}                    ).then(function(){\n",
       "                            \n",
       "var gd = document.getElementById('c0880da1-4600-4d40-9ddc-e660ea4e68fe');\n",
       "var x = new MutationObserver(function (mutations, observer) {{\n",
       "        var display = window.getComputedStyle(gd).display;\n",
       "        if (!display || display === 'none') {{\n",
       "            console.log([gd, 'removed!']);\n",
       "            Plotly.purge(gd);\n",
       "            observer.disconnect();\n",
       "        }}\n",
       "}});\n",
       "\n",
       "// Listen for the removal of the full notebook cells\n",
       "var notebookContainer = gd.closest('#notebook-container');\n",
       "if (notebookContainer) {{\n",
       "    x.observe(notebookContainer, {childList: true});\n",
       "}}\n",
       "\n",
       "// Listen for the clearing of the current output cell\n",
       "var outputEl = gd.closest('.output');\n",
       "if (outputEl) {{\n",
       "    x.observe(outputEl, {childList: true});\n",
       "}}\n",
       "\n",
       "                        })                };                });            </script>        </div>"
      ]
     },
     "metadata": {},
     "output_type": "display_data"
    }
   ],
   "source": [
    "%%capture --no-display\n",
    "\n",
    "import plotly.express as px\n",
    "\n",
    "# Configure the map plot\n",
    "fig = px.scatter_mapbox(hotel_df, \n",
    "                        lat=\"Lat\", \n",
    "                        lon=\"Lng\", \n",
    "                        hover_name=\"City\", \n",
    "                        hover_data={\"Hotel Name\": True, \"Country\": True},  # Include additional hover data\n",
    "                        zoom=2)\n",
    "\n",
    "fig.update_layout(mapbox_style=\"carto-positron\")\n",
    "fig.update_layout(margin={\"r\":0,\"t\":0,\"l\":0,\"b\":0})\n",
    "\n",
    "# Display the map\n",
    "fig.show()"
   ]
  },
  {
   "cell_type": "code",
   "execution_count": null,
   "metadata": {},
   "outputs": [],
   "source": []
  }
 ],
 "metadata": {
  "kernelspec": {
   "display_name": "Python 3 (ipykernel)",
   "language": "python",
   "name": "python3"
  },
  "language_info": {
   "codemirror_mode": {
    "name": "ipython",
    "version": 3
   },
   "file_extension": ".py",
   "mimetype": "text/x-python",
   "name": "python",
   "nbconvert_exporter": "python",
   "pygments_lexer": "ipython3",
   "version": "3.10.13"
  },
  "latex_envs": {
   "LaTeX_envs_menu_present": true,
   "autoclose": false,
   "autocomplete": true,
   "bibliofile": "biblio.bib",
   "cite_by": "apalike",
   "current_citInitial": 1,
   "eqLabelWithNumbers": true,
   "eqNumInitial": 1,
   "hotkeys": {
    "equation": "Ctrl-E",
    "itemize": "Ctrl-I"
   },
   "labels_anchors": false,
   "latex_user_defs": false,
   "report_style_numbering": false,
   "user_envs_cfg": false
  }
 },
 "nbformat": 4,
 "nbformat_minor": 4
}
